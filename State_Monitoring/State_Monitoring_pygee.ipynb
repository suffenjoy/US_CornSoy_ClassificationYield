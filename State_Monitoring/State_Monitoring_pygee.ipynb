{
 "cells": [
  {
   "cell_type": "code",
   "execution_count": 70,
   "metadata": {},
   "outputs": [
    {
     "data": {
      "text/html": [
       "<p>To authorize access needed by Earth Engine, open the following\n",
       "        URL in a web browser and follow the instructions:</p>\n",
       "        <p><a href=https://code.earthengine.google.com/client-auth?scopes=https%3A//www.googleapis.com/auth/earthengine%20https%3A//www.googleapis.com/auth/devstorage.full_control&request_id=HHlToPgu3q2prfX87stJ4C5_K_79NdERnBEFuKL1FNs&tc=3AgPDSkLXf8gazZad8WDIBLDhle7_AxZTtahEEXQzDo&cc=rk1EAh3Qff6QrD1FgIulAAdBEcE8WQ_wjU69x-NsSLQ>https://code.earthengine.google.com/client-auth?scopes=https%3A//www.googleapis.com/auth/earthengine%20https%3A//www.googleapis.com/auth/devstorage.full_control&request_id=HHlToPgu3q2prfX87stJ4C5_K_79NdERnBEFuKL1FNs&tc=3AgPDSkLXf8gazZad8WDIBLDhle7_AxZTtahEEXQzDo&cc=rk1EAh3Qff6QrD1FgIulAAdBEcE8WQ_wjU69x-NsSLQ</a></p>\n",
       "        <p>The authorization workflow will generate a code, which you should paste in the box below.</p>\n",
       "        "
      ],
      "text/plain": [
       "<IPython.core.display.HTML object>"
      ]
     },
     "metadata": {},
     "output_type": "display_data"
    },
    {
     "name": "stdout",
     "output_type": "stream",
     "text": [
      "\n",
      "Successfully saved authorization token.\n"
     ]
    }
   ],
   "source": [
    "import ee\n",
    "\n",
    "# Trigger the authentication flow.\n",
    "ee.Authenticate()\n",
    "\n",
    "# Initialize the library.\n",
    "ee.Initialize()"
   ]
  },
  {
   "cell_type": "code",
   "execution_count": 71,
   "metadata": {},
   "outputs": [],
   "source": [
    "import ee"
   ]
  },
  {
   "cell_type": "code",
   "execution_count": 72,
   "metadata": {},
   "outputs": [],
   "source": [
    "import os\n",
    "import pandas as pd\n",
    "import sys\n",
    "import glob\n",
    "import numpy as np\n",
    "import matplotlib.pyplot as plt"
   ]
  },
  {
   "cell_type": "code",
   "execution_count": 73,
   "metadata": {},
   "outputs": [],
   "source": [
    "from utils_pygee import *"
   ]
  },
  {
   "cell_type": "code",
   "execution_count": 74,
   "metadata": {},
   "outputs": [],
   "source": [
    "from importlib import reload\n",
    "reload(sys.modules['utils_pygee'])\n",
    "from utils_pygee import *"
   ]
  },
  {
   "cell_type": "markdown",
   "metadata": {},
   "source": [
    "# Parameters"
   ]
  },
  {
   "cell_type": "code",
   "execution_count": 75,
   "metadata": {},
   "outputs": [],
   "source": [
    "States = ee.FeatureCollection(\"TIGER/2018/States\")\n",
    "US_States = States.filter(ee.Filter.inList('NAME', ['North Dakota', 'South Dakota', 'Nebraska', 'Kansas', 'Iowa', 'Missouri', 'Illinois', 'Indiana', 'Ohio']))\n",
    "#US_States = States.filter(ee.Filter.inList('NAME', ['North Dakota', 'South Dakota']))"
   ]
  },
  {
   "cell_type": "code",
   "execution_count": 76,
   "metadata": {},
   "outputs": [],
   "source": [
    "state = US_States.filter(ee.Filter.eq('NAME', 'Illinois'))\n",
    "# Define a small rectangle within Illinois for testing\n",
    "test_region = ee.Geometry.Rectangle([-89.5, 39.5, -88.5, 40.5])  # Define the rectangle by [minLon, minLat, maxLon, maxLat]"
   ]
  },
  {
   "cell_type": "code",
   "execution_count": 77,
   "metadata": {},
   "outputs": [],
   "source": [
    "# start end date\n",
    "start_date = '2021-01-01'\n",
    "end_date = '2023-11-01'"
   ]
  },
  {
   "cell_type": "markdown",
   "metadata": {},
   "source": [
    "# Dataset"
   ]
  },
  {
   "cell_type": "code",
   "execution_count": 24,
   "metadata": {},
   "outputs": [],
   "source": [
    "#https://developers.google.com/earth-engine/datasets/catalog/MODIS_061_MCD15A3H\n",
    "FparLai_collection = (ee.ImageCollection('MODIS/061/MCD15A3H')\n",
    "                  .filterDate(ee.Date(start_date), ee.Date(end_date)))"
   ]
  },
  {
   "cell_type": "code",
   "execution_count": 60,
   "metadata": {},
   "outputs": [],
   "source": [
    "#https://developers.google.com/earth-engine/datasets/catalog/MODIS_061_MCD43A4\n",
    "modis_collection = (ee.ImageCollection('MODIS/061/MCD43A4')\n",
    "                     .filterDate(ee.Date(start_date), ee.Date(end_date)))"
   ]
  },
  {
   "cell_type": "code",
   "execution_count": 11,
   "metadata": {},
   "outputs": [],
   "source": [
    "#https://developers.google.com/earth-engine/datasets/catalog/NOAA_CFSV2_FOR6H#description\n",
    "cfsv2_collection = (ee.ImageCollection('NOAA/CFSV2/FOR6H')\n",
    "                        .filterDate(ee.Date(start_date), ee.Date(end_date)))"
   ]
  },
  {
   "cell_type": "markdown",
   "metadata": {},
   "source": [
    "# For loop for small peroiods for cfsv2 collection"
   ]
  },
  {
   "cell_type": "code",
   "execution_count": 79,
   "metadata": {},
   "outputs": [
    {
     "name": "stdout",
     "output_type": "stream",
     "text": [
      "2022-01-01 00:00:00 2022-07-01 00:00:00\n",
      "--------------------North Dakota--------------------\n",
      "Tmax done\n",
      "Tmin done\n",
      "Soil Moisture 5cm done\n",
      "Soil Moisture 25cm done\n",
      "Precipitation done\n",
      "--------------------South Dakota--------------------\n",
      "Tmax done\n",
      "Tmin done\n",
      "Soil Moisture 5cm done\n",
      "Soil Moisture 25cm done\n",
      "Precipitation done\n",
      "--------------------Nebraska--------------------\n",
      "Tmax done\n",
      "Tmin done\n",
      "Soil Moisture 5cm done\n",
      "Soil Moisture 25cm done\n",
      "Precipitation done\n",
      "--------------------Kansas--------------------\n",
      "Tmax done\n",
      "Tmin done\n",
      "Soil Moisture 5cm done\n",
      "Soil Moisture 25cm done\n",
      "Precipitation done\n",
      "--------------------Iowa--------------------\n",
      "Tmax done\n",
      "Tmin done\n",
      "Soil Moisture 5cm done\n",
      "Soil Moisture 25cm done\n",
      "Precipitation done\n",
      "--------------------Missouri--------------------\n",
      "Tmax done\n",
      "Tmin done\n",
      "Soil Moisture 5cm done\n",
      "Soil Moisture 25cm done\n",
      "Precipitation done\n",
      "--------------------Illinois--------------------\n",
      "Tmax done\n",
      "Tmin done\n",
      "Soil Moisture 5cm done\n",
      "Soil Moisture 25cm done\n",
      "Precipitation done\n",
      "--------------------Indiana--------------------\n",
      "Tmax done\n",
      "Tmin done\n",
      "Soil Moisture 5cm done\n",
      "Soil Moisture 25cm done\n",
      "Precipitation done\n",
      "--------------------Ohio--------------------\n",
      "Tmax done\n",
      "Tmin done\n",
      "Soil Moisture 5cm done\n",
      "Soil Moisture 25cm done\n",
      "Precipitation done\n",
      "2022-07-01 00:00:00 2023-01-01 00:00:00\n",
      "--------------------North Dakota--------------------\n",
      "Tmax done\n",
      "Tmin done\n",
      "Soil Moisture 5cm done\n",
      "Soil Moisture 25cm done\n",
      "Precipitation done\n",
      "--------------------South Dakota--------------------\n",
      "Tmax done\n",
      "Tmin done\n",
      "Soil Moisture 5cm done\n",
      "Soil Moisture 25cm done\n",
      "Precipitation done\n",
      "--------------------Nebraska--------------------\n",
      "Tmax done\n",
      "Tmin done\n",
      "Soil Moisture 5cm done\n",
      "Soil Moisture 25cm done\n",
      "Precipitation done\n",
      "--------------------Kansas--------------------\n",
      "Tmax done\n",
      "Tmin done\n",
      "Soil Moisture 5cm done\n",
      "Soil Moisture 25cm done\n",
      "Precipitation done\n",
      "--------------------Iowa--------------------\n",
      "Tmax done\n",
      "Tmin done\n",
      "Soil Moisture 5cm done\n",
      "Soil Moisture 25cm done\n",
      "Precipitation done\n",
      "--------------------Missouri--------------------\n",
      "Tmax done\n",
      "Tmin done\n",
      "Soil Moisture 5cm done\n",
      "Soil Moisture 25cm done\n",
      "Precipitation done\n",
      "--------------------Illinois--------------------\n",
      "Tmax done\n",
      "Tmin done\n",
      "Soil Moisture 5cm done\n",
      "Soil Moisture 25cm done\n",
      "Precipitation done\n",
      "--------------------Indiana--------------------\n",
      "Tmax done\n",
      "Tmin done\n",
      "Soil Moisture 5cm done\n",
      "Soil Moisture 25cm done\n",
      "Precipitation done\n",
      "--------------------Ohio--------------------\n",
      "Tmax done\n",
      "Tmin done\n",
      "Soil Moisture 5cm done\n",
      "Soil Moisture 25cm done\n",
      "Precipitation done\n",
      "2023-01-01 00:00:00 2023-07-01 00:00:00\n",
      "--------------------North Dakota--------------------\n",
      "Tmax done\n",
      "Tmin done\n",
      "Soil Moisture 5cm done\n",
      "Soil Moisture 25cm done\n",
      "Precipitation done\n",
      "--------------------South Dakota--------------------\n",
      "Tmax done\n",
      "Tmin done\n",
      "Soil Moisture 5cm done\n",
      "Soil Moisture 25cm done\n",
      "Precipitation done\n",
      "--------------------Nebraska--------------------\n",
      "Tmax done\n",
      "Tmin done\n",
      "Soil Moisture 5cm done\n",
      "Soil Moisture 25cm done\n",
      "Precipitation done\n",
      "--------------------Kansas--------------------\n",
      "Tmax done\n",
      "Tmin done\n",
      "Soil Moisture 5cm done\n",
      "Soil Moisture 25cm done\n",
      "Precipitation done\n",
      "--------------------Iowa--------------------\n",
      "Tmax done\n",
      "Tmin done\n",
      "Soil Moisture 5cm done\n",
      "Soil Moisture 25cm done\n",
      "Precipitation done\n",
      "--------------------Missouri--------------------\n",
      "Tmax done\n",
      "Tmin done\n",
      "Soil Moisture 5cm done\n",
      "Soil Moisture 25cm done\n",
      "Precipitation done\n",
      "--------------------Illinois--------------------\n",
      "Tmax done\n",
      "Tmin done\n",
      "Soil Moisture 5cm done\n",
      "Soil Moisture 25cm done\n",
      "Precipitation done\n",
      "--------------------Indiana--------------------\n",
      "Tmax done\n",
      "Tmin done\n",
      "Soil Moisture 5cm done\n",
      "Soil Moisture 25cm done\n",
      "Precipitation done\n",
      "--------------------Ohio--------------------\n",
      "Tmax done\n",
      "Tmin done\n",
      "Soil Moisture 5cm done\n",
      "Soil Moisture 25cm done\n",
      "Precipitation done\n"
     ]
    }
   ],
   "source": [
    "# Generate sdate and edate, which is Every 6 months from 2003-01-01 to 2023-01-01\n",
    "start_date = '2022-01-01'\n",
    "end_date = '2023-01-01'\n",
    "sdates = pd.date_range(start_date, end_date, freq='6MS')\n",
    "#edate = pd.date_range(start_date, end_date, freq='6M')\n",
    "\n",
    "#print(edate)\n",
    "for sdate in sdates:\n",
    "    edate = sdate + pd.DateOffset(months=6)\n",
    "    print(sdate,edate)\n",
    "    cfsv2_collection = (ee.ImageCollection('NOAA/CFSV2/FOR6H')\n",
    "                        .filterDate(ee.Date(sdate), ee.Date(edate)))\n",
    "    cfsv2_masked = cfsv2_collection.map(mask_noncrop)\n",
    "    cfsv2_filtered = cfsv2_masked\n",
    "\n",
    "    State_list = ['North Dakota', 'South Dakota', 'Nebraska', 'Kansas', 'Iowa', 'Missouri', 'Illinois', 'Indiana', 'Ohio']\n",
    "    for state in State_list:\n",
    "        print(\"--------------------{}--------------------\".format(state))\n",
    "        aoi = States.filter(ee.Filter.eq('NAME', state))\n",
    "        generate_ts_df(cfsv2_filtered, aoi, 'Maximum_temperature_height_above_ground_6_Hour_Interval', freq='1M', func= \"median\",Output=True, dir_out=r\"A:\\US_CornSoy_ClassificationYield\\GEEData\\State_Monitor\")\n",
    "        print(\"Tmax done\")\n",
    "        generate_ts_df(cfsv2_filtered, aoi, 'Minimum_temperature_height_above_ground_6_Hour_Interval', freq='1M', func = \"median\",Output=True, dir_out=r\"A:\\US_CornSoy_ClassificationYield\\GEEData\\State_Monitor\")\n",
    "        print(\"Tmin done\")\n",
    "        generate_ts_df(cfsv2_filtered, aoi, 'Volumetric_Soil_Moisture_Content_depth_below_surface_layer_5_cm', freq='1M', func = \"median\",Output=True, dir_out=r\"A:\\US_CornSoy_ClassificationYield\\GEEData\\State_Monitor\")\n",
    "        print(\"Soil Moisture 5cm done\")\n",
    "        generate_ts_df(cfsv2_filtered, aoi, 'Volumetric_Soil_Moisture_Content_depth_below_surface_layer_25_cm', freq='1M',func = \"median\", Output=True, dir_out=r\"A:\\US_CornSoy_ClassificationYield\\GEEData\\State_Monitor\")\n",
    "        print(\"Soil Moisture 25cm done\")\n",
    "        generate_ts_df(cfsv2_filtered, aoi, 'Precipitation_rate_surface_6_Hour_Average', freq='1M', func = \"sum\",Output=True, dir_out=r\"A:\\US_CornSoy_ClassificationYield\\GEEData\\State_Monitor\")\n",
    "        print(\"Precipitation done\")\n"
   ]
  },
  {
   "cell_type": "markdown",
   "metadata": {},
   "source": [
    "# Preprocess"
   ]
  },
  {
   "cell_type": "markdown",
   "metadata": {},
   "source": [
    "## Apply Non-crop mask"
   ]
  },
  {
   "cell_type": "code",
   "execution_count": 25,
   "metadata": {},
   "outputs": [],
   "source": [
    "FparLai_masked = FparLai_collection.map(mask_noncrop)\n",
    "FparLai_filtered = FparLai_masked.map(lambda image: QAfilter(image, 'FparLai_QC', 0, 0))"
   ]
  },
  {
   "cell_type": "code",
   "execution_count": 61,
   "metadata": {},
   "outputs": [],
   "source": [
    "modis_masked = modis_collection.map(mask_noncrop)\n",
    "modis_filtered = modis_masked.map(lambda image: QAfilter(image, 'BRDF_Albedo_Band_Mandatory_Quality_Band1', 0, 0))"
   ]
  },
  {
   "cell_type": "code",
   "execution_count": 14,
   "metadata": {},
   "outputs": [],
   "source": [
    "cfsv2_masked = cfsv2_collection.map(mask_noncrop)\n",
    "cfsv2_filtered = cfsv2_masked # There is no quality band for CFSV2"
   ]
  },
  {
   "cell_type": "markdown",
   "metadata": {},
   "source": [
    "## Add VIs"
   ]
  },
  {
   "cell_type": "code",
   "execution_count": 62,
   "metadata": {},
   "outputs": [],
   "source": [
    "modis_filtered = modis_filtered.map(addNDVI_MODIS)\n",
    "modis_filtered = modis_filtered.map(addEVI_MODIS)"
   ]
  },
  {
   "cell_type": "markdown",
   "metadata": {},
   "source": [
    "# Extract time series"
   ]
  },
  {
   "cell_type": "markdown",
   "metadata": {},
   "source": [
    "## CFSV2 \n",
    "Due to its 6-hour frequency, it requires longer time to run and needs to reduce start and end date interval to avoid computational overload"
   ]
  },
  {
   "cell_type": "code",
   "execution_count": null,
   "metadata": {},
   "outputs": [],
   "source": [
    "State_list = ['North Dakota', 'South Dakota', 'Nebraska', 'Kansas', 'Iowa', 'Missouri', 'Illinois', 'Indiana', 'Ohio']\n",
    "for state in State_list:\n",
    "    print(\"--------------------{}--------------------\".format(state))\n",
    "    aoi = States.filter(ee.Filter.eq('NAME', state))\n",
    "    generate_ts_df(cfsv2_filtered, aoi, 'Maximum_temperature_height_above_ground_6_Hour_Interval', freq='1M', func= \"median\",Output=True, dir_out=r\"A:\\US_CornSoy_ClassificationYield\\GEEData\\State_Monitor\")\n",
    "    print(\"Tmax done\")\n",
    "    generate_ts_df(cfsv2_filtered, aoi, 'Minimum_temperature_height_above_ground_6_Hour_Interval', freq='1M', func = \"median\",Output=True, dir_out=r\"A:\\US_CornSoy_ClassificationYield\\GEEData\\State_Monitor\")\n",
    "    print(\"Tmin done\")\n",
    "    generate_ts_df(cfsv2_filtered, aoi, 'Volumetric_Soil_Moisture_Content_depth_below_surface_layer_5_cm', freq='1M', func = \"median\",Output=True, dir_out=r\"A:\\US_CornSoy_ClassificationYield\\GEEData\\State_Monitor\")\n",
    "    print(\"Soil Moisture 5cm done\")\n",
    "    generate_ts_df(cfsv2_filtered, aoi, 'Volumetric_Soil_Moisture_Content_depth_below_surface_layer_25_cm', freq='1M',func = \"median\", Output=True, dir_out=r\"A:\\US_CornSoy_ClassificationYield\\GEEData\\State_Monitor\")\n",
    "    print(\"Soil Moisture 25cm done\")\n",
    "    generate_ts_df(cfsv2_filtered, aoi, 'Precipitation_rate_surface_6_Hour_Average', freq='1M', func = \"sum\",Output=True, dir_out=r\"A:\\US_CornSoy_ClassificationYield\\GEEData\\State_Monitor\")\n",
    "    print(\"Precipitation done\")\n",
    "    "
   ]
  },
  {
   "cell_type": "markdown",
   "metadata": {},
   "source": [
    "## MODIS VIs"
   ]
  },
  {
   "cell_type": "code",
   "execution_count": 63,
   "metadata": {},
   "outputs": [
    {
     "name": "stdout",
     "output_type": "stream",
     "text": [
      "--------------------North Dakota--------------------\n",
      "NDVI done\n",
      "EVI done\n",
      "--------------------South Dakota--------------------\n",
      "NDVI done\n",
      "EVI done\n",
      "--------------------Nebraska--------------------\n",
      "NDVI done\n",
      "EVI done\n",
      "--------------------Kansas--------------------\n",
      "NDVI done\n",
      "EVI done\n",
      "--------------------Iowa--------------------\n",
      "NDVI done\n",
      "EVI done\n",
      "--------------------Missouri--------------------\n",
      "NDVI done\n",
      "EVI done\n",
      "--------------------Illinois--------------------\n",
      "NDVI done\n",
      "EVI done\n",
      "--------------------Indiana--------------------\n",
      "NDVI done\n",
      "EVI done\n",
      "--------------------Ohio--------------------\n",
      "NDVI done\n",
      "EVI done\n"
     ]
    }
   ],
   "source": [
    "State_list = ['North Dakota', 'South Dakota', 'Nebraska', 'Kansas', 'Iowa', 'Missouri', 'Illinois', 'Indiana', 'Ohio']\n",
    "for state in State_list:\n",
    "    print(\"--------------------{}--------------------\".format(state))\n",
    "    aoi = States.filter(ee.Filter.eq('NAME', state))\n",
    "    generate_ts_df(modis_filtered, aoi, 'NDVI', freq='1M', func= \"median\", Output = True, dir_out = r\"A:\\US_CornSoy_ClassificationYield\\GEEData\\State_Monitor\")\n",
    "    print('NDVI done')\n",
    "    generate_ts_df(modis_filtered, aoi, 'EVI', freq='1M', func = \"median\", Output = True, dir_out = r\"A:\\US_CornSoy_ClassificationYield\\GEEData\\State_Monitor\")\n",
    "    print('EVI done')"
   ]
  },
  {
   "cell_type": "markdown",
   "metadata": {},
   "source": [
    "## LAI and FPAR"
   ]
  },
  {
   "cell_type": "code",
   "execution_count": 26,
   "metadata": {},
   "outputs": [
    {
     "name": "stdout",
     "output_type": "stream",
     "text": [
      "--------------------North Dakota--------------------\n",
      "Lai done\n",
      "Fpar done\n",
      "--------------------South Dakota--------------------\n",
      "Lai done\n",
      "Fpar done\n",
      "--------------------Nebraska--------------------\n",
      "Lai done\n",
      "Fpar done\n",
      "--------------------Kansas--------------------\n",
      "Lai done\n",
      "Fpar done\n",
      "--------------------Iowa--------------------\n",
      "Lai done\n",
      "Fpar done\n",
      "--------------------Missouri--------------------\n",
      "Lai done\n",
      "Fpar done\n",
      "--------------------Illinois--------------------\n",
      "Lai done\n",
      "Fpar done\n",
      "--------------------Indiana--------------------\n",
      "Lai done\n",
      "Fpar done\n",
      "--------------------Ohio--------------------\n",
      "Lai done\n",
      "Fpar done\n"
     ]
    }
   ],
   "source": [
    "State_list = ['North Dakota', 'South Dakota', 'Nebraska', 'Kansas', 'Iowa', 'Missouri', 'Illinois', 'Indiana', 'Ohio']\n",
    "for state in State_list:\n",
    "    print(\"--------------------{}--------------------\".format(state))\n",
    "    aoi = States.filter(ee.Filter.eq('NAME', state))\n",
    "    generate_ts_df(FparLai_filtered, aoi, 'Lai', freq='1M', func= \"median\", Output = True, dir_out = r\"A:\\US_CornSoy_ClassificationYield\\GEEData\\State_Monitor\")\n",
    "    print('Lai done')\n",
    "    generate_ts_df(FparLai_filtered, aoi, 'Fpar', freq='1M', func = \"median\", Output = True, dir_out = r\"A:\\US_CornSoy_ClassificationYield\\GEEData\\State_Monitor\")\n",
    "    print('Fpar done')"
   ]
  }
 ],
 "metadata": {
  "kernelspec": {
   "display_name": "ET_Project",
   "language": "python",
   "name": "python3"
  },
  "language_info": {
   "codemirror_mode": {
    "name": "ipython",
    "version": 3
   },
   "file_extension": ".py",
   "mimetype": "text/x-python",
   "name": "python",
   "nbconvert_exporter": "python",
   "pygments_lexer": "ipython3",
   "version": "3.7.12"
  }
 },
 "nbformat": 4,
 "nbformat_minor": 2
}
