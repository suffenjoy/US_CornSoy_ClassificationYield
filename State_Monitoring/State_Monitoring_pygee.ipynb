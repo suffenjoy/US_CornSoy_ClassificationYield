{
 "cells": [
  {
   "cell_type": "code",
   "execution_count": 1,
   "metadata": {},
   "outputs": [
    {
     "data": {
      "text/html": [
       "<p>To authorize access needed by Earth Engine, open the following\n",
       "        URL in a web browser and follow the instructions:</p>\n",
       "        <p><a href=https://code.earthengine.google.com/client-auth?scopes=https%3A//www.googleapis.com/auth/earthengine%20https%3A//www.googleapis.com/auth/devstorage.full_control&request_id=TkRBqMGIaC8EabxqSaQDfZbOsj1MZk3g4r-fhM4EjJU&tc=MgvqYWoxWZFJhUiAGm3BvMWTkL2Om1X3IGDY_8P_mlg&cc=nvpn4cTdehVZKCOpa0ZL6xHDTEsNXRiiUoo3ewu1YUI>https://code.earthengine.google.com/client-auth?scopes=https%3A//www.googleapis.com/auth/earthengine%20https%3A//www.googleapis.com/auth/devstorage.full_control&request_id=TkRBqMGIaC8EabxqSaQDfZbOsj1MZk3g4r-fhM4EjJU&tc=MgvqYWoxWZFJhUiAGm3BvMWTkL2Om1X3IGDY_8P_mlg&cc=nvpn4cTdehVZKCOpa0ZL6xHDTEsNXRiiUoo3ewu1YUI</a></p>\n",
       "        <p>The authorization workflow will generate a code, which you should paste in the box below.</p>\n",
       "        "
      ],
      "text/plain": [
       "<IPython.core.display.HTML object>"
      ]
     },
     "metadata": {},
     "output_type": "display_data"
    },
    {
     "name": "stdout",
     "output_type": "stream",
     "text": [
      "\n",
      "Successfully saved authorization token.\n"
     ]
    },
    {
     "name": "stderr",
     "output_type": "stream",
     "text": [
      "*** Earth Engine *** Share your feedback by taking our Annual Developer Satisfaction Survey: https://google.qualtrics.com/jfe/form/SV_doiqkQG3NJ1t8IS?source=API\n"
     ]
    }
   ],
   "source": [
    "import ee\n",
    "\n",
    "# Trigger the authentication flow.\n",
    "ee.Authenticate()\n",
    "\n",
    "# Initialize the library.\n",
    "ee.Initialize()"
   ]
  },
  {
   "cell_type": "code",
   "execution_count": 18,
   "metadata": {},
   "outputs": [],
   "source": [
    "import ee"
   ]
  },
  {
   "cell_type": "code",
   "execution_count": 12,
   "metadata": {},
   "outputs": [],
   "source": [
    "import os\n",
    "import pandas as pd\n",
    "import sys"
   ]
  },
  {
   "cell_type": "code",
   "execution_count": 3,
   "metadata": {},
   "outputs": [],
   "source": [
    "from utils_pygee import *"
   ]
  },
  {
   "cell_type": "code",
   "execution_count": 40,
   "metadata": {},
   "outputs": [],
   "source": [
    "from importlib import reload\n",
    "reload(sys.modules['utils_pygee'])\n",
    "from utils_pygee import *"
   ]
  },
  {
   "cell_type": "markdown",
   "metadata": {},
   "source": [
    "# Functions"
   ]
  },
  {
   "cell_type": "code",
   "execution_count": 340,
   "metadata": {},
   "outputs": [],
   "source": [
    "def ee_array_to_df(arr, list_of_bands):\n",
    "    \"\"\"\n",
    "    Transforms client-side ee.Image.getRegion array to pandas.DataFrame.\n",
    "    \"\"\"\n",
    "    df = pd.DataFrame(arr)\n",
    "\n",
    "    # Rearrange the header.\n",
    "    headers = df.iloc[0]\n",
    "    df = pd.DataFrame(df.values[1:], columns=headers)\n",
    "\n",
    "    # Remove rows without data inside.\n",
    "    df = df[['longitude', 'latitude', 'time', *list_of_bands]].dropna()\n",
    "\n",
    "    # Convert the data to numeric values.\n",
    "    for band in list_of_bands:\n",
    "        df[band] = pd.to_numeric(df[band], errors='coerce')\n",
    "\n",
    "    # Convert the time field into a datetime.\n",
    "    df['datetime'] = pd.to_datetime(df['time'], unit='ms')\n",
    "\n",
    "    # Keep the columns of interest.\n",
    "    df = df[['time','datetime',  *list_of_bands]]\n",
    "\n",
    "    return df"
   ]
  },
  {
   "cell_type": "code",
   "execution_count": 341,
   "metadata": {},
   "outputs": [],
   "source": [
    "def mask_bits(image_qa, fromBit, toBit):\n",
    "    def bitwiseExtract(value, fromBit, toBit):\n",
    "        # if (toBit == frombit):\n",
    "        #     toBit = fromBit\n",
    "        maskSize = ee.Number(1).add(toBit).subtract(fromBit)\n",
    "        mask = ee.Number(1).leftShift(maskSize).subtract(1)\n",
    "        return value.rightShift(fromBit).bitwiseAnd(mask)\n",
    "    good_qa = bitwiseExtract(image_qa, fromBit, toBit)\n",
    "    return image_qa.updateMask(good_qa)"
   ]
  },
  {
   "cell_type": "code",
   "execution_count": 342,
   "metadata": {},
   "outputs": [],
   "source": [
    "def QAfilter(image, QA_band, fromBit, toBit):\n",
    "    #quality band \n",
    "    qaband = image.select(QA_band)\n",
    "    #good quality image\n",
    "    good = mask_bits(qaband, fromBit, toBit)\n",
    "    return image.updateMask(good)\n",
    "    "
   ]
  },
  {
   "cell_type": "code",
   "execution_count": 343,
   "metadata": {},
   "outputs": [],
   "source": [
    "def mask_noncrop(image):\n",
    "    \"\"\"\n",
    "    Masks non-crop pixels from the input imag using the MODIS landcover dataset.\n",
    "    https://developers.google.com/earth-engine/datasets/catalog/MODIS_061_MCD12Q1\n",
    "    \"\"\"\n",
    "    year = image.date().get('year')\n",
    "    year = ee.Number(image.date().get('year')).max(2001).min(2022) # The landcover dataset is 2001-2022\n",
    "\n",
    "    landcover_collection = ee.ImageCollection('MODIS/061/MCD12Q1').select('LC_Type1')\n",
    "    landcover = landcover_collection.filter(ee.Filter.calendarRange(year, year, 'year')).first()\n",
    "    \n",
    "    #crop_mask = landcover.gte(12).And(landcover.lte(14))\n",
    "    crop_mask = landcover.eq(12) \n",
    "    return image.updateMask(crop_mask)"
   ]
  },
  {
   "cell_type": "code",
   "execution_count": 344,
   "metadata": {},
   "outputs": [],
   "source": [
    "# Function to mask cloudy pixels for MCD43A4\n",
    "def maskClouds_MODIS_Ref(image):\n",
    "    qa = image.select('Nadir_Reflectance_Band1').select('SummaryQA')\n",
    "    cloudBitMask = 1 << 10\n",
    "    cirrusBitMask = 1 << 11\n",
    "    mask = qa.bitwiseAnd(cloudBitMask).eq(0).And(qa.bitwiseAnd(cirrusBitMask).eq(0))\n",
    "    return image.updateMask(mask)"
   ]
  },
  {
   "cell_type": "code",
   "execution_count": 345,
   "metadata": {},
   "outputs": [],
   "source": [
    "# Function to mask cloudy pixels for MCD15A3H\n",
    "def maskClouds_MODIS_LAI(image):\n",
    "    qa = image.select('Lai_500m').select('FparLai_QC')\n",
    "    cloudBitMask = 1 << 0\n",
    "    mask = qa.bitwiseAnd(cloudBitMask).eq(0)\n",
    "    return image.updateMask(mask)"
   ]
  },
  {
   "cell_type": "code",
   "execution_count": 346,
   "metadata": {},
   "outputs": [],
   "source": [
    "# Function to calculate NDVI for MCD43A4\n",
    "def addNDVI_MODIS(image):\n",
    "    ndvi = image.normalizedDifference(['Nadir_Reflectance_Band2', 'Nadir_Reflectance_Band1']).rename('NDVI')\n",
    "    return image.addBands(ndvi)\n",
    "# Function to calculate EVI for MCD43A4\n",
    "def addEVI_MODIS(image):\n",
    "    evi = image.expression('2.5 * ((NIR - RED) / (NIR + 6 * RED - 7.5 * BLUE + 1))', {\n",
    "        'NIR': image.select('Nadir_Reflectance_Band2'),\n",
    "        'RED': image.select('Nadir_Reflectance_Band1'),\n",
    "        'BLUE': image.select('Nadir_Reflectance_Band3')\n",
    "    }).rename('EVI')\n",
    "    return image.addBands(evi)"
   ]
  },
  {
   "cell_type": "code",
   "execution_count": 347,
   "metadata": {},
   "outputs": [],
   "source": [
    "# Extract time series data\n",
    "def extract_time_series(image, aoi, var):\n",
    "    image = image.select(var)\n",
    "    mean_var = image.reduceRegion(reducer=ee.Reducer.mean(), geometry=aoi, scale=500)\n",
    "    return ee.Feature(None, {'date': image.date().format(), 'mean_{}'.format(var): mean_var.get(var)})"
   ]
  },
  {
   "cell_type": "code",
   "execution_count": 348,
   "metadata": {},
   "outputs": [],
   "source": [
    "# Convert time series data to pandas dataframe\n",
    "def eets_to_df(eets_dict, var):\n",
    "    features = eets_dict['features']\n",
    "    dates = []\n",
    "    mean_var = []\n",
    "    for feature in features:\n",
    "        properties = feature['properties']\n",
    "        date = properties.get('date', None)\n",
    "        mean = properties.get('mean_{}'.format(var), None)\n",
    "        # Only append to lists if date and mean are not None\n",
    "        if date:\n",
    "            dates.append(date)\n",
    "            mean_var.append(mean if mean is not None else float('NaN'))\n",
    "    df = pd.DataFrame({'date': dates, 'mean_{}'.format(var): mean_var})\n",
    "    # Scale the mean_var if var is Lai or Fpar\n",
    "    if var == 'Lai':\n",
    "        df['mean_{}'.format(var)] = df['mean_{}'.format(var)] * 0.1\n",
    "    if var == 'Fpar':\n",
    "        df['mean_{}'.format(var)] = df['mean_{}'.format(var)] * 0.01\n",
    "    \n",
    "    return df"
   ]
  },
  {
   "cell_type": "code",
   "execution_count": 349,
   "metadata": {},
   "outputs": [],
   "source": [
    "# Aggregate time series data to a longer time interval, e.g. monthly, using pandas \n",
    "def agg_ts(df, freq='1M'):\n",
    "    df['date'] = pd.to_datetime(df['date'])\n",
    "    df = df.set_index('date')\n",
    "    df = df.resample(freq).median()\n",
    "    df = df.reset_index()\n",
    "    return df"
   ]
  },
  {
   "cell_type": "code",
   "execution_count": 350,
   "metadata": {},
   "outputs": [],
   "source": [
    "def generate_ts_df(image_collection, aoi, var, freq='1M', Output=False, dir_out=None, aoi_name=None):\n",
    "    \"\"\"\n",
    "    Generate time series data for a given image collection, aoi, and variable.\n",
    "    \"\"\"\n",
    "    var_ee = ee.String(var)\n",
    "    freq_ee = ee.String(freq)\n",
    "    \n",
    "    eets = image_collection.map(lambda image: extract_time_series(image, aoi, var_ee))\n",
    "    \n",
    "    if Output:\n",
    "        # If aoi_name is not provided as an argument, then fetch it\n",
    "        if not aoi_name:\n",
    "            aoi_name = aoi.getInfo()['features'][0]['properties']['NAME']\n",
    "        \n",
    "        # Fetch both dates in a single call to getInfo()\n",
    "        date_range = ee.Dictionary({\n",
    "            'start': ee.Date(image_collection.first().get('system:time_start')).format('YYYYMM'),\n",
    "            'end': ee.Date(image_collection.sort('system:time_end', False).first().get('system:time_end')).format('YYYYMM')\n",
    "        }).getInfo()\n",
    "        \n",
    "        sdate = date_range['start']\n",
    "        edate = date_range['end']\n",
    "        \n",
    "        eets_dict = eets.getInfo()\n",
    "        df = eets_to_df(eets_dict, var)\n",
    "        df = agg_ts(df, freq)\n",
    "        df['Month'] = df['date'].dt.month\n",
    "        df['Year'] = df['date'].dt.year\n",
    "        \n",
    "        out_name = '{}_{}_{}_{}_{}.csv'.format(aoi_name, var, sdate, edate, freq)\n",
    "        df.to_csv(os.path.join(dir_out, out_name), index=False)\n",
    "        return df\n",
    "    else:\n",
    "        return eets\n"
   ]
  },
  {
   "cell_type": "code",
   "execution_count": 353,
   "metadata": {},
   "outputs": [],
   "source": [
    "def generate_ts_df(image_collection, aoi, var, freq='1M', Output = False, dir_out = None):\n",
    "    \"\"\"\n",
    "    Generate time series data for a given image collection, aoi, and variable.\n",
    "    \"\"\"\n",
    "    # var_ee = ee.String(var)\n",
    "    # aoi = aoi.geometry()\n",
    "    \n",
    "    freq_ee = ee.String(freq)\n",
    "    eets = image_collection.map(lambda image: extract_time_series(image, aoi, var))\n",
    "    eets_dict = eets.getInfo()\n",
    "    df = eets_to_df(eets_dict, var)\n",
    "    df = agg_ts(df, freq)\n",
    "    df['Month'] = df['date'].dt.month\n",
    "    df['Year'] = df['date'].dt.year\n",
    "\n",
    "    # Output name \n",
    "    aoi_name = aoi.getInfo()['features'][0]['properties']['NAME']\n",
    "    sdate = df['date'].min().strftime('%Y%m')\n",
    "    edate = df['date'].max().strftime('%Y%m')\n",
    "    out_name = '{}_{}_{}_{}_{}.csv'.format(aoi_name, var, sdate, edate, freq)\n",
    "    if Output:\n",
    "        df.to_csv(os.path.join(dir_out, out_name), index=False)\n",
    "    return df"
   ]
  },
  {
   "cell_type": "code",
   "execution_count": 351,
   "metadata": {},
   "outputs": [],
   "source": [
    "def agg_eets(collection, interval_type, value=30):\n",
    "    # Calculate the start and end dates of the collection\n",
    "    start_date = ee.Date(collection.first().get('system:time_start'))\n",
    "    end_date = ee.Date(collection.sort('system:time_start', False).first().get('system:time_start'))\n",
    "\n",
    "    if interval_type == \"days\":\n",
    "        # Create a list of start times for each interval based on days\n",
    "        range_list = ee.List.sequence(0, end_date.difference(start_date, 'day'), value)\n",
    "\n",
    "        def aggregate_by_day_interval(n):\n",
    "            start = start_date.advance(n, 'day')\n",
    "            end = start.advance(value, 'day')\n",
    "            interval_images = collection.filterDate(start, end)\n",
    "            return interval_images.mean().set('start_date', start).set('end_date', end)\n",
    "\n",
    "        return range_list.map(aggregate_by_day_interval)\n",
    "\n",
    "    elif interval_type == \"months\":\n",
    "        # Create a list of start months for each interval\n",
    "        num_months = end_date.difference(start_date, 'month').round()\n",
    "        range_list = ee.List.sequence(0, num_months.subtract(1))\n",
    "\n",
    "        def aggregate_by_month(n):\n",
    "            start = start_date.advance(n, 'month')\n",
    "            end = start.advance(1, 'month')\n",
    "            interval_images = collection.filterDate(start, end)\n",
    "            return interval_images.mean().set('start_date', start).set('end_date', end)\n",
    "\n",
    "        return range_list.map(aggregate_by_month)\n",
    "\n",
    "    else:\n",
    "        raise ValueError(\"Invalid interval_type. Choose 'days' or 'months'.\")"
   ]
  },
  {
   "cell_type": "markdown",
   "metadata": {},
   "source": [
    "# Parameters"
   ]
  },
  {
   "cell_type": "code",
   "execution_count": 4,
   "metadata": {},
   "outputs": [],
   "source": [
    "States = ee.FeatureCollection(\"TIGER/2018/States\")\n",
    "US_States = States.filter(ee.Filter.inList('NAME', ['North Dakota', 'South Dakota', 'Nebraska', 'Kansas', 'Iowa', 'Missouri', 'Illinois', 'Indiana', 'Ohio']))\n",
    "#US_States = States.filter(ee.Filter.inList('NAME', ['North Dakota', 'South Dakota']))"
   ]
  },
  {
   "cell_type": "code",
   "execution_count": 5,
   "metadata": {},
   "outputs": [],
   "source": [
    "state = US_States.filter(ee.Filter.eq('NAME', 'Illinois'))\n",
    "# Define a small rectangle within Illinois for testing\n",
    "test_region = ee.Geometry.Rectangle([-89.5, 39.5, -88.5, 40.5])  # Define the rectangle by [minLon, minLat, maxLon, maxLat]"
   ]
  },
  {
   "cell_type": "code",
   "execution_count": 50,
   "metadata": {},
   "outputs": [],
   "source": [
    "# start end date\n",
    "start_date = '2023-01-01'\n",
    "end_date = '2023-10-01'"
   ]
  },
  {
   "cell_type": "markdown",
   "metadata": {},
   "source": [
    "# Dataset"
   ]
  },
  {
   "cell_type": "code",
   "execution_count": 51,
   "metadata": {},
   "outputs": [],
   "source": [
    "#https://developers.google.com/earth-engine/datasets/catalog/MODIS_061_MCD15A3H\n",
    "FparLai_collection = (ee.ImageCollection('MODIS/061/MCD15A3H')\n",
    "                  .filterDate(ee.Date(start_date), ee.Date(end_date)))"
   ]
  },
  {
   "cell_type": "code",
   "execution_count": 52,
   "metadata": {},
   "outputs": [],
   "source": [
    "#https://developers.google.com/earth-engine/datasets/catalog/MODIS_061_MOD13A3\n",
    "modis_collection = (ee.ImageCollection('MODIS/061/MCD43A4')\n",
    "                     .filterDate(ee.Date(start_date), ee.Date(end_date)))"
   ]
  },
  {
   "cell_type": "code",
   "execution_count": 53,
   "metadata": {},
   "outputs": [],
   "source": [
    "cfsv2_collection = (ee.ImageCollection('NOAA/CFSV2/FOR6H')\n",
    "                        .filterDate(ee.Date(start_date), ee.Date(end_date)))"
   ]
  },
  {
   "cell_type": "markdown",
   "metadata": {},
   "source": [
    "# Preprocess"
   ]
  },
  {
   "cell_type": "markdown",
   "metadata": {},
   "source": [
    "## Apply Non-crop mask"
   ]
  },
  {
   "cell_type": "code",
   "execution_count": 54,
   "metadata": {},
   "outputs": [],
   "source": [
    "FparLai_masked = FparLai_collection.map(mask_noncrop)\n",
    "FparLai_filtered = FparLai_masked.map(lambda image: QAfilter(image, 'FparLai_QC', 0, 0))"
   ]
  },
  {
   "cell_type": "code",
   "execution_count": 55,
   "metadata": {},
   "outputs": [],
   "source": [
    "modis_masked = modis_collection.map(mask_noncrop)\n",
    "modis_filtered = modis_masked.map(lambda image: QAfilter(image, 'BRDF_Albedo_Band_Mandatory_Quality_Band1', 0, 0))"
   ]
  },
  {
   "cell_type": "code",
   "execution_count": 56,
   "metadata": {},
   "outputs": [],
   "source": [
    "cfsv2_masked = cfsv2_collection.map(mask_noncrop)\n",
    "cfsv2_filtered = cfsv2_masked # There is no quality band for CFSV2"
   ]
  },
  {
   "cell_type": "markdown",
   "metadata": {},
   "source": [
    "## Add VIs"
   ]
  },
  {
   "cell_type": "code",
   "execution_count": 57,
   "metadata": {},
   "outputs": [],
   "source": [
    "modis_filtered = modis_filtered.map(addNDVI_MODIS)\n",
    "modis_filtered = modis_filtered.map(addEVI_MODIS)"
   ]
  },
  {
   "cell_type": "markdown",
   "metadata": {},
   "source": [
    "# Extract time series"
   ]
  },
  {
   "cell_type": "markdown",
   "metadata": {},
   "source": [
    "## CFSV2"
   ]
  },
  {
   "cell_type": "code",
   "execution_count": 58,
   "metadata": {},
   "outputs": [
    {
     "name": "stdout",
     "output_type": "stream",
     "text": [
      "--------------------North Dakota--------------------\n",
      "--------------------South Dakota--------------------\n",
      "--------------------Nebraska--------------------\n",
      "--------------------Kansas--------------------\n",
      "--------------------Iowa--------------------\n",
      "--------------------Missouri--------------------\n",
      "--------------------Illinois--------------------\n",
      "--------------------Indiana--------------------\n",
      "--------------------Ohio--------------------\n"
     ]
    }
   ],
   "source": [
    "State_list = ['North Dakota', 'South Dakota', 'Nebraska', 'Kansas', 'Iowa', 'Missouri', 'Illinois', 'Indiana', 'Ohio']\n",
    "for state in State_list:\n",
    "    print(\"--------------------{}--------------------\".format(state))\n",
    "    aoi = States.filter(ee.Filter.eq('NAME', state))\n",
    "    generate_ts_df(cfsv2_filtered, aoi, 'Maximum_temperature_height_above_ground_6_Hour_Interval', freq='1M', func= \"median\",Output=True, dir_out=r\"A:\\US_CornSoy_ClassificationYield\\GEEData\\State_Monitor\")\n",
    "    print(\"Tmax done\")\n",
    "    generate_ts_df(cfsv2_filtered, aoi, 'Minimum_temperature_height_above_ground_6_Hour_Interval', freq='1M', func = \"median\",Output=True, dir_out=r\"A:\\US_CornSoy_ClassificationYield\\GEEData\\State_Monitor\")\n",
    "    print(\"Tmin done\")\n",
    "    generate_ts_df(cfsv2_filtered, aoi, 'Volumetric_Soil_Moisture_Content_depth_below_surface_layer_5_cm', freq='1M', func = \"median\",Output=True, dir_out=r\"A:\\US_CornSoy_ClassificationYield\\GEEData\\State_Monitor\")\n",
    "    print(\"Soil Moisture 5cm done\")\n",
    "    generate_ts_df(cfsv2_filtered, aoi, 'Volumetric_Soil_Moisture_Content_depth_below_surface_layer_25_cm', freq='1M',func = \"median\", Output=True, dir_out=r\"A:\\US_CornSoy_ClassificationYield\\GEEData\\State_Monitor\")\n",
    "    print(\"Soil Moisture 25cm done\")\n",
    "    generate_ts_df(cfsv2_filtered, aoi, 'Precipitation_rate_surface_6_Hour_Average', freq='1M', func = \"sum\",Output=True, dir_out=r\"A:\\US_CornSoy_ClassificationYield\\GEEData\\State_Monitor\")\n",
    "    print(\"Precipitation done\")\n",
    "    "
   ]
  },
  {
   "cell_type": "markdown",
   "metadata": {},
   "source": [
    "## LAI"
   ]
  },
  {
   "cell_type": "code",
   "execution_count": 361,
   "metadata": {},
   "outputs": [
    {
     "name": "stdout",
     "output_type": "stream",
     "text": [
      "--------------------North Dakota--------------------\n",
      "NDVI done\n",
      "EVI done\n",
      "--------------------South Dakota--------------------\n",
      "NDVI done\n",
      "EVI done\n",
      "--------------------Nebraska--------------------\n",
      "NDVI done\n",
      "EVI done\n",
      "--------------------Kansas--------------------\n",
      "NDVI done\n",
      "EVI done\n",
      "--------------------Iowa--------------------\n",
      "NDVI done\n",
      "EVI done\n",
      "--------------------Missouri--------------------\n",
      "NDVI done\n",
      "EVI done\n",
      "--------------------Illinois--------------------\n",
      "NDVI done\n",
      "EVI done\n",
      "--------------------Indiana--------------------\n",
      "NDVI done\n",
      "EVI done\n",
      "--------------------Ohio--------------------\n",
      "NDVI done\n",
      "EVI done\n"
     ]
    }
   ],
   "source": [
    "State_list = ['North Dakota', 'South Dakota', 'Nebraska', 'Kansas', 'Iowa', 'Missouri', 'Illinois', 'Indiana', 'Ohio']\n",
    "for state in State_list:\n",
    "    print(\"--------------------{}--------------------\".format(state))\n",
    "    aoi = States.filter(ee.Filter.eq('NAME', state))\n",
    "    # df_test = generate_ts_df(FparLai_filtered, aoi, 'Fpar', freq='1M', Output = True, dir_out = r\"A:\\US_CornSoy_ClassificationYield\\GEEData\")\n",
    "    # print('Fpar done')\n",
    "    # df_test = generate_ts_df(FparLai_filtered, aoi, 'Lai', freq='1M', Output = True, dir_out = r\"A:\\US_CornSoy_ClassificationYield\\GEEData\")\n",
    "    # print('Lai done')\n",
    "    df_test = generate_ts_df(modis_filtered, aoi, 'NDVI', freq='1M', Output = True, dir_out = r\"A:\\US_CornSoy_ClassificationYield\\GEEData\")\n",
    "    print('NDVI done')\n",
    "    df_test = generate_ts_df(modis_filtered, aoi, 'EVI', freq='1M', Output = True, dir_out = r\"A:\\US_CornSoy_ClassificationYield\\GEEData\")\n",
    "    print('EVI done')"
   ]
  },
  {
   "cell_type": "code",
   "execution_count": 211,
   "metadata": {},
   "outputs": [
    {
     "data": {
      "text/html": [
       "<div>\n",
       "<style scoped>\n",
       "    .dataframe tbody tr th:only-of-type {\n",
       "        vertical-align: middle;\n",
       "    }\n",
       "\n",
       "    .dataframe tbody tr th {\n",
       "        vertical-align: top;\n",
       "    }\n",
       "\n",
       "    .dataframe thead th {\n",
       "        text-align: right;\n",
       "    }\n",
       "</style>\n",
       "<table border=\"1\" class=\"dataframe\">\n",
       "  <thead>\n",
       "    <tr style=\"text-align: right;\">\n",
       "      <th></th>\n",
       "      <th>date</th>\n",
       "      <th>mean_Lai</th>\n",
       "      <th>Month</th>\n",
       "      <th>Year</th>\n",
       "    </tr>\n",
       "  </thead>\n",
       "  <tbody>\n",
       "    <tr>\n",
       "      <th>0</th>\n",
       "      <td>2022-01-31</td>\n",
       "      <td>0.020946</td>\n",
       "      <td>1</td>\n",
       "      <td>2022</td>\n",
       "    </tr>\n",
       "    <tr>\n",
       "      <th>1</th>\n",
       "      <td>2022-02-28</td>\n",
       "      <td>0.023163</td>\n",
       "      <td>2</td>\n",
       "      <td>2022</td>\n",
       "    </tr>\n",
       "    <tr>\n",
       "      <th>2</th>\n",
       "      <td>2022-03-31</td>\n",
       "      <td>0.159117</td>\n",
       "      <td>3</td>\n",
       "      <td>2022</td>\n",
       "    </tr>\n",
       "    <tr>\n",
       "      <th>3</th>\n",
       "      <td>2022-04-30</td>\n",
       "      <td>0.315208</td>\n",
       "      <td>4</td>\n",
       "      <td>2022</td>\n",
       "    </tr>\n",
       "    <tr>\n",
       "      <th>4</th>\n",
       "      <td>2022-05-31</td>\n",
       "      <td>0.919224</td>\n",
       "      <td>5</td>\n",
       "      <td>2022</td>\n",
       "    </tr>\n",
       "  </tbody>\n",
       "</table>\n",
       "</div>"
      ],
      "text/plain": [
       "        date  mean_Lai  Month  Year\n",
       "0 2022-01-31  0.020946      1  2022\n",
       "1 2022-02-28  0.023163      2  2022\n",
       "2 2022-03-31  0.159117      3  2022\n",
       "3 2022-04-30  0.315208      4  2022\n",
       "4 2022-05-31  0.919224      5  2022"
      ]
     },
     "execution_count": 211,
     "metadata": {},
     "output_type": "execute_result"
    }
   ],
   "source": [
    "ts_lai = FparLai_filtered.map(lambda image: extract_time_series(image, state, 'Lai'))\n",
    "ts_lai_dict = ts_lai.getInfo()\n",
    "df_lai = eets_to_df(ts_lai_dict, 'Lai')\n",
    "\n",
    "# Aggregate to monthly\n",
    "df_lai_monthly = agg_ts(df_lai, freq='1M')\n",
    "df_lai_monthly['Month'] = df_lai_monthly['date'].dt.month\n",
    "df_lai_monthly['Year'] = df_lai_monthly['date'].dt.year\n",
    "df_lai_monthly.head()"
   ]
  },
  {
   "cell_type": "code",
   "execution_count": 212,
   "metadata": {},
   "outputs": [
    {
     "data": {
      "text/plain": [
       "<AxesSubplot:xlabel='date'>"
      ]
     },
     "execution_count": 212,
     "metadata": {},
     "output_type": "execute_result"
    },
    {
     "data": {
      "image/png": "[encoded data removed]",
      "text/plain": [
       "<Figure size 1080x360 with 1 Axes>"
      ]
     },
     "metadata": {
      "needs_background": "light"
     },
     "output_type": "display_data"
    }
   ],
   "source": [
    "# Plot the time series, with both points and lines\n",
    "df_lai_monthly.plot(x='date', y='mean_Lai', marker='o', linestyle='-', figsize=(15, 5))"
   ]
  },
  {
   "cell_type": "markdown",
   "metadata": {},
   "source": [
    "## Fpar"
   ]
  },
  {
   "cell_type": "code",
   "execution_count": 203,
   "metadata": {},
   "outputs": [
    {
     "data": {
      "text/html": [
       "<div>\n",
       "<style scoped>\n",
       "    .dataframe tbody tr th:only-of-type {\n",
       "        vertical-align: middle;\n",
       "    }\n",
       "\n",
       "    .dataframe tbody tr th {\n",
       "        vertical-align: top;\n",
       "    }\n",
       "\n",
       "    .dataframe thead th {\n",
       "        text-align: right;\n",
       "    }\n",
       "</style>\n",
       "<table border=\"1\" class=\"dataframe\">\n",
       "  <thead>\n",
       "    <tr style=\"text-align: right;\">\n",
       "      <th></th>\n",
       "      <th>date</th>\n",
       "      <th>mean_Fpar</th>\n",
       "      <th>Month</th>\n",
       "      <th>Year</th>\n",
       "    </tr>\n",
       "  </thead>\n",
       "  <tbody>\n",
       "    <tr>\n",
       "      <th>0</th>\n",
       "      <td>2022-01-31</td>\n",
       "      <td>0.096019</td>\n",
       "      <td>1</td>\n",
       "      <td>2022</td>\n",
       "    </tr>\n",
       "    <tr>\n",
       "      <th>1</th>\n",
       "      <td>2022-02-28</td>\n",
       "      <td>0.009719</td>\n",
       "      <td>2</td>\n",
       "      <td>2022</td>\n",
       "    </tr>\n",
       "    <tr>\n",
       "      <th>2</th>\n",
       "      <td>2022-03-31</td>\n",
       "      <td>0.215755</td>\n",
       "      <td>3</td>\n",
       "      <td>2022</td>\n",
       "    </tr>\n",
       "    <tr>\n",
       "      <th>3</th>\n",
       "      <td>2022-04-30</td>\n",
       "      <td>0.201348</td>\n",
       "      <td>4</td>\n",
       "      <td>2022</td>\n",
       "    </tr>\n",
       "    <tr>\n",
       "      <th>4</th>\n",
       "      <td>2022-05-31</td>\n",
       "      <td>0.526259</td>\n",
       "      <td>5</td>\n",
       "      <td>2022</td>\n",
       "    </tr>\n",
       "  </tbody>\n",
       "</table>\n",
       "</div>"
      ],
      "text/plain": [
       "        date  mean_Fpar  Month  Year\n",
       "0 2022-01-31   0.096019      1  2022\n",
       "1 2022-02-28   0.009719      2  2022\n",
       "2 2022-03-31   0.215755      3  2022\n",
       "3 2022-04-30   0.201348      4  2022\n",
       "4 2022-05-31   0.526259      5  2022"
      ]
     },
     "execution_count": 203,
     "metadata": {},
     "output_type": "execute_result"
    }
   ],
   "source": [
    "ts_fpar = FparLai_filtered.map(lambda image: extract_time_series(image, test_region, 'Fpar'))\n",
    "ts_fpar_dict = ts_fpar.getInfo()\n",
    "df_fpar = eets_to_df(ts_fpar_dict, 'Fpar')\n",
    "\n",
    "# Aggregate to monthly\n",
    "df_fpar_monthly = agg_ts(df_fpar, freq='1M')\n",
    "df_fpar_monthly['Month'] = df_fpar_monthly['date'].dt.month\n",
    "df_fpar_monthly['Year'] = df_fpar_monthly['date'].dt.year\n",
    "df_fpar_monthly.head()"
   ]
  },
  {
   "cell_type": "code",
   "execution_count": 204,
   "metadata": {},
   "outputs": [
    {
     "data": {
      "text/plain": [
       "<AxesSubplot:xlabel='date'>"
      ]
     },
     "execution_count": 204,
     "metadata": {},
     "output_type": "execute_result"
    },
    {
     "data": {
      "image/png": "[encoded data removed]",
      "text/plain": [
       "<Figure size 1080x360 with 1 Axes>"
      ]
     },
     "metadata": {
      "needs_background": "light"
     },
     "output_type": "display_data"
    }
   ],
   "source": [
    "df_fpar_monthly.plot(x='date', y='mean_Fpar', marker='o', linestyle='-', figsize=(15, 5))"
   ]
  },
  {
   "cell_type": "markdown",
   "metadata": {},
   "source": [
    "## NDVI"
   ]
  },
  {
   "cell_type": "code",
   "execution_count": 216,
   "metadata": {},
   "outputs": [
    {
     "data": {
      "text/html": [
       "<div>\n",
       "<style scoped>\n",
       "    .dataframe tbody tr th:only-of-type {\n",
       "        vertical-align: middle;\n",
       "    }\n",
       "\n",
       "    .dataframe tbody tr th {\n",
       "        vertical-align: top;\n",
       "    }\n",
       "\n",
       "    .dataframe thead th {\n",
       "        text-align: right;\n",
       "    }\n",
       "</style>\n",
       "<table border=\"1\" class=\"dataframe\">\n",
       "  <thead>\n",
       "    <tr style=\"text-align: right;\">\n",
       "      <th></th>\n",
       "      <th>date</th>\n",
       "      <th>mean_NDVI</th>\n",
       "      <th>Month</th>\n",
       "      <th>Year</th>\n",
       "    </tr>\n",
       "  </thead>\n",
       "  <tbody>\n",
       "    <tr>\n",
       "      <th>0</th>\n",
       "      <td>2022-01-31</td>\n",
       "      <td>0.148039</td>\n",
       "      <td>1</td>\n",
       "      <td>2022</td>\n",
       "    </tr>\n",
       "    <tr>\n",
       "      <th>1</th>\n",
       "      <td>2022-02-28</td>\n",
       "      <td>0.086588</td>\n",
       "      <td>2</td>\n",
       "      <td>2022</td>\n",
       "    </tr>\n",
       "    <tr>\n",
       "      <th>2</th>\n",
       "      <td>2022-03-31</td>\n",
       "      <td>0.275831</td>\n",
       "      <td>3</td>\n",
       "      <td>2022</td>\n",
       "    </tr>\n",
       "    <tr>\n",
       "      <th>3</th>\n",
       "      <td>2022-04-30</td>\n",
       "      <td>0.347806</td>\n",
       "      <td>4</td>\n",
       "      <td>2022</td>\n",
       "    </tr>\n",
       "    <tr>\n",
       "      <th>4</th>\n",
       "      <td>2022-05-31</td>\n",
       "      <td>0.405622</td>\n",
       "      <td>5</td>\n",
       "      <td>2022</td>\n",
       "    </tr>\n",
       "  </tbody>\n",
       "</table>\n",
       "</div>"
      ],
      "text/plain": [
       "        date  mean_NDVI  Month  Year\n",
       "0 2022-01-31   0.148039      1  2022\n",
       "1 2022-02-28   0.086588      2  2022\n",
       "2 2022-03-31   0.275831      3  2022\n",
       "3 2022-04-30   0.347806      4  2022\n",
       "4 2022-05-31   0.405622      5  2022"
      ]
     },
     "execution_count": 216,
     "metadata": {},
     "output_type": "execute_result"
    }
   ],
   "source": [
    "ts_ndvi = modis_filtered.map(lambda image: extract_time_series(image, Illinois, 'NDVI'))\n",
    "ts_ndvi_dict = ts_ndvi.getInfo()\n",
    "df_ndvi = eets_to_df(ts_ndvi_dict, 'NDVI')\n",
    "\n",
    "# Aggregate to monthly\n",
    "df_ndvi_monthly = agg_ts(df_ndvi, freq='1M')\n",
    "df_ndvi_monthly['Month'] = df_ndvi_monthly['date'].dt.month\n",
    "df_ndvi_monthly['Year'] = df_ndvi_monthly['date'].dt.year\n",
    "df_ndvi_monthly.head()"
   ]
  },
  {
   "cell_type": "code",
   "execution_count": 217,
   "metadata": {},
   "outputs": [
    {
     "data": {
      "text/plain": [
       "<AxesSubplot:xlabel='date'>"
      ]
     },
     "execution_count": 217,
     "metadata": {},
     "output_type": "execute_result"
    },
    {
     "data": {
      "image/png": "[encoded data removed]",
      "text/plain": [
       "<Figure size 1080x360 with 1 Axes>"
      ]
     },
     "metadata": {
      "needs_background": "light"
     },
     "output_type": "display_data"
    }
   ],
   "source": [
    "df_ndvi_monthly.plot(x='date', y='mean_NDVI', marker='o', linestyle='-', figsize=(15, 5))"
   ]
  },
  {
   "cell_type": "markdown",
   "metadata": {},
   "source": [
    "## EVI"
   ]
  },
  {
   "cell_type": "code",
   "execution_count": 220,
   "metadata": {},
   "outputs": [],
   "source": [
    "evi_agg = agg_eets(modis_filtered, 'months')"
   ]
  },
  {
   "cell_type": "code",
   "execution_count": 222,
   "metadata": {},
   "outputs": [],
   "source": [
    "tsagg_evi = modis_filtered.map(lambda image: extract_time_series(image, Illinois, 'EVI'))\n",
    "tsagg_evi_dict = tsagg_evi.getInfo()"
   ]
  },
  {
   "cell_type": "code",
   "execution_count": 224,
   "metadata": {},
   "outputs": [
    {
     "data": {
      "text/html": [
       "<div>\n",
       "<style scoped>\n",
       "    .dataframe tbody tr th:only-of-type {\n",
       "        vertical-align: middle;\n",
       "    }\n",
       "\n",
       "    .dataframe tbody tr th {\n",
       "        vertical-align: top;\n",
       "    }\n",
       "\n",
       "    .dataframe thead th {\n",
       "        text-align: right;\n",
       "    }\n",
       "</style>\n",
       "<table border=\"1\" class=\"dataframe\">\n",
       "  <thead>\n",
       "    <tr style=\"text-align: right;\">\n",
       "      <th></th>\n",
       "      <th>date</th>\n",
       "      <th>mean_EVI</th>\n",
       "    </tr>\n",
       "  </thead>\n",
       "  <tbody>\n",
       "    <tr>\n",
       "      <th>0</th>\n",
       "      <td>2022-01-01T00:00:00</td>\n",
       "      <td>0.328631</td>\n",
       "    </tr>\n",
       "    <tr>\n",
       "      <th>1</th>\n",
       "      <td>2022-01-02T00:00:00</td>\n",
       "      <td>0.367173</td>\n",
       "    </tr>\n",
       "    <tr>\n",
       "      <th>2</th>\n",
       "      <td>2022-01-03T00:00:00</td>\n",
       "      <td>0.339480</td>\n",
       "    </tr>\n",
       "    <tr>\n",
       "      <th>3</th>\n",
       "      <td>2022-01-04T00:00:00</td>\n",
       "      <td>0.222999</td>\n",
       "    </tr>\n",
       "    <tr>\n",
       "      <th>4</th>\n",
       "      <td>2022-01-05T00:00:00</td>\n",
       "      <td>0.196095</td>\n",
       "    </tr>\n",
       "    <tr>\n",
       "      <th>...</th>\n",
       "      <td>...</td>\n",
       "      <td>...</td>\n",
       "    </tr>\n",
       "    <tr>\n",
       "      <th>603</th>\n",
       "      <td>2023-08-27T00:00:00</td>\n",
       "      <td>1.545445</td>\n",
       "    </tr>\n",
       "    <tr>\n",
       "      <th>604</th>\n",
       "      <td>2023-08-28T00:00:00</td>\n",
       "      <td>1.595288</td>\n",
       "    </tr>\n",
       "    <tr>\n",
       "      <th>605</th>\n",
       "      <td>2023-08-29T00:00:00</td>\n",
       "      <td>1.600303</td>\n",
       "    </tr>\n",
       "    <tr>\n",
       "      <th>606</th>\n",
       "      <td>2023-08-30T00:00:00</td>\n",
       "      <td>1.651021</td>\n",
       "    </tr>\n",
       "    <tr>\n",
       "      <th>607</th>\n",
       "      <td>2023-08-31T00:00:00</td>\n",
       "      <td>1.492476</td>\n",
       "    </tr>\n",
       "  </tbody>\n",
       "</table>\n",
       "<p>608 rows × 2 columns</p>\n",
       "</div>"
      ],
      "text/plain": [
       "                    date  mean_EVI\n",
       "0    2022-01-01T00:00:00  0.328631\n",
       "1    2022-01-02T00:00:00  0.367173\n",
       "2    2022-01-03T00:00:00  0.339480\n",
       "3    2022-01-04T00:00:00  0.222999\n",
       "4    2022-01-05T00:00:00  0.196095\n",
       "..                   ...       ...\n",
       "603  2023-08-27T00:00:00  1.545445\n",
       "604  2023-08-28T00:00:00  1.595288\n",
       "605  2023-08-29T00:00:00  1.600303\n",
       "606  2023-08-30T00:00:00  1.651021\n",
       "607  2023-08-31T00:00:00  1.492476\n",
       "\n",
       "[608 rows x 2 columns]"
      ]
     },
     "execution_count": 224,
     "metadata": {},
     "output_type": "execute_result"
    }
   ],
   "source": [
    "df_eviagg = eets_to_df(tsagg_evi_dict, 'EVI')\n",
    "df_eviagg"
   ]
  },
  {
   "cell_type": "code",
   "execution_count": null,
   "metadata": {},
   "outputs": [],
   "source": []
  },
  {
   "cell_type": "code",
   "execution_count": 226,
   "metadata": {},
   "outputs": [
    {
     "data": {
      "text/html": [
       "<div>\n",
       "<style scoped>\n",
       "    .dataframe tbody tr th:only-of-type {\n",
       "        vertical-align: middle;\n",
       "    }\n",
       "\n",
       "    .dataframe tbody tr th {\n",
       "        vertical-align: top;\n",
       "    }\n",
       "\n",
       "    .dataframe thead th {\n",
       "        text-align: right;\n",
       "    }\n",
       "</style>\n",
       "<table border=\"1\" class=\"dataframe\">\n",
       "  <thead>\n",
       "    <tr style=\"text-align: right;\">\n",
       "      <th></th>\n",
       "      <th>date</th>\n",
       "      <th>mean_EVI</th>\n",
       "      <th>Month</th>\n",
       "      <th>Year</th>\n",
       "    </tr>\n",
       "  </thead>\n",
       "  <tbody>\n",
       "    <tr>\n",
       "      <th>0</th>\n",
       "      <td>2022-01-31</td>\n",
       "      <td>0.486061</td>\n",
       "      <td>1</td>\n",
       "      <td>2022</td>\n",
       "    </tr>\n",
       "    <tr>\n",
       "      <th>1</th>\n",
       "      <td>2022-02-28</td>\n",
       "      <td>0.184148</td>\n",
       "      <td>2</td>\n",
       "      <td>2022</td>\n",
       "    </tr>\n",
       "    <tr>\n",
       "      <th>2</th>\n",
       "      <td>2022-03-31</td>\n",
       "      <td>0.463514</td>\n",
       "      <td>3</td>\n",
       "      <td>2022</td>\n",
       "    </tr>\n",
       "    <tr>\n",
       "      <th>3</th>\n",
       "      <td>2022-04-30</td>\n",
       "      <td>0.585905</td>\n",
       "      <td>4</td>\n",
       "      <td>2022</td>\n",
       "    </tr>\n",
       "    <tr>\n",
       "      <th>4</th>\n",
       "      <td>2022-05-31</td>\n",
       "      <td>0.658583</td>\n",
       "      <td>5</td>\n",
       "      <td>2022</td>\n",
       "    </tr>\n",
       "  </tbody>\n",
       "</table>\n",
       "</div>"
      ],
      "text/plain": [
       "        date  mean_EVI  Month  Year\n",
       "0 2022-01-31  0.486061      1  2022\n",
       "1 2022-02-28  0.184148      2  2022\n",
       "2 2022-03-31  0.463514      3  2022\n",
       "3 2022-04-30  0.585905      4  2022\n",
       "4 2022-05-31  0.658583      5  2022"
      ]
     },
     "execution_count": 226,
     "metadata": {},
     "output_type": "execute_result"
    }
   ],
   "source": [
    "ts_evi = modis_filtered.map(lambda image: extract_time_series(image, test_region, 'EVI'))\n",
    "ts_evi_dict = ts_evi.getInfo()\n",
    "df_evi = eets_to_df(ts_evi_dict, 'EVI')\n",
    "\n",
    "# Aggregate to monthly\n",
    "df_evi_monthly = agg_ts(df_evi, freq='1M')\n",
    "df_evi_monthly['Month'] = df_evi_monthly['date'].dt.month\n",
    "df_evi_monthly['Year'] = df_evi_monthly['date'].dt.year\n",
    "df_evi_monthly.head()"
   ]
  },
  {
   "cell_type": "code",
   "execution_count": null,
   "metadata": {},
   "outputs": [],
   "source": [
    "df_evi_monthly"
   ]
  },
  {
   "cell_type": "markdown",
   "metadata": {},
   "source": [
    "# Output "
   ]
  },
  {
   "cell_type": "code",
   "execution_count": null,
   "metadata": {},
   "outputs": [],
   "source": []
  }
 ],
 "metadata": {
  "kernelspec": {
   "display_name": "ET_Project",
   "language": "python",
   "name": "python3"
  },
  "language_info": {
   "codemirror_mode": {
    "name": "ipython",
    "version": 3
   },
   "file_extension": ".py",
   "mimetype": "text/x-python",
   "name": "python",
   "nbconvert_exporter": "python",
   "pygments_lexer": "ipython3",
   "version": "3.7.12"
  }
 },
 "nbformat": 4,
 "nbformat_minor": 2
}
