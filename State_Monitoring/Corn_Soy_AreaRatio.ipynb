{
 "cells": [
  {
   "cell_type": "code",
   "execution_count": 2,
   "metadata": {},
   "outputs": [],
   "source": [
    "import pandas as pd\n",
    "import numpy as np\n",
    "import os"
   ]
  },
  {
   "cell_type": "markdown",
   "metadata": {},
   "source": [
    "# Read data "
   ]
  },
  {
   "cell_type": "code",
   "execution_count": 3,
   "metadata": {},
   "outputs": [],
   "source": [
    "dir_usda = r\"D:\\US_CornSoy_ClassificationYield\\TabularData\"\n",
    "usda_area = pd.read_csv(os.path.join(dir_usda, \"US_County_CornSoy_Area.csv\"))"
   ]
  },
  {
   "cell_type": "code",
   "execution_count": 25,
   "metadata": {},
   "outputs": [
    {
     "data": {
      "text/html": [
       "<div>\n",
       "<style scoped>\n",
       "    .dataframe tbody tr th:only-of-type {\n",
       "        vertical-align: middle;\n",
       "    }\n",
       "\n",
       "    .dataframe tbody tr th {\n",
       "        vertical-align: top;\n",
       "    }\n",
       "\n",
       "    .dataframe thead th {\n",
       "        text-align: right;\n",
       "    }\n",
       "</style>\n",
       "<table border=\"1\" class=\"dataframe\">\n",
       "  <thead>\n",
       "    <tr style=\"text-align: right;\">\n",
       "      <th></th>\n",
       "      <th>Program</th>\n",
       "      <th>Year</th>\n",
       "      <th>Period</th>\n",
       "      <th>Week Ending</th>\n",
       "      <th>Geo Level</th>\n",
       "      <th>State</th>\n",
       "      <th>State ANSI</th>\n",
       "      <th>Ag District</th>\n",
       "      <th>Ag District Code</th>\n",
       "      <th>County</th>\n",
       "      <th>...</th>\n",
       "      <th>Zip Code</th>\n",
       "      <th>Region</th>\n",
       "      <th>watershed_code</th>\n",
       "      <th>Watershed</th>\n",
       "      <th>Commodity</th>\n",
       "      <th>Data Item</th>\n",
       "      <th>Domain</th>\n",
       "      <th>Domain Category</th>\n",
       "      <th>Value</th>\n",
       "      <th>CV (%)</th>\n",
       "    </tr>\n",
       "  </thead>\n",
       "  <tbody>\n",
       "    <tr>\n",
       "      <th>0</th>\n",
       "      <td>SURVEY</td>\n",
       "      <td>2023</td>\n",
       "      <td>YEAR</td>\n",
       "      <td>NaN</td>\n",
       "      <td>STATE</td>\n",
       "      <td>ILLINOIS</td>\n",
       "      <td>17</td>\n",
       "      <td>NaN</td>\n",
       "      <td>NaN</td>\n",
       "      <td>NaN</td>\n",
       "      <td>...</td>\n",
       "      <td>NaN</td>\n",
       "      <td>NaN</td>\n",
       "      <td>0</td>\n",
       "      <td>NaN</td>\n",
       "      <td>CORN</td>\n",
       "      <td>CORN - ACRES PLANTED</td>\n",
       "      <td>TOTAL</td>\n",
       "      <td>NOT SPECIFIED</td>\n",
       "      <td>11,500,000</td>\n",
       "      <td>NaN</td>\n",
       "    </tr>\n",
       "    <tr>\n",
       "      <th>1</th>\n",
       "      <td>SURVEY</td>\n",
       "      <td>2023</td>\n",
       "      <td>YEAR</td>\n",
       "      <td>NaN</td>\n",
       "      <td>STATE</td>\n",
       "      <td>ILLINOIS</td>\n",
       "      <td>17</td>\n",
       "      <td>NaN</td>\n",
       "      <td>NaN</td>\n",
       "      <td>NaN</td>\n",
       "      <td>...</td>\n",
       "      <td>NaN</td>\n",
       "      <td>NaN</td>\n",
       "      <td>0</td>\n",
       "      <td>NaN</td>\n",
       "      <td>SOYBEANS</td>\n",
       "      <td>SOYBEANS - ACRES PLANTED</td>\n",
       "      <td>TOTAL</td>\n",
       "      <td>NOT SPECIFIED</td>\n",
       "      <td>10,000,000</td>\n",
       "      <td>NaN</td>\n",
       "    </tr>\n",
       "  </tbody>\n",
       "</table>\n",
       "<p>2 rows × 21 columns</p>\n",
       "</div>"
      ],
      "text/plain": [
       "  Program  Year Period  Week Ending Geo Level     State  State ANSI  \\\n",
       "0  SURVEY  2023   YEAR          NaN     STATE  ILLINOIS          17   \n",
       "1  SURVEY  2023   YEAR          NaN     STATE  ILLINOIS          17   \n",
       "\n",
       "  Ag District  Ag District Code County  ...  Zip Code  Region  watershed_code  \\\n",
       "0         NaN               NaN    NaN  ...       NaN     NaN               0   \n",
       "1         NaN               NaN    NaN  ...       NaN     NaN               0   \n",
       "\n",
       "   Watershed  Commodity                 Data Item Domain Domain Category  \\\n",
       "0        NaN       CORN      CORN - ACRES PLANTED  TOTAL   NOT SPECIFIED   \n",
       "1        NaN   SOYBEANS  SOYBEANS - ACRES PLANTED  TOTAL   NOT SPECIFIED   \n",
       "\n",
       "        Value CV (%)  \n",
       "0  11,500,000    NaN  \n",
       "1  10,000,000    NaN  \n",
       "\n",
       "[2 rows x 21 columns]"
      ]
     },
     "execution_count": 25,
     "metadata": {},
     "output_type": "execute_result"
    }
   ],
   "source": [
    "usda_area.head(2)"
   ]
  },
  {
   "cell_type": "code",
   "execution_count": 26,
   "metadata": {},
   "outputs": [
    {
     "data": {
      "text/plain": [
       "array(['CORN - ACRES PLANTED', 'SOYBEANS - ACRES PLANTED'], dtype=object)"
      ]
     },
     "execution_count": 26,
     "metadata": {},
     "output_type": "execute_result"
    }
   ],
   "source": [
    "usda_area[\"Data Item\"].unique()"
   ]
  },
  {
   "cell_type": "code",
   "execution_count": null,
   "metadata": {},
   "outputs": [],
   "source": [
    "usda_area['Value']"
   ]
  },
  {
   "cell_type": "code",
   "execution_count": 4,
   "metadata": {},
   "outputs": [],
   "source": [
    "state_area = usda_area[usda_area['Geo Level'] == 'STATE']\n",
    "cnty_area = usda_area[usda_area['Geo Level'] == 'COUNTY']\n",
    "#SUBSET COLUMNS\n",
    "state_area = state_area[['Year', 'State', 'State ANSI', 'Commodity', 'Value']]\n",
    "cnty_area = cnty_area[['Year', 'State', 'State ANSI', 'County', 'County ANSI', 'Commodity', 'Value']]\n",
    "#Rename Columns\n",
    "state_area.columns = ['Year', 'State', 'StateANSI', 'Crop', 'AreaAcres_usda']\n",
    "cnty_area.columns = ['Year', 'State', 'StateANSI', 'County', 'CntyANSI', 'Crop', 'AreaAcres_usda']\n",
    "#remove rows whose CntyANSI column is NaN\n",
    "cnty_area = cnty_area.dropna(subset=['CntyANSI']) \n",
    "#convert CntyANSI to int with no decimal, and fill with leading zeros to make 3 digits\n",
    "cnty_area['CntyANSI'] = cnty_area['CntyANSI'].astype(int).astype(str).str.zfill(3)\n",
    "#convert State and County and Crop column to be uppercase for only the first letter\n",
    "cnty_area['State'] = cnty_area['State'].str.title()\n",
    "cnty_area['County'] = cnty_area['County'].str.title()\n",
    "cnty_area['Crop'] = cnty_area['Crop'].str.title()\n",
    "state_area['State'] = state_area['State'].str.title()\n",
    "state_area['Crop'] = state_area['Crop'].str.title()\n",
    "#remove comma in AreaAcres_usda column, and convert AreaAcres_usda to float\n",
    "cnty_area['AreaAcres_usda'] = cnty_area['AreaAcres_usda'].str.replace(',', '').astype(float)\n",
    "state_area['AreaAcres_usda'] = state_area['AreaAcres_usda'].str.replace(',', '').astype(float)\n",
    "#convert Soybeans to Soybean\n",
    "cnty_area['Crop'] = cnty_area['Crop'].str.replace('Soybeans', 'Soybean')\n",
    "state_area['Crop'] = state_area['Crop'].str.replace('Soybeans', 'Soybean')"
   ]
  },
  {
   "cell_type": "markdown",
   "metadata": {},
   "source": [
    "# Calculate area ratio"
   ]
  },
  {
   "cell_type": "code",
   "execution_count": 9,
   "metadata": {},
   "outputs": [
    {
     "data": {
      "text/html": [
       "<div>\n",
       "<style scoped>\n",
       "    .dataframe tbody tr th:only-of-type {\n",
       "        vertical-align: middle;\n",
       "    }\n",
       "\n",
       "    .dataframe tbody tr th {\n",
       "        vertical-align: top;\n",
       "    }\n",
       "\n",
       "    .dataframe thead th {\n",
       "        text-align: right;\n",
       "    }\n",
       "</style>\n",
       "<table border=\"1\" class=\"dataframe\">\n",
       "  <thead>\n",
       "    <tr style=\"text-align: right;\">\n",
       "      <th></th>\n",
       "      <th>Year</th>\n",
       "      <th>State</th>\n",
       "      <th>StateANSI</th>\n",
       "      <th>Crop</th>\n",
       "      <th>AreaAcres_usda</th>\n",
       "    </tr>\n",
       "  </thead>\n",
       "  <tbody>\n",
       "    <tr>\n",
       "      <th>0</th>\n",
       "      <td>2023</td>\n",
       "      <td>Illinois</td>\n",
       "      <td>17</td>\n",
       "      <td>Corn</td>\n",
       "      <td>11500000.0</td>\n",
       "    </tr>\n",
       "    <tr>\n",
       "      <th>1</th>\n",
       "      <td>2023</td>\n",
       "      <td>Illinois</td>\n",
       "      <td>17</td>\n",
       "      <td>Soybean</td>\n",
       "      <td>10000000.0</td>\n",
       "    </tr>\n",
       "    <tr>\n",
       "      <th>2</th>\n",
       "      <td>2023</td>\n",
       "      <td>Indiana</td>\n",
       "      <td>18</td>\n",
       "      <td>Corn</td>\n",
       "      <td>5500000.0</td>\n",
       "    </tr>\n",
       "    <tr>\n",
       "      <th>3</th>\n",
       "      <td>2023</td>\n",
       "      <td>Indiana</td>\n",
       "      <td>18</td>\n",
       "      <td>Soybean</td>\n",
       "      <td>5500000.0</td>\n",
       "    </tr>\n",
       "    <tr>\n",
       "      <th>4</th>\n",
       "      <td>2023</td>\n",
       "      <td>Iowa</td>\n",
       "      <td>19</td>\n",
       "      <td>Corn</td>\n",
       "      <td>13400000.0</td>\n",
       "    </tr>\n",
       "  </tbody>\n",
       "</table>\n",
       "</div>"
      ],
      "text/plain": [
       "   Year     State  StateANSI     Crop  AreaAcres_usda\n",
       "0  2023  Illinois         17     Corn      11500000.0\n",
       "1  2023  Illinois         17  Soybean      10000000.0\n",
       "2  2023   Indiana         18     Corn       5500000.0\n",
       "3  2023   Indiana         18  Soybean       5500000.0\n",
       "4  2023      Iowa         19     Corn      13400000.0"
      ]
     },
     "execution_count": 9,
     "metadata": {},
     "output_type": "execute_result"
    }
   ],
   "source": [
    "state_area.head()"
   ]
  },
  {
   "cell_type": "code",
   "execution_count": 11,
   "metadata": {},
   "outputs": [
    {
     "data": {
      "text/plain": [
       "(696, 5)"
      ]
     },
     "execution_count": 11,
     "metadata": {},
     "output_type": "execute_result"
    }
   ],
   "source": [
    "state_area.shape"
   ]
  },
  {
   "cell_type": "code",
   "execution_count": 15,
   "metadata": {},
   "outputs": [
    {
     "name": "stdout",
     "output_type": "stream",
     "text": [
      "['Illinois' 'Indiana' 'Iowa' 'Kansas' 'Kentucky' 'Michigan' 'Minnesota'\n",
      " 'Missouri' 'Nebraska' 'Ohio' 'South Dakota' 'Wisconsin']\n",
      "['Corn' 'Soybean']\n",
      "[2023 2022 2021 2020 2019 2018 2017 2016]\n"
     ]
    }
   ],
   "source": [
    "print(state_area['State'].unique())\n",
    "print(state_area['Crop'].unique())\n",
    "print(state_area['Year'].unique())"
   ]
  },
  {
   "cell_type": "code",
   "execution_count": 13,
   "metadata": {},
   "outputs": [
    {
     "data": {
      "text/html": [
       "<div>\n",
       "<style scoped>\n",
       "    .dataframe tbody tr th:only-of-type {\n",
       "        vertical-align: middle;\n",
       "    }\n",
       "\n",
       "    .dataframe tbody tr th {\n",
       "        vertical-align: top;\n",
       "    }\n",
       "\n",
       "    .dataframe thead th {\n",
       "        text-align: right;\n",
       "    }\n",
       "</style>\n",
       "<table border=\"1\" class=\"dataframe\">\n",
       "  <thead>\n",
       "    <tr style=\"text-align: right;\">\n",
       "      <th></th>\n",
       "      <th>Year</th>\n",
       "      <th>State</th>\n",
       "      <th>StateANSI</th>\n",
       "      <th>Crop</th>\n",
       "      <th>AreaAcres_usda</th>\n",
       "    </tr>\n",
       "  </thead>\n",
       "  <tbody>\n",
       "    <tr>\n",
       "      <th>12842</th>\n",
       "      <td>2016</td>\n",
       "      <td>Ohio</td>\n",
       "      <td>39</td>\n",
       "      <td>Soybean</td>\n",
       "      <td>4650000.0</td>\n",
       "    </tr>\n",
       "    <tr>\n",
       "      <th>12843</th>\n",
       "      <td>2016</td>\n",
       "      <td>South Dakota</td>\n",
       "      <td>46</td>\n",
       "      <td>Corn</td>\n",
       "      <td>5700000.0</td>\n",
       "    </tr>\n",
       "    <tr>\n",
       "      <th>12844</th>\n",
       "      <td>2016</td>\n",
       "      <td>South Dakota</td>\n",
       "      <td>46</td>\n",
       "      <td>Soybean</td>\n",
       "      <td>5000000.0</td>\n",
       "    </tr>\n",
       "    <tr>\n",
       "      <th>12845</th>\n",
       "      <td>2016</td>\n",
       "      <td>Wisconsin</td>\n",
       "      <td>55</td>\n",
       "      <td>Corn</td>\n",
       "      <td>4000000.0</td>\n",
       "    </tr>\n",
       "    <tr>\n",
       "      <th>12846</th>\n",
       "      <td>2016</td>\n",
       "      <td>Wisconsin</td>\n",
       "      <td>55</td>\n",
       "      <td>Soybean</td>\n",
       "      <td>1950000.0</td>\n",
       "    </tr>\n",
       "  </tbody>\n",
       "</table>\n",
       "</div>"
      ],
      "text/plain": [
       "       Year         State  StateANSI     Crop  AreaAcres_usda\n",
       "12842  2016          Ohio         39  Soybean       4650000.0\n",
       "12843  2016  South Dakota         46     Corn       5700000.0\n",
       "12844  2016  South Dakota         46  Soybean       5000000.0\n",
       "12845  2016     Wisconsin         55     Corn       4000000.0\n",
       "12846  2016     Wisconsin         55  Soybean       1950000.0"
      ]
     },
     "execution_count": 13,
     "metadata": {},
     "output_type": "execute_result"
    }
   ],
   "source": [
    "state_area.tail()"
   ]
  },
  {
   "cell_type": "code",
   "execution_count": 21,
   "metadata": {},
   "outputs": [
    {
     "name": "stdout",
     "output_type": "stream",
     "text": [
      "Illinois 2016 [1.14851485 1.21      ]\n",
      "Illinois 2017 [1.05660377 1.10784314]\n",
      "Illinois 2018 [1.01851852 1.00917431 1.03773585 1.01851852]\n",
      "Illinois 2019 [1.05527638 1.07       1.06796117 1.06666667 1.05      ]\n",
      "Illinois 2020 [1.09708738 1.04807692 1.07619048 1.10679612]\n",
      "Illinois 2021 [1.03773585 1.04672897 1.01869159 1.03773585 1.03773585]\n",
      "Illinois 2022 [1.         0.95535714 0.97272727 1.        ]\n",
      "Illinois 2023 [1.15       1.15       1.01851852]\n",
      "Indiana 2016 [0.99115044 1.04504505]\n",
      "Indiana 2017 [0.89915966 0.93333333]\n",
      "Indiana 2018 [0.88333333 0.82258065 0.83606557 0.89915966]\n",
      "Indiana 2019 [0.92592593 0.94444444 1.03773585 0.96491228 0.94444444]\n",
      "Indiana 2020 [0.93913043 0.94736842 1.07407407 0.94736842]\n",
      "Indiana 2021 [0.95575221 0.94736842 0.89655172 0.94736842 0.94736842]\n",
      "Indiana 2022 [0.8974359  0.87179487 0.86440678 0.88888889]\n",
      "Indiana 2023 [1.         1.         0.98214286]\n",
      "Iowa 2016 [1.46315789 1.43298969]\n",
      "Iowa 2017 [1.33       1.31683168]\n",
      "Iowa 2018 [1.32663317 1.34343434 1.35714286 1.32      ]\n",
      "Iowa 2019 [1.4673913  1.47826087 1.49450549 1.44680851 1.4673913 ]\n",
      "Iowa 2020 [1.43915344 1.4893617  1.51612903 1.45744681]\n",
      "Iowa 2021 [1.27722772 1.32323232 1.34693878 1.27722772 1.27722772]\n",
      "Iowa 2022 [1.27722772 1.23300971 1.21153846 1.27722772]\n",
      "Iowa 2023 [1.3814433 1.3814433 1.2970297]\n",
      "Kansas 2016 [1.25925926 1.24675325]\n",
      "Kansas 2017 [1.06796117 1.04      ]\n",
      "Kansas 2018 [1.14736842 1.11340206 1.04081633 1.13684211]\n",
      "Kansas 2019 [1.40659341 1.39130435 1.25531915 1.15151515 1.39130435]\n",
      "Kansas 2020 [1.27083333 1.1509434  1.26       1.27083333]\n",
      "Kansas 2021 [1.17525773 1.26086957 1.23404255 1.17525773 1.17525773]\n",
      "Kansas 2022 [1.08910891 1.08       1.08       1.08910891]\n",
      "Kansas 2023 [1.29411765 1.29411765 1.2173913 ]\n",
      "Kentucky 2016 [0.83798883 0.90909091]\n",
      "Kentucky 2017 [0.67692308 0.69473684]\n",
      "Kentucky 2018 [0.68205128 0.62380952 0.64       0.67      ]\n",
      "Kentucky 2019 [0.91176471 0.94117647 0.97058824 0.81714286 0.91176471]\n",
      "Kentucky 2020 [0.79459459 0.83783784 0.83333333 0.8       ]\n",
      "Kentucky 2021 [0.83783784 0.79487179 0.79487179 0.86111111 0.86111111]\n",
      "Kentucky 2022 [0.73846154 0.73170732 0.775      0.73846154]\n",
      "Kentucky 2023 [0.81578947 0.81578947 0.84210526]\n",
      "Michigan 2016 [1.15942029 1.16666667]\n",
      "Michigan 2017 [0.98684211 0.9787234 ]\n",
      "Michigan 2018 [0.96566524 1.         1.04651163 1.02173913]\n",
      "Michigan 2019 [1.13636364 1.14285714 1.0952381  1.06818182 1.17142857]\n",
      "Michigan 2020 [1.06818182 1.         1.13636364 1.06818182]\n",
      "Michigan 2021 [1.09302326 0.97826087 1.         1.09302326 1.09302326]\n",
      "Michigan 2022 [1.04444444 1.         0.95744681 1.04444444]\n",
      "Michigan 2023 [1.17073171 1.17073171 1.14285714]\n",
      "Minnesota 2016 [1.1192053  1.10810811]\n",
      "Minnesota 2017 [0.98773006 0.96969697]\n",
      "Minnesota 2018 [1.01935484 1.         0.94936709 1.01282051]\n",
      "Minnesota 2019 [1.13868613 1.14492754 1.15942029 1.09589041 1.13043478]\n",
      "Minnesota 2020 [1.0738255  1.09459459 1.13513514 1.08108108]\n",
      "Minnesota 2021 [1.09803922 1.1038961  1.02564103 1.07792208 1.07792208]\n",
      "Minnesota 2022 [1.0738255  1.10666667 0.975      1.08053691]\n",
      "Minnesota 2023 [1.12       1.12       1.10596026]\n",
      "Missouri 2016 [0.65178571 0.65454545]\n",
      "Missouri 2017 [0.57142857 0.57522124]\n",
      "Missouri 2018 [0.5982906  0.5862069  0.57627119 0.5982906 ]\n",
      "Missouri 2019 [0.62745098 0.6372549  0.64150943 0.63636364 0.6372549 ]\n",
      "Missouri 2020 [0.58974359 0.625      0.62068966 0.58974359]\n",
      "Missouri 2021 [0.63157895 0.56779661 0.5862069  0.64035088 0.64035088]\n",
      "Missouri 2022 [0.54918033 0.61016949 0.57377049 0.54918033]\n",
      "Missouri 2023 [0.65178571 0.65178571 0.575     ]\n",
      "Nebraska 2016 [1.89423077 1.83018868]\n",
      "Nebraska 2017 [1.6754386 1.6754386]\n",
      "Nebraska 2018 [1.69911504 1.76363636 1.66071429 1.68421053]\n",
      "Nebraska 2019 [2.06122449 2.         2.         1.7962963  2.02      ]\n",
      "Nebraska 2020 [1.96153846 1.96       2.05882353 1.96153846]\n",
      "Nebraska 2021 [1.76785714 1.7962963  1.8        1.76785714 1.76785714]\n",
      "Nebraska 2022 [1.66956522 1.73214286 1.70175439 1.66956522]\n",
      "Nebraska 2023 [1.72727273 1.72727273 1.65217391]\n",
      "Ohio 2016 [0.73195876 0.76344086]\n",
      "Ohio 2017 [0.66666667 0.71      ]\n",
      "Ohio 2018 [0.69306931 0.71717172 0.71134021 0.7       ]\n",
      "Ohio 2019 [0.65116279 0.66666667 0.70212766 0.70707071 0.65116279]\n",
      "Ohio 2020 [0.71717172 0.75       0.77083333 0.71428571]\n",
      "Ohio 2021 [0.7244898  0.73469388 0.68       0.74226804 0.74226804]\n",
      "Ohio 2022 [0.66666667 0.68686869 0.65686275 0.65686275]\n",
      "Ohio 2023 [0.71428571 0.71428571 0.67647059]\n",
      "South Dakota 2016 [1.07692308 1.14      ]\n",
      "South Dakota 2017 [1.00884956 1.        ]\n",
      "South Dakota 2018 [0.9380531  0.9122807  1.01785714 0.9380531 ]\n",
      "South Dakota 2019 [1.24285714 1.28571429 1.09090909 1.15384615 1.22222222]\n",
      "South Dakota 2020 [0.98989899 1.03846154 1.11111111 1.01010101]\n",
      "South Dakota 2021 [1.12844037 1.09090909 0.98245614 1.10909091 1.10909091]\n",
      "South Dakota 2022 [1.12745098 1.07272727 1.0877193  1.12745098]\n",
      "South Dakota 2023 [1.16981132 1.16981132 1.11320755]\n",
      "Wisconsin 2016 [2.06632653 2.05128205]\n",
      "Wisconsin 2017 [1.81395349 1.86046512]\n",
      "Wisconsin 2018 [1.75675676 1.69565217 1.75       1.77272727]\n",
      "Wisconsin 2019 [2.17142857 2.13888889 1.85365854 1.88372093 2.2       ]\n",
      "Wisconsin 2020 [1.95544554 1.95121951 2.         2.        ]\n",
      "Wisconsin 2021 [1.88095238 1.77272727 1.84444444 1.88095238 1.88095238]\n",
      "Wisconsin 2022 [1.8287037  1.77777778 1.60869565 1.8287037 ]\n",
      "Wisconsin 2023 [1.9047619 1.9047619 1.7173913]\n"
     ]
    }
   ],
   "source": [
    "for state in state_area['State'].unique():\n",
    "    for year in [2016, 2017, 2018, 2019, 2020, 2021, 2022, 2023]:\n",
    "        corn_area = state_area[(state_area['State'] == state) & (state_area['Crop'] == 'Corn') & (state_area['Year'] == year)]['AreaAcres_usda'].values\n",
    "        soybean_area = state_area[(state_area['State'] == state) & (state_area['Crop'] == 'Soybean')& (state_area['Year'] == year)]['AreaAcres_usda'].values\n",
    "        cornsoy_ratio = corn_area / soybean_area\n",
    "        print(state, year, cornsoy_ratio)"
   ]
  },
  {
   "cell_type": "code",
   "execution_count": 22,
   "metadata": {},
   "outputs": [
    {
     "data": {
      "text/plain": [
       "array([4000000., 4000000., 3950000.])"
      ]
     },
     "execution_count": 22,
     "metadata": {},
     "output_type": "execute_result"
    }
   ],
   "source": [
    "corn_area"
   ]
  }
 ],
 "metadata": {
  "kernelspec": {
   "display_name": "ET_Project",
   "language": "python",
   "name": "python3"
  },
  "language_info": {
   "codemirror_mode": {
    "name": "ipython",
    "version": 3
   },
   "file_extension": ".py",
   "mimetype": "text/x-python",
   "name": "python",
   "nbconvert_exporter": "python",
   "pygments_lexer": "ipython3",
   "version": "3.7.12"
  }
 },
 "nbformat": 4,
 "nbformat_minor": 2
}
