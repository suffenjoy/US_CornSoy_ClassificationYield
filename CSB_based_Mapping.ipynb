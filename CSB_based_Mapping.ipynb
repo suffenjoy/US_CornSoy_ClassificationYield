{
 "cells": [
  {
   "cell_type": "code",
   "execution_count": 1,
   "metadata": {},
   "outputs": [],
   "source": [
    "import geopandas as gpd\n",
    "import pandas as pd\n",
    "import numpy as np\n",
    "import matplotlib.pyplot as plt\n",
    "import os\n",
    "from sklearn import preprocessing\n",
    "from collections import Counter\n",
    "from scipy import stats"
   ]
  },
  {
   "cell_type": "code",
   "execution_count": 2,
   "metadata": {},
   "outputs": [],
   "source": [
    "from sklearn.model_selection import train_test_split\n",
    "from sklearn.metrics import accuracy_score\n",
    "from sklearn.metrics import confusion_matrix\n",
    "from sklearn.metrics import classification_report\n",
    "from sklearn.ensemble import RandomForestClassifier\n",
    "from sklearn.ensemble import GradientBoostingClassifier\n",
    "from sklearn.preprocessing import LabelEncoder\n",
    "from sklearn.metrics import classification_report\n",
    "import seaborn as sns"
   ]
  },
  {
   "cell_type": "code",
   "execution_count": 3,
   "metadata": {},
   "outputs": [],
   "source": [
    "#path_csb22_IL = r\"C:\\Users\\tangz\\Desktop\\US_CornSoy_ClassificationYield\\GeoData\\Vectors\\csb_IL_2022.shp\"\n",
    "path_csb22_IL = r\"D:\\US_CornSoy_ClassificationYield\\Geodata\\csb_IL_2022.shp\"\n",
    "csb22_IL = gpd.read_file(path_csb22_IL)"
   ]
  },
  {
   "cell_type": "markdown",
   "metadata": {},
   "source": [
    "# Preprocess"
   ]
  },
  {
   "cell_type": "code",
   "execution_count": 4,
   "metadata": {},
   "outputs": [
    {
     "data": {
      "text/plain": [
       "Index(['CSBID', 'CSBYEARS', 'CSBACRES', 'R15', 'R16', 'R17', 'R18', 'R19',\n",
       "       'R20', 'R21', 'R22', 'STATEFIPS', 'STATEASD', 'ASD', 'CNTY', 'CNTYFIPS',\n",
       "       'INSIDE_X', 'INSIDE_Y', 'Shape_Leng', 'Shape_Le_1', 'Shape_Area',\n",
       "       'geometry'],\n",
       "      dtype='object')"
      ]
     },
     "execution_count": 4,
     "metadata": {},
     "output_type": "execute_result"
    }
   ],
   "source": [
    "csb22_IL.columns"
   ]
  },
  {
   "cell_type": "code",
   "execution_count": 8,
   "metadata": {},
   "outputs": [
    {
     "data": {
      "text/plain": [
       "array(['1710', '1720', '1760', '1740', '1770', '1730', '1750', '1780',\n",
       "       '1790'], dtype=object)"
      ]
     },
     "execution_count": 8,
     "metadata": {},
     "output_type": "execute_result"
    }
   ],
   "source": [
    "csb22_IL['STATEASD'].unique()"
   ]
  },
  {
   "cell_type": "code",
   "execution_count": 5,
   "metadata": {},
   "outputs": [
    {
     "data": {
      "text/plain": [
       "array(['085', '015', '177', '141', '201', '089', '031', '043', '111',\n",
       "       '037', '007', '097', '117', '061', '083', '137', '171', '149',\n",
       "       '013', '167', '021', '115', '173', '135', '051', '005', '119',\n",
       "       '001', '107', '129', '017', '009', '039', '125', '067', '169',\n",
       "       '057', '113', '109', '179', '143', '203', '095', '187', '071',\n",
       "       '155', '123', '073', '175', '131', '099', '011', '161', '103',\n",
       "       '195', '023', '033', '101', '029', '139', '035', '049', '045',\n",
       "       '025', '041', '147', '019', '183', '079', '053', '105', '075',\n",
       "       '091', '159', '197', '063', '093', '003', '181', '199', '077',\n",
       "       '087', '153', '145', '055', '157', '189', '081', '163', '133',\n",
       "       '121', '027', '127', '165', '151', '059', '069', '193', '191',\n",
       "       '065', '047', '185'], dtype=object)"
      ]
     },
     "execution_count": 5,
     "metadata": {},
     "output_type": "execute_result"
    }
   ],
   "source": [
    "csb22_IL['CNTYFIPS'].unique()"
   ]
  },
  {
   "cell_type": "code",
   "execution_count": 9,
   "metadata": {},
   "outputs": [],
   "source": [
    "#subset columns \n",
    "csb22_IL = csb22_IL[['CSBID','CSBACRES','R15', 'R16', 'R17', 'R18', 'R19','R20', 'R21', 'R22', 'CNTY','CNTYFIPS', 'STATEASD']]\n",
    "#set CNTYFIPS to string\n",
    "csb22_IL['CNTYFIPS'] = csb22_IL['CNTYFIPS'].astype(str)\n",
    "csb22_IL['STATEASD'] = csb22_IL['STATEASD'].astype(str)\n",
    "csb22_IL.head()\n",
    "# reclassify R15-R22 to three classes \n",
    "def tri_classes(value):\n",
    "    if value == 1:\n",
    "        return 'Corn'\n",
    "    elif value == 5:\n",
    "        return 'Soybean'\n",
    "    else:\n",
    "        return 'Other'\n",
    "csb22_IL[['R15', 'R16', 'R17', 'R18', 'R19','R20', 'R21', 'R22']] = csb22_IL[['R15', 'R16', 'R17', 'R18', 'R19','R20', 'R21', 'R22']].applymap(tri_classes)"
   ]
  },
  {
   "cell_type": "code",
   "execution_count": 11,
   "metadata": {},
   "outputs": [
    {
     "name": "stdout",
     "output_type": "stream",
     "text": [
      "(653148, 13)\n",
      "[('Soybean', 306682), ('Corn', 277308), ('Other', 69158)]\n",
      "[('Soybean', 298151), ('Corn', 289765), ('Other', 65232)]\n",
      "[('Corn', 304472), ('Soybean', 289643), ('Other', 59033)]\n",
      "[('Soybean', 268495), ('Corn', 255585), ('Other', 129068)]\n",
      "[('Soybean', 294920), ('Corn', 283479), ('Other', 74749)]\n",
      "[('Soybean', 292525), ('Corn', 290433), ('Other', 70190)]\n",
      "[('Corn', 300714), ('Soybean', 271237), ('Other', 81197)]\n",
      "[('Corn', 297572), ('Soybean', 258952), ('Other', 96624)]\n"
     ]
    }
   ],
   "source": [
    "print(csb22_IL.shape)\n",
    "print(Counter(csb22_IL['R22']).most_common(5))\n",
    "print(Counter(csb22_IL['R21']).most_common(5))\n",
    "print(Counter(csb22_IL['R20']).most_common(5))\n",
    "print(Counter(csb22_IL['R19']).most_common(5))\n",
    "print(Counter(csb22_IL['R18']).most_common(5))\n",
    "print(Counter(csb22_IL['R17']).most_common(5))\n",
    "print(Counter(csb22_IL['R16']).most_common(5))\n",
    "print(Counter(csb22_IL['R15']).most_common(5))"
   ]
  },
  {
   "cell_type": "code",
   "execution_count": 12,
   "metadata": {},
   "outputs": [
    {
     "name": "stdout",
     "output_type": "stream",
     "text": [
      "(102, 3)\n"
     ]
    },
    {
     "data": {
      "text/html": [
       "<div>\n",
       "<style scoped>\n",
       "    .dataframe tbody tr th:only-of-type {\n",
       "        vertical-align: middle;\n",
       "    }\n",
       "\n",
       "    .dataframe tbody tr th {\n",
       "        vertical-align: top;\n",
       "    }\n",
       "\n",
       "    .dataframe thead th {\n",
       "        text-align: right;\n",
       "    }\n",
       "</style>\n",
       "<table border=\"1\" class=\"dataframe\">\n",
       "  <thead>\n",
       "    <tr style=\"text-align: right;\">\n",
       "      <th></th>\n",
       "      <th>CNTYFIPS</th>\n",
       "      <th>CNTY</th>\n",
       "      <th>CSBACRES</th>\n",
       "    </tr>\n",
       "  </thead>\n",
       "  <tbody>\n",
       "    <tr>\n",
       "      <th>0</th>\n",
       "      <td>001</td>\n",
       "      <td>Adams</td>\n",
       "      <td>143505.067917</td>\n",
       "    </tr>\n",
       "    <tr>\n",
       "      <th>1</th>\n",
       "      <td>003</td>\n",
       "      <td>Alexander</td>\n",
       "      <td>4687.555692</td>\n",
       "    </tr>\n",
       "    <tr>\n",
       "      <th>2</th>\n",
       "      <td>005</td>\n",
       "      <td>Bond</td>\n",
       "      <td>68344.472991</td>\n",
       "    </tr>\n",
       "    <tr>\n",
       "      <th>3</th>\n",
       "      <td>007</td>\n",
       "      <td>Boone</td>\n",
       "      <td>71288.880834</td>\n",
       "    </tr>\n",
       "    <tr>\n",
       "      <th>4</th>\n",
       "      <td>009</td>\n",
       "      <td>Brown</td>\n",
       "      <td>33213.755483</td>\n",
       "    </tr>\n",
       "  </tbody>\n",
       "</table>\n",
       "</div>"
      ],
      "text/plain": [
       "  CNTYFIPS       CNTY       CSBACRES\n",
       "0      001      Adams  143505.067917\n",
       "1      003  Alexander    4687.555692\n",
       "2      005       Bond   68344.472991\n",
       "3      007      Boone   71288.880834\n",
       "4      009      Brown   33213.755483"
      ]
     },
     "execution_count": 12,
     "metadata": {},
     "output_type": "execute_result"
    }
   ],
   "source": [
    "# aggregate the CSBACRES based on R22 column of csb22_IL\n",
    "agg_corn22_IL_cnty = csb22_IL[csb22_IL['R22'] == 'Corn'].groupby(['CNTYFIPS', 'CNTY']).agg({'CSBACRES': 'sum'})\n",
    "agg_corn22_IL_cnty = agg_corn22_IL_cnty.reset_index()\n",
    "print(agg_corn22_IL_cnty.shape)\n",
    "agg_corn22_IL_cnty.head()"
   ]
  },
  {
   "cell_type": "markdown",
   "metadata": {},
   "source": [
    "# Compare with actual acreage "
   ]
  },
  {
   "cell_type": "code",
   "execution_count": 128,
   "metadata": {},
   "outputs": [
    {
     "name": "stdout",
     "output_type": "stream",
     "text": [
      "Index(['YEAR', 'LOCATION', 'STATE ANSI', 'ASD CODE', 'COUNTY ANSI',\n",
      "       'REFERENCE PERIOD', 'COMMODITY', 'PRODN PRACTICE',\n",
      "       'AREA HARVESTED in ACRES', 'PRODUCTION in BU', 'YIELD in BU / ACRE',\n",
      "       'AREA PLANTED in ACRES'],\n",
      "      dtype='object')\n",
      "(95, 12)\n"
     ]
    },
    {
     "data": {
      "text/html": [
       "<div>\n",
       "<style scoped>\n",
       "    .dataframe tbody tr th:only-of-type {\n",
       "        vertical-align: middle;\n",
       "    }\n",
       "\n",
       "    .dataframe tbody tr th {\n",
       "        vertical-align: top;\n",
       "    }\n",
       "\n",
       "    .dataframe thead th {\n",
       "        text-align: right;\n",
       "    }\n",
       "</style>\n",
       "<table border=\"1\" class=\"dataframe\">\n",
       "  <thead>\n",
       "    <tr style=\"text-align: right;\">\n",
       "      <th></th>\n",
       "      <th>COUNTY ANSI</th>\n",
       "      <th>LOCATION</th>\n",
       "      <th>AREA PLANTED in ACRES</th>\n",
       "    </tr>\n",
       "  </thead>\n",
       "  <tbody>\n",
       "    <tr>\n",
       "      <th>0</th>\n",
       "      <td>039</td>\n",
       "      <td>ILLINOIS, CENTRAL, DE WITT</td>\n",
       "      <td>102,500</td>\n",
       "    </tr>\n",
       "    <tr>\n",
       "      <th>1</th>\n",
       "      <td>107</td>\n",
       "      <td>ILLINOIS, CENTRAL, LOGAN</td>\n",
       "      <td>178,500</td>\n",
       "    </tr>\n",
       "    <tr>\n",
       "      <th>2</th>\n",
       "      <td>115</td>\n",
       "      <td>ILLINOIS, CENTRAL, MACON</td>\n",
       "      <td>142,500</td>\n",
       "    </tr>\n",
       "    <tr>\n",
       "      <th>3</th>\n",
       "      <td>123</td>\n",
       "      <td>ILLINOIS, CENTRAL, MARSHALL</td>\n",
       "      <td>91,600</td>\n",
       "    </tr>\n",
       "    <tr>\n",
       "      <th>4</th>\n",
       "      <td>125</td>\n",
       "      <td>ILLINOIS, CENTRAL, MASON</td>\n",
       "      <td>114,500</td>\n",
       "    </tr>\n",
       "  </tbody>\n",
       "</table>\n",
       "</div>"
      ],
      "text/plain": [
       "  COUNTY ANSI                     LOCATION AREA PLANTED in ACRES\n",
       "0         039   ILLINOIS, CENTRAL, DE WITT               102,500\n",
       "1         107     ILLINOIS, CENTRAL, LOGAN               178,500\n",
       "2         115     ILLINOIS, CENTRAL, MACON               142,500\n",
       "3         123  ILLINOIS, CENTRAL, MARSHALL                91,600\n",
       "4         125     ILLINOIS, CENTRAL, MASON               114,500"
      ]
     },
     "execution_count": 128,
     "metadata": {},
     "output_type": "execute_result"
    }
   ],
   "source": [
    "usda_IL_corn_22_area = pd.read_csv(r\"C:\\Users\\tangz\\Desktop\\US_CornSoy_ClassificationYield\\TabularData\\Illinois_Corn_2022_Area.csv\")\n",
    "usda_IL_corn_22_area = usda_IL_corn_22_area[usda_IL_corn_22_area[\"COMMODITY\"] == 'CORN']\n",
    "print(usda_IL_corn_22_area.columns)\n",
    "print(usda_IL_corn_22_area.shape)\n",
    "usda_IL_corn_22_area = usda_IL_corn_22_area[[\"COUNTY ANSI\", \"LOCATION\", \"AREA PLANTED in ACRES\"]]\n",
    "usda_IL_corn_22_area.head()\n",
    "# usda_IL_corn_22_area.rename(columns={\"COUNTY ANSI\": \"COUNTY_FIPS\", \"AREA PLANTED in ACRES\": \"Area_USDA\"}, inplace=True)"
   ]
  },
  {
   "cell_type": "code",
   "execution_count": 129,
   "metadata": {},
   "outputs": [
    {
     "name": "stdout",
     "output_type": "stream",
     "text": [
      "r-squared: 0.9983604895099553\n",
      "Total Acres_CSB: 10339579.315914819\n",
      "Total Acres_USDA: 10259000\n",
      "Difference Percentage: 0.7854500040434644\n"
     ]
    },
    {
     "data": {
      "image/png": "[encoded data removed]",
      "text/plain": [
       "<Figure size 640x480 with 1 Axes>"
      ]
     },
     "metadata": {},
     "output_type": "display_data"
    }
   ],
   "source": [
    "#merge two dataframe agg_corn22_IL_cnty and usda_IL_corn_22_area, based on CNTYFIPS and COUNTY ANSI columns \n",
    "df = pd.merge(agg_corn22_IL_cnty, usda_IL_corn_22_area, how='inner', left_on=['CNTYFIPS'], right_on=['COUNTY ANSI'])\n",
    "df.rename(columns={'AREA PLANTED in ACRES': 'Acres_USDA', 'CSBACRES':'Acres_CSB'}, inplace=True)\n",
    "# Change Acres_CSB and Acres_USDA columns to numeric\n",
    "df['Acres_CSB'] = pd.to_numeric(df['Acres_CSB'])\n",
    "df['Acres_USDA'] = pd.to_numeric(df['Acres_USDA'].str.replace(',', ''))\n",
    "\n",
    "# scatter plot of Acres_CSB and Acres_USDA\n",
    "x = df['Acres_CSB']\n",
    "y = df['Acres_USDA']\n",
    "plt.scatter(x, y, alpha=0.5)\n",
    "#plt.title('Acres_CSB vs Acres_USDA')\n",
    "plt.xlabel('CSB Acres')\n",
    "plt.ylabel('USDA Acres')\n",
    "plt.title('Illinois Corn 2022')\n",
    "#set x and y limits to be the same, and add a diagonal line\n",
    "#plt.xlim(0, )\n",
    "#plt.ylim(0, 1000)\n",
    "plt.plot([0, 350000], [0, 350000], color='red', lw=1, linestyle='--')\n",
    "\n",
    "#calculate the linear regression\n",
    "slope, intercept, r_value, p_value, std_err = stats.linregress(x,y)\n",
    "# print the slope and intercept of the equation on the plot\n",
    "plt.text(50000, 300000, 'y={:.2f}x+{:.2f}'.format(slope,intercept), color='black', fontsize=12)\n",
    "print('r-squared:', r_value**2)\n",
    "# Tota Acres\n",
    "print('Total Acres_CSB:', df['Acres_CSB'].sum())\n",
    "print('Total Acres_USDA:', df['Acres_USDA'].sum())\n",
    "print('Difference Percentage:', (df['Acres_CSB'].sum() - df['Acres_USDA'].sum())/df['Acres_USDA'].sum()*100)\n",
    "\n",
    "plt.show()"
   ]
  },
  {
   "cell_type": "markdown",
   "metadata": {},
   "source": [
    "# Baseline model"
   ]
  },
  {
   "cell_type": "code",
   "execution_count": 13,
   "metadata": {},
   "outputs": [
    {
     "data": {
      "text/plain": [
       "Index(['CSBID', 'CSBACRES', 'R15', 'R16', 'R17', 'R18', 'R19', 'R20', 'R21',\n",
       "       'R22', 'CNTY', 'CNTYFIPS', 'STATEASD'],\n",
       "      dtype='object')"
      ]
     },
     "execution_count": 13,
     "metadata": {},
     "output_type": "execute_result"
    }
   ],
   "source": [
    "csb22_IL.columns"
   ]
  },
  {
   "cell_type": "code",
   "execution_count": 54,
   "metadata": {},
   "outputs": [],
   "source": [
    "def pre_process(df, n_var, yr):\n",
    "    \"\"\"\n",
    "    df: raw csb dataframe\n",
    "    n_var: number of variables to be used for the modeling, e.g. 3\n",
    "    yr: prediction year, e.g. 22 for 2022\n",
    "    \"\"\"\n",
    "    if yr < 23:\n",
    "        col_y = 'R' + str(yr)\n",
    "        df_y = df[col_y]\n",
    "        #subset columns from yr-n_var to yr-1\n",
    "        col_x = ['R' + str(i) for i in range(yr-n_var, yr)]\n",
    "        df_x = df[col_x]\n",
    "        #Rename the columns in col_x: call it yr_1, yr_2, yr_3, etc. \n",
    "        df_x.columns = ['yr' + str(i) for i in range(1, n_var+1)]\n",
    "        #Encode the categorical variables\n",
    "        df_x = pd.get_dummies(df_x)\n",
    "        df_y = LabelEncoder().fit_transform(df_y)\n",
    "        #Add the CSBACRES column to df_x\n",
    "        df_x['CSBACRES'] = df['CSBACRES']\n",
    "        #Add the ASD column to df_x\n",
    "        df_stateasd = pd.get_dummies(df['STATEASD'])\n",
    "        #rename the columns in df_stateasd\n",
    "        df_stateasd.columns = ['STATEASD_' + str(i) for i in df_stateasd.columns]\n",
    "        df_x = pd.concat([df_x, df_stateasd], axis=1)\n",
    "\n",
    "        #Return the processed data\n",
    "        return df_x, df_y\n",
    "    else: \n",
    "        col_x = ['R' + str(i) for i in range(yr-n_var, yr)]\n",
    "        df_x = df[col_x]\n",
    "        #Rename the columns in col_x: call it yr_1, yr_2, yr_3, etc. \n",
    "        df_x.columns = ['yr' + str(i) for i in range(1, n_var+1)]\n",
    "        #Encode the categorical variables\n",
    "        df_x = pd.get_dummies(df_x)\n",
    "        #Add the CSBACRES column to df_x\n",
    "        df_x['CSBACRES'] = df['CSBACRES']\n",
    "        #Add the ASD column to df_x\n",
    "        df_stateasd = pd.get_dummies(df['STATEASD'])\n",
    "        #rename the columns in df_stateasd\n",
    "        df_stateasd.columns = ['STATEASD_' + str(i) for i in df_stateasd.columns]\n",
    "        df_x = pd.concat([df_x, df_stateasd], axis=1)\n",
    "        #return the processed data\n",
    "        return df_x"
   ]
  },
  {
   "cell_type": "code",
   "execution_count": 22,
   "metadata": {},
   "outputs": [
    {
     "name": "stdout",
     "output_type": "stream",
     "text": [
      "{'Corn': 0, 'Other': 1, 'Soybean': 2}\n"
     ]
    }
   ],
   "source": [
    "le = LabelEncoder()\n",
    "encoded = le.fit_transform(csb22_IL['R21'])\n",
    "mapping = dict(zip(le.classes_, range(len(le.classes_))))\n",
    "print(mapping)"
   ]
  },
  {
   "cell_type": "code",
   "execution_count": 55,
   "metadata": {},
   "outputs": [],
   "source": [
    "X_5_20, Y_20 = pre_process(csb22_IL, n_var = 5, yr = 20)\n",
    "X_5_21, Y_21 = pre_process(csb22_IL, n_var = 5, yr = 21)\n",
    "X_5_22, Y_22 = pre_process(csb22_IL, n_var = 5, yr = 22)\n",
    "X_5_23 = pre_process(csb22_IL, n_var = 5, yr = 23)\n",
    "# X_train, X_test, y_train, y_test = train_test_split(X_5_21, Y_21, test_size=0.2, random_state=777)"
   ]
  },
  {
   "cell_type": "code",
   "execution_count": 60,
   "metadata": {},
   "outputs": [],
   "source": [
    "def rf_model_all(csbdf, yr, X, Y, Xnew = None, Ynew = None):\n",
    "    \"\"\"\n",
    "    csbdf: raw csb dataframe\n",
    "    yr: prediction year, e.g. 22 for 2022\n",
    "    X: X_train\n",
    "    Y: Y_train\n",
    "    Xnew: X_test\n",
    "    Ynew: Y_test\n",
    "    \"\"\"\n",
    "    # #Generate dataframe \n",
    "    # X, Y = pre_process(csbdf, n_var = 5, yr = yr)\n",
    "    #Train the model\n",
    "    clf_rf = RandomForestClassifier(n_estimators=100, max_depth=5, random_state=0)\n",
    "    clf_rf.fit(X, Y)\n",
    "    Ypred_new = clf_rf.predict(Xnew)\n",
    "    if Ynew is not None:\n",
    "        Accuracy = accuracy_score(Ynew, Ypred_new)\n",
    "        CM = confusion_matrix(Ynew, Ypred_new)\n",
    "        print('Accuracy: ', Accuracy)\n",
    "        # print('Confusion Matrix: ', CM)\n",
    "    \n",
    "    #Calculate total acres of each class\n",
    "    df_results = csbdf.copy()\n",
    "    df_results['R{}_PED'.format(yr)] = Ypred_new\n",
    "    #Predicted total acres\n",
    "    df_corn1 = df_results[df_results['R{}_PED'.format(yr)] == 0].groupby(['CNTYFIPS', 'CNTY']).agg({'CSBACRES': 'sum'}).reset_index() #Corn\n",
    "    df_corn1.rename(columns={'CSBACRES': 'CornAcres_Pred'}, inplace=True)\n",
    "    df_soy1 = df_results[df_results['R{}_PED'.format(yr)] == 2].groupby(['CNTYFIPS', 'CNTY']).agg({'CSBACRES': 'sum'}).reset_index() #Soybean\n",
    "    df_soy1.rename(columns={'CSBACRES': 'SoyAcres_Pred'}, inplace=True)\n",
    "    if Ynew is not None:\n",
    "        #Actual total acres\n",
    "        df_corn2 = df_results[df_results['R{}'.format(yr)] == 'Corn'].groupby(['CNTYFIPS', 'CNTY']).agg({'CSBACRES': 'sum'}).reset_index() #Corn\n",
    "        df_corn2.rename(columns={'CSBACRES': 'CornAcres_Actual'}, inplace=True)\n",
    "        df_soy2 = df_results[df_results['R{}'.format(yr)] == 'Soybean'].groupby(['CNTYFIPS', 'CNTY']).agg({'CSBACRES': 'sum'}).reset_index() #Soybean\n",
    "        df_soy2.rename(columns={'CSBACRES': 'SoyAcres_Actual'}, inplace=True)\n",
    "        #Merge the two dataframes\n",
    "        df_corn = pd.merge(df_corn1, df_corn2, how='inner', left_on=['CNTYFIPS','CNTY'], right_on=['CNTYFIPS','CNTY'])\n",
    "        df_soy = pd.merge(df_soy1, df_soy2, how='inner', left_on=['CNTYFIPS','CNTY'], right_on=['CNTYFIPS','CNTY'])\n",
    "        #Sum of the total acres\n",
    "        Sum_Corn_Pred = df_corn['CornAcres_Pred'].sum()\n",
    "        Sum_Corn_Actual = df_corn['CornAcres_Actual'].sum()\n",
    "        Sum_Soy_Pred = df_soy['SoyAcres_Pred'].sum()\n",
    "        Sum_Soy_Actual = df_soy['SoyAcres_Actual'].sum()\n",
    "        df_sum = pd.DataFrame({'YR':[yr],'Sum_Corn_Pred': [Sum_Corn_Pred], 'Sum_Corn_Actual': [Sum_Corn_Actual], 'Sum_Soy_Pred': [Sum_Soy_Pred], 'Sum_Soy_Actual': [Sum_Soy_Actual]})\n",
    "        df_sum['Diff_Corn'] = df_sum['Sum_Corn_Pred'] - df_sum['Sum_Corn_Actual']\n",
    "        df_sum['Diff_Soy'] = df_sum['Sum_Soy_Pred'] - df_sum['Sum_Soy_Actual']\n",
    "        df_sum['Diff_Corn_Percent'] = df_sum['Diff_Corn']/df_sum['Sum_Corn_Actual']*100\n",
    "        df_sum['Diff_Soy_Percent'] = df_sum['Diff_Soy']/df_sum['Sum_Soy_Actual']*100\n",
    "        print(df_sum)\n",
    "        \n",
    "        return clf_rf, Ypred_new, Accuracy, CM, df_corn, df_soy, df_sum\n",
    "    else:\n",
    "        return clf_rf, Ypred_new, df_corn1, df_soy1"
   ]
  },
  {
   "cell_type": "code",
   "execution_count": 61,
   "metadata": {},
   "outputs": [],
   "source": [
    "clf_rf_23, Ypred_23, df_corn23, df_soy23 = rf_model_all(csb22_IL, 23, X_5_22, Y_22, X_5_23)"
   ]
  },
  {
   "cell_type": "code",
   "execution_count": 64,
   "metadata": {},
   "outputs": [
    {
     "name": "stdout",
     "output_type": "stream",
     "text": [
      "10871767.421487965\n",
      "11212266.168125633\n"
     ]
    }
   ],
   "source": [
    "print(df_corn23['CornAcres_Pred'].sum())\n",
    "print(df_soy23['SoyAcres_Pred'].sum())"
   ]
  },
  {
   "cell_type": "code",
   "execution_count": 47,
   "metadata": {},
   "outputs": [
    {
     "name": "stdout",
     "output_type": "stream",
     "text": [
      "Accuracy:  0.7588969115728748\n",
      "   YR  Sum_Corn_Pred  Sum_Corn_Actual  Sum_Soy_Pred  Sum_Soy_Actual  \\\n",
      "0  22   1.154554e+07     1.087936e+07  1.061980e+07    1.059549e+07   \n",
      "\n",
      "       Diff_Corn      Diff_Soy  Diff_Corn_Percent  Diff_Soy_Percent  \n",
      "0  666186.684035  24312.249777           6.123402          0.229458  \n",
      "Accuracy:  0.7133681799530888\n",
      "   YR  Sum_Corn_Pred  Sum_Corn_Actual  Sum_Soy_Pred  Sum_Soy_Actual  \\\n",
      "0  21   1.174348e+07     1.111852e+07  1.043603e+07    1.035271e+07   \n",
      "\n",
      "       Diff_Corn      Diff_Soy  Diff_Corn_Percent  Diff_Soy_Percent  \n",
      "0  624952.269733  83315.556006           5.620821           0.80477  \n"
     ]
    }
   ],
   "source": [
    "# clf_rf_23, Ypred_23, Acc_23, CM_23, df_corn23, df_soy23 = rf_model_all(csb22_IL, 23, X_5_22, Y_22)\n",
    "\n",
    "clf_rf_22, Ypred_22, Acc_22, CM_22, df_corn22, df_soy22, df_sum22 = rf_model_all(csb22_IL, 22, X_5_21, Y_21, X_5_22, Y_22)\n",
    "clf_rf_21, Ypred_21, Acc_21, CM_21, df_corn21, df_soy21, df_sum21 = rf_model_all(csb22_IL, 21, X_5_20, Y_20, X_5_21, Y_21)"
   ]
  },
  {
   "cell_type": "code",
   "execution_count": 57,
   "metadata": {},
   "outputs": [
    {
     "data": {
      "text/plain": [
       "0.0"
      ]
     },
     "execution_count": 57,
     "metadata": {},
     "output_type": "execute_result"
    }
   ],
   "source": [
    "1.087936e+07 - 10879360"
   ]
  },
  {
   "cell_type": "code",
   "execution_count": 48,
   "metadata": {},
   "outputs": [
    {
     "data": {
      "text/html": [
       "<div>\n",
       "<style scoped>\n",
       "    .dataframe tbody tr th:only-of-type {\n",
       "        vertical-align: middle;\n",
       "    }\n",
       "\n",
       "    .dataframe tbody tr th {\n",
       "        vertical-align: top;\n",
       "    }\n",
       "\n",
       "    .dataframe thead th {\n",
       "        text-align: right;\n",
       "    }\n",
       "</style>\n",
       "<table border=\"1\" class=\"dataframe\">\n",
       "  <thead>\n",
       "    <tr style=\"text-align: right;\">\n",
       "      <th></th>\n",
       "      <th>YR</th>\n",
       "      <th>Sum_Corn_Pred</th>\n",
       "      <th>Sum_Corn_Actual</th>\n",
       "      <th>Sum_Soy_Pred</th>\n",
       "      <th>Sum_Soy_Actual</th>\n",
       "      <th>Diff_Corn</th>\n",
       "      <th>Diff_Soy</th>\n",
       "      <th>Diff_Corn_Percent</th>\n",
       "      <th>Diff_Soy_Percent</th>\n",
       "    </tr>\n",
       "  </thead>\n",
       "  <tbody>\n",
       "    <tr>\n",
       "      <th>0</th>\n",
       "      <td>22</td>\n",
       "      <td>1.154554e+07</td>\n",
       "      <td>1.087936e+07</td>\n",
       "      <td>1.061980e+07</td>\n",
       "      <td>1.059549e+07</td>\n",
       "      <td>666186.684035</td>\n",
       "      <td>24312.249777</td>\n",
       "      <td>6.123402</td>\n",
       "      <td>0.229458</td>\n",
       "    </tr>\n",
       "  </tbody>\n",
       "</table>\n",
       "</div>"
      ],
      "text/plain": [
       "   YR  Sum_Corn_Pred  Sum_Corn_Actual  Sum_Soy_Pred  Sum_Soy_Actual  \\\n",
       "0  22   1.154554e+07     1.087936e+07  1.061980e+07    1.059549e+07   \n",
       "\n",
       "       Diff_Corn      Diff_Soy  Diff_Corn_Percent  Diff_Soy_Percent  \n",
       "0  666186.684035  24312.249777           6.123402          0.229458  "
      ]
     },
     "execution_count": 48,
     "metadata": {},
     "output_type": "execute_result"
    }
   ],
   "source": [
    "df_sum22"
   ]
  },
  {
   "cell_type": "code",
   "execution_count": 49,
   "metadata": {},
   "outputs": [
    {
     "data": {
      "text/html": [
       "<div>\n",
       "<style scoped>\n",
       "    .dataframe tbody tr th:only-of-type {\n",
       "        vertical-align: middle;\n",
       "    }\n",
       "\n",
       "    .dataframe tbody tr th {\n",
       "        vertical-align: top;\n",
       "    }\n",
       "\n",
       "    .dataframe thead th {\n",
       "        text-align: right;\n",
       "    }\n",
       "</style>\n",
       "<table border=\"1\" class=\"dataframe\">\n",
       "  <thead>\n",
       "    <tr style=\"text-align: right;\">\n",
       "      <th></th>\n",
       "      <th>YR</th>\n",
       "      <th>Sum_Corn_Pred</th>\n",
       "      <th>Sum_Corn_Actual</th>\n",
       "      <th>Sum_Soy_Pred</th>\n",
       "      <th>Sum_Soy_Actual</th>\n",
       "      <th>Diff_Corn</th>\n",
       "      <th>Diff_Soy</th>\n",
       "      <th>Diff_Corn_Percent</th>\n",
       "      <th>Diff_Soy_Percent</th>\n",
       "    </tr>\n",
       "  </thead>\n",
       "  <tbody>\n",
       "    <tr>\n",
       "      <th>0</th>\n",
       "      <td>21</td>\n",
       "      <td>1.174348e+07</td>\n",
       "      <td>1.111852e+07</td>\n",
       "      <td>1.043603e+07</td>\n",
       "      <td>1.035271e+07</td>\n",
       "      <td>624952.269733</td>\n",
       "      <td>83315.556006</td>\n",
       "      <td>5.620821</td>\n",
       "      <td>0.80477</td>\n",
       "    </tr>\n",
       "  </tbody>\n",
       "</table>\n",
       "</div>"
      ],
      "text/plain": [
       "   YR  Sum_Corn_Pred  Sum_Corn_Actual  Sum_Soy_Pred  Sum_Soy_Actual  \\\n",
       "0  21   1.174348e+07     1.111852e+07  1.043603e+07    1.035271e+07   \n",
       "\n",
       "       Diff_Corn      Diff_Soy  Diff_Corn_Percent  Diff_Soy_Percent  \n",
       "0  624952.269733  83315.556006           5.620821           0.80477  "
      ]
     },
     "execution_count": 49,
     "metadata": {},
     "output_type": "execute_result"
    }
   ],
   "source": [
    "df_sum21"
   ]
  },
  {
   "cell_type": "code",
   "execution_count": 50,
   "metadata": {},
   "outputs": [
    {
     "data": {
      "text/plain": [
       "0    242778.676604\n",
       "Name: Sum_Soy_Actual, dtype: float64"
      ]
     },
     "execution_count": 50,
     "metadata": {},
     "output_type": "execute_result"
    }
   ],
   "source": [
    "df_sum22['Sum_Soy_Actual'] - df_sum21['Sum_Soy_Actual']"
   ]
  },
  {
   "cell_type": "code",
   "execution_count": 43,
   "metadata": {},
   "outputs": [
    {
     "data": {
      "text/html": [
       "<div>\n",
       "<style scoped>\n",
       "    .dataframe tbody tr th:only-of-type {\n",
       "        vertical-align: middle;\n",
       "    }\n",
       "\n",
       "    .dataframe tbody tr th {\n",
       "        vertical-align: top;\n",
       "    }\n",
       "\n",
       "    .dataframe thead th {\n",
       "        text-align: right;\n",
       "    }\n",
       "</style>\n",
       "<table border=\"1\" class=\"dataframe\">\n",
       "  <thead>\n",
       "    <tr style=\"text-align: right;\">\n",
       "      <th></th>\n",
       "      <th>YR</th>\n",
       "      <th>Sum_Corn_Pred</th>\n",
       "      <th>Sum_Corn_Actual</th>\n",
       "      <th>Sum_Soy_Pred</th>\n",
       "      <th>Sum_Soy_Actual</th>\n",
       "      <th>Diff_Corn</th>\n",
       "      <th>Diff_Soy</th>\n",
       "      <th>Diff_Corn_Percent</th>\n",
       "      <th>Diff_Soy_Percent</th>\n",
       "    </tr>\n",
       "  </thead>\n",
       "  <tbody>\n",
       "    <tr>\n",
       "      <th>0</th>\n",
       "      <td>22</td>\n",
       "      <td>1.133602e+07</td>\n",
       "      <td>1.087936e+07</td>\n",
       "      <td>9.945422e+06</td>\n",
       "      <td>1.059549e+07</td>\n",
       "      <td>456668.754902</td>\n",
       "      <td>-650066.970249</td>\n",
       "      <td>4.197572</td>\n",
       "      <td>-6.135318</td>\n",
       "    </tr>\n",
       "  </tbody>\n",
       "</table>\n",
       "</div>"
      ],
      "text/plain": [
       "   YR  Sum_Corn_Pred  Sum_Corn_Actual  Sum_Soy_Pred  Sum_Soy_Actual  \\\n",
       "0  22   1.133602e+07     1.087936e+07  9.945422e+06    1.059549e+07   \n",
       "\n",
       "       Diff_Corn       Diff_Soy  Diff_Corn_Percent  Diff_Soy_Percent  \n",
       "0  456668.754902 -650066.970249           4.197572         -6.135318  "
      ]
     },
     "execution_count": 43,
     "metadata": {},
     "output_type": "execute_result"
    }
   ],
   "source": [
    "df_sum22['Diff_Corn'] = df_sum22['Sum_Corn_Pred'] - df_sum22['Sum_Corn_Actual']\n",
    "df_sum22['Diff_Soy'] = df_sum22['Sum_Soy_Pred'] - df_sum22['Sum_Soy_Actual']\n",
    "df_sum22['Diff_Corn_Percent'] = df_sum22['Diff_Corn']/df_sum22['Sum_Corn_Actual']*100\n",
    "df_sum22['Diff_Soy_Percent'] = df_sum22['Diff_Soy']/df_sum22['Sum_Soy_Actual']*100\n",
    "df_sum22"
   ]
  },
  {
   "cell_type": "code",
   "execution_count": null,
   "metadata": {},
   "outputs": [],
   "source": []
  },
  {
   "cell_type": "code",
   "execution_count": 188,
   "metadata": {},
   "outputs": [
    {
     "data": {
      "text/html": [
       "<style>#sk-container-id-6 {color: black;}#sk-container-id-6 pre{padding: 0;}#sk-container-id-6 div.sk-toggleable {background-color: white;}#sk-container-id-6 label.sk-toggleable__label {cursor: pointer;display: block;width: 100%;margin-bottom: 0;padding: 0.3em;box-sizing: border-box;text-align: center;}#sk-container-id-6 label.sk-toggleable__label-arrow:before {content: \"▸\";float: left;margin-right: 0.25em;color: #696969;}#sk-container-id-6 label.sk-toggleable__label-arrow:hover:before {color: black;}#sk-container-id-6 div.sk-estimator:hover label.sk-toggleable__label-arrow:before {color: black;}#sk-container-id-6 div.sk-toggleable__content {max-height: 0;max-width: 0;overflow: hidden;text-align: left;background-color: #f0f8ff;}#sk-container-id-6 div.sk-toggleable__content pre {margin: 0.2em;color: black;border-radius: 0.25em;background-color: #f0f8ff;}#sk-container-id-6 input.sk-toggleable__control:checked~div.sk-toggleable__content {max-height: 200px;max-width: 100%;overflow: auto;}#sk-container-id-6 input.sk-toggleable__control:checked~label.sk-toggleable__label-arrow:before {content: \"▾\";}#sk-container-id-6 div.sk-estimator input.sk-toggleable__control:checked~label.sk-toggleable__label {background-color: #d4ebff;}#sk-container-id-6 div.sk-label input.sk-toggleable__control:checked~label.sk-toggleable__label {background-color: #d4ebff;}#sk-container-id-6 input.sk-hidden--visually {border: 0;clip: rect(1px 1px 1px 1px);clip: rect(1px, 1px, 1px, 1px);height: 1px;margin: -1px;overflow: hidden;padding: 0;position: absolute;width: 1px;}#sk-container-id-6 div.sk-estimator {font-family: monospace;background-color: #f0f8ff;border: 1px dotted black;border-radius: 0.25em;box-sizing: border-box;margin-bottom: 0.5em;}#sk-container-id-6 div.sk-estimator:hover {background-color: #d4ebff;}#sk-container-id-6 div.sk-parallel-item::after {content: \"\";width: 100%;border-bottom: 1px solid gray;flex-grow: 1;}#sk-container-id-6 div.sk-label:hover label.sk-toggleable__label {background-color: #d4ebff;}#sk-container-id-6 div.sk-serial::before {content: \"\";position: absolute;border-left: 1px solid gray;box-sizing: border-box;top: 0;bottom: 0;left: 50%;z-index: 0;}#sk-container-id-6 div.sk-serial {display: flex;flex-direction: column;align-items: center;background-color: white;padding-right: 0.2em;padding-left: 0.2em;position: relative;}#sk-container-id-6 div.sk-item {position: relative;z-index: 1;}#sk-container-id-6 div.sk-parallel {display: flex;align-items: stretch;justify-content: center;background-color: white;position: relative;}#sk-container-id-6 div.sk-item::before, #sk-container-id-6 div.sk-parallel-item::before {content: \"\";position: absolute;border-left: 1px solid gray;box-sizing: border-box;top: 0;bottom: 0;left: 50%;z-index: -1;}#sk-container-id-6 div.sk-parallel-item {display: flex;flex-direction: column;z-index: 1;position: relative;background-color: white;}#sk-container-id-6 div.sk-parallel-item:first-child::after {align-self: flex-end;width: 50%;}#sk-container-id-6 div.sk-parallel-item:last-child::after {align-self: flex-start;width: 50%;}#sk-container-id-6 div.sk-parallel-item:only-child::after {width: 0;}#sk-container-id-6 div.sk-dashed-wrapped {border: 1px dashed gray;margin: 0 0.4em 0.5em 0.4em;box-sizing: border-box;padding-bottom: 0.4em;background-color: white;}#sk-container-id-6 div.sk-label label {font-family: monospace;font-weight: bold;display: inline-block;line-height: 1.2em;}#sk-container-id-6 div.sk-label-container {text-align: center;}#sk-container-id-6 div.sk-container {/* jupyter's `normalize.less` sets `[hidden] { display: none; }` but bootstrap.min.css set `[hidden] { display: none !important; }` so we also need the `!important` here to be able to override the default hidden behavior on the sphinx rendered scikit-learn.org. See: https://github.com/scikit-learn/scikit-learn/issues/21755 */display: inline-block !important;position: relative;}#sk-container-id-6 div.sk-text-repr-fallback {display: none;}</style><div id=\"sk-container-id-6\" class=\"sk-top-container\"><div class=\"sk-text-repr-fallback\"><pre>RandomForestClassifier(max_depth=5, random_state=0)</pre><b>In a Jupyter environment, please rerun this cell to show the HTML representation or trust the notebook. <br />On GitHub, the HTML representation is unable to render, please try loading this page with nbviewer.org.</b></div><div class=\"sk-container\" hidden><div class=\"sk-item\"><div class=\"sk-estimator sk-toggleable\"><input class=\"sk-toggleable__control sk-hidden--visually\" id=\"sk-estimator-id-6\" type=\"checkbox\" checked><label for=\"sk-estimator-id-6\" class=\"sk-toggleable__label sk-toggleable__label-arrow\">RandomForestClassifier</label><div class=\"sk-toggleable__content\"><pre>RandomForestClassifier(max_depth=5, random_state=0)</pre></div></div></div></div></div>"
      ],
      "text/plain": [
       "RandomForestClassifier(max_depth=5, random_state=0)"
      ]
     },
     "execution_count": 188,
     "metadata": {},
     "output_type": "execute_result"
    }
   ],
   "source": [
    "clf_rf5 = RandomForestClassifier(n_estimators=100, max_depth=5, random_state=0)\n",
    "clf_rf5.fit(X_5_21, Y_21)"
   ]
  },
  {
   "cell_type": "code",
   "execution_count": 192,
   "metadata": {},
   "outputs": [],
   "source": [
    "y_pred_rf5_22 = clf_rf5.predict(X_5_22)"
   ]
  },
  {
   "cell_type": "code",
   "execution_count": 193,
   "metadata": {},
   "outputs": [
    {
     "name": "stdout",
     "output_type": "stream",
     "text": [
      "Accuracy: 0.7567810052239309\n",
      "[[234077   2181  41050]\n",
      " [ 34248  21677  13233]\n",
      " [ 66624   1522 238536]]\n"
     ]
    }
   ],
   "source": [
    "print(\"Accuracy:\",accuracy_score(Y_22, y_pred_rf5_22))\n",
    "cm = confusion_matrix(Y_22, y_pred_rf5_22)\n",
    "print(cm)"
   ]
  },
  {
   "cell_type": "code",
   "execution_count": 196,
   "metadata": {},
   "outputs": [],
   "source": [
    "# Calculate how many equals to 0\n",
    "df_results = csb22_IL.copy()\n",
    "df_results['R22_PED'] = y_pred_rf5_22"
   ]
  },
  {
   "cell_type": "code",
   "execution_count": 213,
   "metadata": {},
   "outputs": [
    {
     "name": "stdout",
     "output_type": "stream",
     "text": [
      "r2 = 0.9475347549711155\n",
      "y = 1.029441716982933x + -8664.275345659931\n",
      "Predicted Yield: 11426690\n",
      "Actual Yield: 10879355\n",
      "Difference Percentage: 0.05030947805940035\n"
     ]
    },
    {
     "data": {
      "image/png": "[encoded data removed]",
      "text/plain": [
       "<Figure size 640x480 with 1 Axes>"
      ]
     },
     "metadata": {},
     "output_type": "display_data"
    }
   ],
   "source": [
    "df1 = df_results[df_results['R22_PED'] == 0].groupby(['CNTYFIPS', 'CNTY']).agg({'CSBACRES': 'sum'})\n",
    "df1 = df1.reset_index()\n",
    "df2 = df_results[df_results['R22'] == 'Corn'].groupby(['CNTYFIPS', 'CNTY']).agg({'CSBACRES': 'sum'})\n",
    "df2 = df2.reset_index()\n",
    "df2\n",
    "x = df1['CSBACRES'] # Predicted Acres\n",
    "y = df2['CSBACRES'] # Actual Acres\n",
    "plt.scatter(x, y)\n",
    "# Add 1:1 line\n",
    "plt.plot([0, 350000], [0, 350000], color='red', linestyle='--', linewidth=1)\n",
    "# Add labels\n",
    "plt.xlabel('Predicted Corn Acres')\n",
    "plt.ylabel('Actual Corn Acres')\n",
    "# Calculate r2 and linear equation\n",
    "r2 = r2_score(x, y)\n",
    "print(f'r2 = {r2}')\n",
    "slope, intercept, r_value, p_value, std_err = stats.linregress(x, y)\n",
    "print(f'y = {slope}x + {intercept}')\n",
    "\n",
    "\n",
    "#TOTAL ACRES (Keep only the integer part of the number)\n",
    "x_sum = x.sum()\n",
    "y_sum = y.sum()\n",
    "print(\"Predicted Yield: \" + str(x_sum.astype(int)))\n",
    "print(\"Actual Yield: \"+ str(y_sum.astype(int)))\n",
    "print(\"Difference Percentage: \" + str((x.sum() - y.sum())/y.sum()))\n",
    "\n",
    "plt.show()"
   ]
  },
  {
   "cell_type": "code",
   "execution_count": null,
   "metadata": {},
   "outputs": [],
   "source": []
  },
  {
   "cell_type": "markdown",
   "metadata": {},
   "source": []
  },
  {
   "cell_type": "code",
   "execution_count": 178,
   "metadata": {},
   "outputs": [
    {
     "data": {
      "text/html": [
       "<style>#sk-container-id-4 {color: black;}#sk-container-id-4 pre{padding: 0;}#sk-container-id-4 div.sk-toggleable {background-color: white;}#sk-container-id-4 label.sk-toggleable__label {cursor: pointer;display: block;width: 100%;margin-bottom: 0;padding: 0.3em;box-sizing: border-box;text-align: center;}#sk-container-id-4 label.sk-toggleable__label-arrow:before {content: \"▸\";float: left;margin-right: 0.25em;color: #696969;}#sk-container-id-4 label.sk-toggleable__label-arrow:hover:before {color: black;}#sk-container-id-4 div.sk-estimator:hover label.sk-toggleable__label-arrow:before {color: black;}#sk-container-id-4 div.sk-toggleable__content {max-height: 0;max-width: 0;overflow: hidden;text-align: left;background-color: #f0f8ff;}#sk-container-id-4 div.sk-toggleable__content pre {margin: 0.2em;color: black;border-radius: 0.25em;background-color: #f0f8ff;}#sk-container-id-4 input.sk-toggleable__control:checked~div.sk-toggleable__content {max-height: 200px;max-width: 100%;overflow: auto;}#sk-container-id-4 input.sk-toggleable__control:checked~label.sk-toggleable__label-arrow:before {content: \"▾\";}#sk-container-id-4 div.sk-estimator input.sk-toggleable__control:checked~label.sk-toggleable__label {background-color: #d4ebff;}#sk-container-id-4 div.sk-label input.sk-toggleable__control:checked~label.sk-toggleable__label {background-color: #d4ebff;}#sk-container-id-4 input.sk-hidden--visually {border: 0;clip: rect(1px 1px 1px 1px);clip: rect(1px, 1px, 1px, 1px);height: 1px;margin: -1px;overflow: hidden;padding: 0;position: absolute;width: 1px;}#sk-container-id-4 div.sk-estimator {font-family: monospace;background-color: #f0f8ff;border: 1px dotted black;border-radius: 0.25em;box-sizing: border-box;margin-bottom: 0.5em;}#sk-container-id-4 div.sk-estimator:hover {background-color: #d4ebff;}#sk-container-id-4 div.sk-parallel-item::after {content: \"\";width: 100%;border-bottom: 1px solid gray;flex-grow: 1;}#sk-container-id-4 div.sk-label:hover label.sk-toggleable__label {background-color: #d4ebff;}#sk-container-id-4 div.sk-serial::before {content: \"\";position: absolute;border-left: 1px solid gray;box-sizing: border-box;top: 0;bottom: 0;left: 50%;z-index: 0;}#sk-container-id-4 div.sk-serial {display: flex;flex-direction: column;align-items: center;background-color: white;padding-right: 0.2em;padding-left: 0.2em;position: relative;}#sk-container-id-4 div.sk-item {position: relative;z-index: 1;}#sk-container-id-4 div.sk-parallel {display: flex;align-items: stretch;justify-content: center;background-color: white;position: relative;}#sk-container-id-4 div.sk-item::before, #sk-container-id-4 div.sk-parallel-item::before {content: \"\";position: absolute;border-left: 1px solid gray;box-sizing: border-box;top: 0;bottom: 0;left: 50%;z-index: -1;}#sk-container-id-4 div.sk-parallel-item {display: flex;flex-direction: column;z-index: 1;position: relative;background-color: white;}#sk-container-id-4 div.sk-parallel-item:first-child::after {align-self: flex-end;width: 50%;}#sk-container-id-4 div.sk-parallel-item:last-child::after {align-self: flex-start;width: 50%;}#sk-container-id-4 div.sk-parallel-item:only-child::after {width: 0;}#sk-container-id-4 div.sk-dashed-wrapped {border: 1px dashed gray;margin: 0 0.4em 0.5em 0.4em;box-sizing: border-box;padding-bottom: 0.4em;background-color: white;}#sk-container-id-4 div.sk-label label {font-family: monospace;font-weight: bold;display: inline-block;line-height: 1.2em;}#sk-container-id-4 div.sk-label-container {text-align: center;}#sk-container-id-4 div.sk-container {/* jupyter's `normalize.less` sets `[hidden] { display: none; }` but bootstrap.min.css set `[hidden] { display: none !important; }` so we also need the `!important` here to be able to override the default hidden behavior on the sphinx rendered scikit-learn.org. See: https://github.com/scikit-learn/scikit-learn/issues/21755 */display: inline-block !important;position: relative;}#sk-container-id-4 div.sk-text-repr-fallback {display: none;}</style><div id=\"sk-container-id-4\" class=\"sk-top-container\"><div class=\"sk-text-repr-fallback\"><pre>RandomForestClassifier(max_depth=2, random_state=77)</pre><b>In a Jupyter environment, please rerun this cell to show the HTML representation or trust the notebook. <br />On GitHub, the HTML representation is unable to render, please try loading this page with nbviewer.org.</b></div><div class=\"sk-container\" hidden><div class=\"sk-item\"><div class=\"sk-estimator sk-toggleable\"><input class=\"sk-toggleable__control sk-hidden--visually\" id=\"sk-estimator-id-4\" type=\"checkbox\" checked><label for=\"sk-estimator-id-4\" class=\"sk-toggleable__label sk-toggleable__label-arrow\">RandomForestClassifier</label><div class=\"sk-toggleable__content\"><pre>RandomForestClassifier(max_depth=2, random_state=77)</pre></div></div></div></div></div>"
      ],
      "text/plain": [
       "RandomForestClassifier(max_depth=2, random_state=77)"
      ]
     },
     "execution_count": 178,
     "metadata": {},
     "output_type": "execute_result"
    }
   ],
   "source": [
    "clf_rf5 = RandomForestClassifier(n_estimators=100, max_depth=2,random_state = 77)\n",
    "clf_rf5.fit(X_train, y_train)"
   ]
  },
  {
   "cell_type": "code",
   "execution_count": null,
   "metadata": {},
   "outputs": [],
   "source": [
    "clf_gb5 = GradientBoostingClassifier(n_estimators=500, learning_rate=0.1, max_depth=5, random_state=77)\n",
    "clf_gb5.fit(X_train, y_train)"
   ]
  },
  {
   "cell_type": "code",
   "execution_count": 186,
   "metadata": {},
   "outputs": [
    {
     "data": {
      "text/plain": [
       "0.6856158615938146"
      ]
     },
     "execution_count": 186,
     "metadata": {},
     "output_type": "execute_result"
    }
   ],
   "source": [
    "accuracy_score(y_test, y_pred_rf5)"
   ]
  },
  {
   "cell_type": "code",
   "execution_count": 180,
   "metadata": {},
   "outputs": [
    {
     "name": "stdout",
     "output_type": "stream",
     "text": [
      "Accuracy: 0.6856158615938146\n",
      "[[42788     0 14963]\n",
      " [ 9401     0  3671]\n",
      " [13033     0 46774]]\n"
     ]
    }
   ],
   "source": [
    "y_pred_rf5 = clf_rf5.predict(X_test)\n",
    "print(\"Accuracy:\",accuracy_score(y_test, y_pred_rf5))\n",
    "cm = confusion_matrix(y_test, y_pred_rf5)\n",
    "print(cm)"
   ]
  },
  {
   "cell_type": "code",
   "execution_count": 131,
   "metadata": {},
   "outputs": [],
   "source": [
    "#train a machine learning model based on training data\n",
    "training, testing = train_test_split(XY_3, test_size=0.8, random_state=42)\n",
    "X_train = training.drop(['R21'], axis=1)\n",
    "y_train = training['R21']\n",
    "X_test = testing.drop(['R21'], axis=1)\n",
    "y_test = testing['R21']"
   ]
  },
  {
   "cell_type": "code",
   "execution_count": null,
   "metadata": {},
   "outputs": [],
   "source": [
    "clf_rf3 = RandomForestClassifier(n_estimators=100, max_depth=10, random_state=0)\n",
    "clf_rf3.fit(X_train, y_train)"
   ]
  },
  {
   "cell_type": "code",
   "execution_count": null,
   "metadata": {},
   "outputs": [],
   "source": [
    "report = classification_report(y_test, y_pred_rf3, target_names=['1','2','3'])"
   ]
  },
  {
   "cell_type": "code",
   "execution_count": 174,
   "metadata": {},
   "outputs": [
    {
     "name": "stdout",
     "output_type": "stream",
     "text": [
      "              precision    recall  f1-score   support\n",
      "\n",
      "           1       0.64      0.74      0.69     57751\n",
      "           2       0.00      0.00      0.00     13072\n",
      "           3       0.72      0.77      0.74     59807\n",
      "\n",
      "    accuracy                           0.68    130630\n",
      "   macro avg       0.45      0.50      0.48    130630\n",
      "weighted avg       0.61      0.68      0.65    130630\n",
      "\n"
     ]
    }
   ],
   "source": [
    "print(report)"
   ]
  },
  {
   "cell_type": "code",
   "execution_count": 164,
   "metadata": {},
   "outputs": [
    {
     "data": {
      "text/html": [
       "<div>\n",
       "<style scoped>\n",
       "    .dataframe tbody tr th:only-of-type {\n",
       "        vertical-align: middle;\n",
       "    }\n",
       "\n",
       "    .dataframe tbody tr th {\n",
       "        vertical-align: top;\n",
       "    }\n",
       "\n",
       "    .dataframe thead th {\n",
       "        text-align: right;\n",
       "    }\n",
       "</style>\n",
       "<table border=\"1\" class=\"dataframe\">\n",
       "  <thead>\n",
       "    <tr style=\"text-align: right;\">\n",
       "      <th></th>\n",
       "      <th>0</th>\n",
       "      <th>1</th>\n",
       "      <th>2</th>\n",
       "    </tr>\n",
       "  </thead>\n",
       "  <tbody>\n",
       "    <tr>\n",
       "      <th>0</th>\n",
       "      <td>42638</td>\n",
       "      <td>0</td>\n",
       "      <td>15113</td>\n",
       "    </tr>\n",
       "    <tr>\n",
       "      <th>1</th>\n",
       "      <td>10034</td>\n",
       "      <td>0</td>\n",
       "      <td>3038</td>\n",
       "    </tr>\n",
       "    <tr>\n",
       "      <th>2</th>\n",
       "      <td>13544</td>\n",
       "      <td>0</td>\n",
       "      <td>46263</td>\n",
       "    </tr>\n",
       "  </tbody>\n",
       "</table>\n",
       "</div>"
      ],
      "text/plain": [
       "       0  1      2\n",
       "0  42638  0  15113\n",
       "1  10034  0   3038\n",
       "2  13544  0  46263"
      ]
     },
     "execution_count": 164,
     "metadata": {},
     "output_type": "execute_result"
    }
   ],
   "source": [
    "cm_df = pd.DataFrame(cm, index = clf_rf3.classes_, columns = clf_rf3.classes_)\n",
    "cm_df"
   ]
  },
  {
   "cell_type": "code",
   "execution_count": 167,
   "metadata": {},
   "outputs": [
    {
     "data": {
      "image/png": "[encoded data removed]",
      "text/plain": [
       "<Figure size 1000x700 with 1 Axes>"
      ]
     },
     "metadata": {},
     "output_type": "display_data"
    }
   ],
   "source": [
    "plt.figure(figsize=(10,7))\n",
    "sns.heatmap(cm, annot=True, fmt='g', cmap='Blues', cbar=False)\n",
    "plt.xlabel('Predicted')\n",
    "plt.ylabel('Actual')\n",
    "plt.title('Confusion Matrix')\n",
    "plt.show()\n"
   ]
  }
 ],
 "metadata": {
  "kernelspec": {
   "display_name": "geospatial",
   "language": "python",
   "name": "python3"
  },
  "language_info": {
   "codemirror_mode": {
    "name": "ipython",
    "version": 3
   },
   "file_extension": ".py",
   "mimetype": "text/x-python",
   "name": "python",
   "nbconvert_exporter": "python",
   "pygments_lexer": "ipython3",
   "version": "3.7.12"
  },
  "orig_nbformat": 4
 },
 "nbformat": 4,
 "nbformat_minor": 2
}
