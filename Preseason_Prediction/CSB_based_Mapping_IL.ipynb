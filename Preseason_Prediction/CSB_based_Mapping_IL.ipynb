{
 "cells": [
  {
   "cell_type": "code",
   "execution_count": 1,
   "metadata": {},
   "outputs": [],
   "source": [
    "import geopandas as gpd\n",
    "import pandas as pd\n",
    "import numpy as np\n",
    "import matplotlib.pyplot as plt\n",
    "import os\n",
    "import sys\n",
    "from sklearn import preprocessing\n",
    "from collections import Counter\n",
    "import glob\n",
    "from scipy import stats"
   ]
  },
  {
   "cell_type": "code",
   "execution_count": 2,
   "metadata": {},
   "outputs": [],
   "source": [
    "from sklearn.model_selection import train_test_split\n",
    "from sklearn.metrics import accuracy_score\n",
    "from sklearn.metrics import confusion_matrix\n",
    "from sklearn.metrics import classification_report\n",
    "from sklearn.ensemble import RandomForestClassifier\n",
    "from sklearn.ensemble import GradientBoostingClassifier\n",
    "from sklearn.preprocessing import LabelEncoder\n",
    "from sklearn.metrics import classification_report\n",
    "import seaborn as sns\n",
    "import lightgbm as lgb\n",
    "import xgboost as xgb"
   ]
  },
  {
   "cell_type": "code",
   "execution_count": 4,
   "metadata": {},
   "outputs": [],
   "source": [
    "sys.path.append(r\"A:\\US_CornSoy_ClassificationYield\\Scripts\\US_CornSoy_ClassificationYield\")\n",
    "from utils import *"
   ]
  },
  {
   "cell_type": "code",
   "execution_count": 809,
   "metadata": {},
   "outputs": [],
   "source": [
    "from importlib import reload\n",
    "reload(sys.modules['utils'])\n",
    "from utils import *"
   ]
  },
  {
   "cell_type": "markdown",
   "metadata": {},
   "source": [
    "# Read data"
   ]
  },
  {
   "cell_type": "code",
   "execution_count": 5,
   "metadata": {},
   "outputs": [],
   "source": [
    "#path_csb22_IL = r\"C:\\Users\\tangz\\Desktop\\US_CornSoy_ClassificationYield\\GeoData\\Vectors\\csb_IL_2022.shp\"\n",
    "path_csb22 = r\"A:\\US_CornSoy_ClassificationYield\\Geodata\\Vectors\\csb_IL_2022.shp\"\n",
    "csb22 = gpd.read_file(path_csb22)"
   ]
  },
  {
   "cell_type": "code",
   "execution_count": 6,
   "metadata": {},
   "outputs": [],
   "source": [
    "dir_usda = r\"A:\\US_CornSoy_ClassificationYield\\TabularData\"\n",
    "usda_area = pd.read_csv(os.path.join(dir_usda, \"US_County_CornSoy_Area.csv\"))"
   ]
  },
  {
   "cell_type": "markdown",
   "metadata": {},
   "source": [
    "# Preprocess "
   ]
  },
  {
   "cell_type": "markdown",
   "metadata": {},
   "source": [
    "## USDA Area"
   ]
  },
  {
   "cell_type": "code",
   "execution_count": 7,
   "metadata": {},
   "outputs": [],
   "source": [
    "state_area = usda_area[usda_area['Geo Level'] == 'STATE']\n",
    "cnty_area = usda_area[usda_area['Geo Level'] == 'COUNTY']\n",
    "#SUBSET COLUMNS\n",
    "state_area = state_area[['Year', 'State', 'State ANSI', 'Commodity', 'Value']]\n",
    "cnty_area = cnty_area[['Year', 'State', 'State ANSI', 'County', 'County ANSI', 'Commodity', 'Value']]\n",
    "#Rename Columns\n",
    "state_area.columns = ['Year', 'State', 'StateANSI', 'Crop', 'AreaAcres_usda']\n",
    "cnty_area.columns = ['Year', 'State', 'StateANSI', 'County', 'CntyANSI', 'Crop', 'AreaAcres_usda']\n",
    "#remove rows whose CntyANSI column is NaN\n",
    "cnty_area = cnty_area.dropna(subset=['CntyANSI']) \n",
    "#convert CntyANSI to int with no decimal, and fill with leading zeros to make 3 digits\n",
    "cnty_area['CntyANSI'] = cnty_area['CntyANSI'].astype(int).astype(str).str.zfill(3)\n",
    "#convert State and County and Crop column to be uppercase for only the first letter\n",
    "cnty_area['State'] = cnty_area['State'].str.title()\n",
    "cnty_area['County'] = cnty_area['County'].str.title()\n",
    "cnty_area['Crop'] = cnty_area['Crop'].str.title()\n",
    "state_area['State'] = state_area['State'].str.title()\n",
    "state_area['Crop'] = state_area['Crop'].str.title()\n",
    "#remove comma in AreaAcres_usda column, and convert AreaAcres_usda to float\n",
    "cnty_area['AreaAcres_usda'] = cnty_area['AreaAcres_usda'].str.replace(',', '').astype(float)\n",
    "state_area['AreaAcres_usda'] = state_area['AreaAcres_usda'].str.replace(',', '').astype(float)\n",
    "#convert Soybeans to Soybean\n",
    "cnty_area['Crop'] = cnty_area['Crop'].str.replace('Soybeans', 'Soybean')\n",
    "state_area['Crop'] = state_area['Crop'].str.replace('Soybeans', 'Soybean')"
   ]
  },
  {
   "cell_type": "markdown",
   "metadata": {},
   "source": [
    "## CSB data"
   ]
  },
  {
   "cell_type": "code",
   "execution_count": 8,
   "metadata": {},
   "outputs": [],
   "source": [
    "#subset columns \n",
    "csb22 = csb22[['CSBID','CSBACRES','R15', 'R16', 'R17', 'R18', 'R19','R20', 'R21', 'R22', 'CNTY','CNTYFIPS', 'STATEASD']]\n",
    "#set CNTYFIPS to string\n",
    "csb22['CNTYFIPS'] = csb22['CNTYFIPS'].astype(str)\n",
    "csb22['STATEASD'] = csb22['STATEASD'].astype(str)\n",
    "csb22.head()\n",
    "# reclassify R15-R22 to three classes \n",
    "def tri_classes(value):\n",
    "    if value == 1:\n",
    "        return 'Corn'\n",
    "    elif value == 5:\n",
    "        return 'Soybean'\n",
    "    else:\n",
    "        return 'Other'\n",
    "csb22[['R15', 'R16', 'R17', 'R18', 'R19','R20', 'R21', 'R22']] = csb22[['R15', 'R16', 'R17', 'R18', 'R19','R20', 'R21', 'R22']].applymap(tri_classes)"
   ]
  },
  {
   "cell_type": "code",
   "execution_count": 9,
   "metadata": {},
   "outputs": [
    {
     "name": "stdout",
     "output_type": "stream",
     "text": [
      "(653148, 13)\n",
      "[('Soybean', 306682), ('Corn', 277308), ('Other', 69158)]\n",
      "[('Soybean', 298151), ('Corn', 289765), ('Other', 65232)]\n",
      "[('Corn', 304472), ('Soybean', 289643), ('Other', 59033)]\n",
      "[('Soybean', 268495), ('Corn', 255585), ('Other', 129068)]\n",
      "[('Soybean', 294920), ('Corn', 283479), ('Other', 74749)]\n",
      "[('Soybean', 292525), ('Corn', 290433), ('Other', 70190)]\n",
      "[('Corn', 300714), ('Soybean', 271237), ('Other', 81197)]\n",
      "[('Corn', 297572), ('Soybean', 258952), ('Other', 96624)]\n"
     ]
    }
   ],
   "source": [
    "print(csb22.shape)\n",
    "print(Counter(csb22['R22']).most_common(5))\n",
    "print(Counter(csb22['R21']).most_common(5))\n",
    "print(Counter(csb22['R20']).most_common(5))\n",
    "print(Counter(csb22['R19']).most_common(5))\n",
    "print(Counter(csb22['R18']).most_common(5))\n",
    "print(Counter(csb22['R17']).most_common(5))\n",
    "print(Counter(csb22['R16']).most_common(5))\n",
    "print(Counter(csb22['R15']).most_common(5))"
   ]
  },
  {
   "cell_type": "markdown",
   "metadata": {},
   "source": [
    "## Compare with USDA Area \n",
    "\n",
    "- Need to change state name in plots when copying the code to different states"
   ]
  },
  {
   "cell_type": "code",
   "execution_count": 10,
   "metadata": {},
   "outputs": [
    {
     "data": {
      "text/html": [
       "<div>\n",
       "<style scoped>\n",
       "    .dataframe tbody tr th:only-of-type {\n",
       "        vertical-align: middle;\n",
       "    }\n",
       "\n",
       "    .dataframe tbody tr th {\n",
       "        vertical-align: top;\n",
       "    }\n",
       "\n",
       "    .dataframe thead th {\n",
       "        text-align: right;\n",
       "    }\n",
       "</style>\n",
       "<table border=\"1\" class=\"dataframe\">\n",
       "  <thead>\n",
       "    <tr style=\"text-align: right;\">\n",
       "      <th></th>\n",
       "      <th>CNTYFIPS</th>\n",
       "      <th>CNTY</th>\n",
       "      <th>CSBACRES</th>\n",
       "    </tr>\n",
       "  </thead>\n",
       "  <tbody>\n",
       "    <tr>\n",
       "      <th>0</th>\n",
       "      <td>001</td>\n",
       "      <td>Adams</td>\n",
       "      <td>143505.067917</td>\n",
       "    </tr>\n",
       "    <tr>\n",
       "      <th>1</th>\n",
       "      <td>003</td>\n",
       "      <td>Alexander</td>\n",
       "      <td>4687.555692</td>\n",
       "    </tr>\n",
       "    <tr>\n",
       "      <th>2</th>\n",
       "      <td>005</td>\n",
       "      <td>Bond</td>\n",
       "      <td>68344.472991</td>\n",
       "    </tr>\n",
       "    <tr>\n",
       "      <th>3</th>\n",
       "      <td>007</td>\n",
       "      <td>Boone</td>\n",
       "      <td>71288.880834</td>\n",
       "    </tr>\n",
       "    <tr>\n",
       "      <th>4</th>\n",
       "      <td>009</td>\n",
       "      <td>Brown</td>\n",
       "      <td>33213.755483</td>\n",
       "    </tr>\n",
       "  </tbody>\n",
       "</table>\n",
       "</div>"
      ],
      "text/plain": [
       "  CNTYFIPS       CNTY       CSBACRES\n",
       "0      001      Adams  143505.067917\n",
       "1      003  Alexander    4687.555692\n",
       "2      005       Bond   68344.472991\n",
       "3      007      Boone   71288.880834\n",
       "4      009      Brown   33213.755483"
      ]
     },
     "execution_count": 10,
     "metadata": {},
     "output_type": "execute_result"
    }
   ],
   "source": [
    "agg_corn22_cnty = csb22[csb22['R22'] == 'Corn'].groupby(['CNTYFIPS', 'CNTY']).agg({'CSBACRES':'sum'}).reset_index()\n",
    "agg_soy22_cnty = csb22[csb22['R22'] == 'Soybean'].groupby(['CNTYFIPS', 'CNTY']).agg({'CSBACRES':'sum'}).reset_index()\n",
    "agg_corn22_cnty.head()"
   ]
  },
  {
   "cell_type": "code",
   "execution_count": 11,
   "metadata": {},
   "outputs": [],
   "source": [
    "# Need to change the state name \n",
    "compare_corn22_cnty = pd.merge(agg_corn22_cnty, cnty_area[(cnty_area.Crop == 'Corn')&(cnty_area.Year==2022)&(cnty_area.State=='Illinois')], how = \"inner\", left_on=['CNTYFIPS','CNTY'], right_on=['CntyANSI','County'])\n",
    "compare_soy22_cnty = pd.merge(agg_soy22_cnty, cnty_area[(cnty_area.Crop == 'Soybean')&(cnty_area.Year==2022)&(cnty_area.State=='Illinois')], how = \"inner\", left_on=['CNTYFIPS','CNTY'], right_on=['CntyANSI','County'])"
   ]
  },
  {
   "cell_type": "code",
   "execution_count": 12,
   "metadata": {},
   "outputs": [
    {
     "name": "stdout",
     "output_type": "stream",
     "text": [
      "r2 (corn)=  0.9981033286148491\n",
      "Total area of corn in CSB =  9317407.905474458\n",
      "Total area of corn in USDA =  9252400.0\n",
      "Diffrence of total area of corn in CSB and USDA =  65007.90547445789\n",
      "Percentage of total area of corn in CSB and USDA =  0.007026058695523096\n",
      "r2 (soybean)=  0.9689286203125035\n",
      "Total area of soybean in CSB =  9095841.661116943\n",
      "Total area of soybean in USDA =  9301900.0\n",
      "Diffrence of total area of soybean in CSB and USDA =  -206058.33888305724\n",
      "Percentage of total area of soybean in CSB and USDA =  -0.02215228489696269\n"
     ]
    },
    {
     "data": {
      "image/png": "[encoded data removed]",
      "text/plain": [
       "<Figure size 1440x720 with 2 Axes>"
      ]
     },
     "metadata": {
      "needs_background": "light"
     },
     "output_type": "display_data"
    }
   ],
   "source": [
    "# Plot the comparison of CSBACRES and AreaAcres_usda for corn and soybean in two subplots\n",
    "fig, (ax1, ax2) = plt.subplots(1, 2, figsize=(20, 10))\n",
    "ax1.scatter(compare_corn22_cnty['CSBACRES'], compare_corn22_cnty['AreaAcres_usda'], color='red')\n",
    "ax1.set_title('Corn 2022 (Illinois)')\n",
    "ax1.set_xlabel('CSB Area (acres)')\n",
    "ax1.set_ylabel('USDA Area (acres)')\n",
    "#add 1:1 line\n",
    "x = np.linspace(*ax1.get_xlim())\n",
    "ax1.plot(x, x, color='black', linestyle='--')\n",
    "#calculate and print out the r2\n",
    "r2 = np.corrcoef(compare_corn22_cnty['CSBACRES'], compare_corn22_cnty['AreaAcres_usda'])[0,1]**2\n",
    "print('r2 (corn)= ', r2)\n",
    "#Calculate the total area of corn in CSB and USDA\n",
    "print('Total area of corn in CSB = ', compare_corn22_cnty['CSBACRES'].sum())\n",
    "print('Total area of corn in USDA = ', compare_corn22_cnty['AreaAcres_usda'].sum())\n",
    "#Calculate the diffrence and percentage of the total area of corn in CSB and USDA\n",
    "print('Diffrence of total area of corn in CSB and USDA = ', compare_corn22_cnty['CSBACRES'].sum() - compare_corn22_cnty['AreaAcres_usda'].sum())\n",
    "print('Percentage of total area of corn in CSB and USDA = ', (compare_corn22_cnty['CSBACRES'].sum() - compare_corn22_cnty['AreaAcres_usda'].sum())/compare_corn22_cnty['AreaAcres_usda'].sum())\n",
    "\n",
    "ax2.scatter(compare_soy22_cnty['CSBACRES'], compare_soy22_cnty['AreaAcres_usda'], color='blue')\n",
    "ax2.set_title('Soybean 2022 (Illinois)')\n",
    "ax2.set_xlabel('CSB Area (acres)')\n",
    "ax2.set_ylabel('USDA Area (acres)')\n",
    "#add 1:1 line\n",
    "x = np.linspace(*ax2.get_xlim())\n",
    "ax2.plot(x, x, color='black', linestyle='--')\n",
    "#calculate and print out the r2\n",
    "r2 = np.corrcoef(compare_soy22_cnty['CSBACRES'], compare_soy22_cnty['AreaAcres_usda'])[0,1]**2\n",
    "print('r2 (soybean)= ', r2)\n",
    "#Calculate the total area of soybean in CSB and USDA\n",
    "print('Total area of soybean in CSB = ', compare_soy22_cnty['CSBACRES'].sum())\n",
    "print('Total area of soybean in USDA = ', compare_soy22_cnty['AreaAcres_usda'].sum())\n",
    "#Calculate the diffrence and percentage of the total area of soybean in CSB and USDA\n",
    "print('Diffrence of total area of soybean in CSB and USDA = ', compare_soy22_cnty['CSBACRES'].sum() - compare_soy22_cnty['AreaAcres_usda'].sum())\n",
    "print('Percentage of total area of soybean in CSB and USDA = ', (compare_soy22_cnty['CSBACRES'].sum() - compare_soy22_cnty['AreaAcres_usda'].sum())/compare_soy22_cnty['AreaAcres_usda'].sum())\n",
    "\n",
    "plt.show()"
   ]
  },
  {
   "cell_type": "markdown",
   "metadata": {},
   "source": [
    "## GEE Time Series"
   ]
  },
  {
   "cell_type": "markdown",
   "metadata": {},
   "source": [
    "## 2023"
   ]
  },
  {
   "cell_type": "code",
   "execution_count": 696,
   "metadata": {},
   "outputs": [],
   "source": [
    "s2_23 = pd.read_csv('A:\\\\US_CornSoy_ClassificationYield\\\\GEEData\\\\s2_ts_2023_IL.csv')"
   ]
  },
  {
   "cell_type": "code",
   "execution_count": 702,
   "metadata": {},
   "outputs": [],
   "source": [
    "_, df_interp_2023 = clean_gee(s2_23) #took about 23mins to run "
   ]
  },
  {
   "cell_type": "code",
   "execution_count": 703,
   "metadata": {},
   "outputs": [],
   "source": [
    "df_wide_2023 = long_to_wide(df_interp_2023, Output = True, path_out = r\"A:\\US_CornSoy_ClassificationYield\\Processed_Data\\S2VIs_wide_2023_IL.csv\") #5mins to run"
   ]
  },
  {
   "cell_type": "markdown",
   "metadata": {},
   "source": [
    "## 2022"
   ]
  },
  {
   "cell_type": "code",
   "execution_count": 704,
   "metadata": {},
   "outputs": [],
   "source": [
    "s2_22 = pd.read_csv('A:\\\\US_CornSoy_ClassificationYield\\\\GEEData\\\\s2_ts_2022_IL.csv') #1min"
   ]
  },
  {
   "cell_type": "code",
   "execution_count": 705,
   "metadata": {},
   "outputs": [],
   "source": [
    "_, df_interp_2022 = clean_gee(s2_22) #took about 38mins to run"
   ]
  },
  {
   "cell_type": "code",
   "execution_count": 694,
   "metadata": {},
   "outputs": [
    {
     "name": "stdout",
     "output_type": "stream",
     "text": [
      "700.7625023312044\n",
      "749.8619590279054\n",
      "668.4171681904397\n",
      "784.243084902655\n",
      "698.9738102714309\n",
      "744.3910167209439\n"
     ]
    }
   ],
   "source": [
    "# print(df_interp_2021['REP'].quantile(0.01))\n",
    "# print(df_interp_2021['REP'].quantile(0.99))\n",
    "# print(df_interp_2022['REP'].quantile(0.01))\n",
    "# print(df_interp_2022['REP'].quantile(0.99))\n",
    "# print(df_interp_2023['REP'].quantile(0.01))\n",
    "# print(df_interp_2023['REP'].quantile(0.99))"
   ]
  },
  {
   "cell_type": "code",
   "execution_count": 706,
   "metadata": {},
   "outputs": [],
   "source": [
    "df_wide_2022 = long_to_wide(df_interp_2022, Output = True, path_out = r\"A:\\US_CornSoy_ClassificationYield\\Processed_Data\\S2VIs_wide_2022_IL.csv\") #5mins to run "
   ]
  },
  {
   "cell_type": "markdown",
   "metadata": {},
   "source": [
    "## 2021"
   ]
  },
  {
   "cell_type": "code",
   "execution_count": 707,
   "metadata": {},
   "outputs": [],
   "source": [
    "s2_21 = pd.read_csv('A:\\\\US_CornSoy_ClassificationYield\\\\GEEData\\\\s2_ts_2021_IL.csv') #1min"
   ]
  },
  {
   "cell_type": "code",
   "execution_count": 708,
   "metadata": {},
   "outputs": [],
   "source": [
    "_, df_interp_2021 = clean_gee(s2_21) #took about 23mins to run"
   ]
  },
  {
   "cell_type": "code",
   "execution_count": 709,
   "metadata": {},
   "outputs": [],
   "source": [
    "df_wide_2021 = long_to_wide(df_interp_2021, Output = True, path_out = r\"A:\\US_CornSoy_ClassificationYield\\Processed_Data\\S2VIs_wide_2021_IL.csv\") #5mins to run "
   ]
  },
  {
   "cell_type": "markdown",
   "metadata": {},
   "source": [
    "# Pre season Prediction (March Prediction)\n",
    "Only use the crop rotation data, field area and ASD (location information) from CSB for prediction "
   ]
  },
  {
   "cell_type": "code",
   "execution_count": 13,
   "metadata": {},
   "outputs": [],
   "source": [
    "X_5_21, Y_21 = preprocess_csb(csb22, n_var = 5, yr = 21)\n",
    "X_5_22, Y_22 = preprocess_csb(csb22, n_var = 5, yr = 22)\n",
    "X_5_23 = preprocess_csb(csb22, n_var = 5, yr = 23)"
   ]
  },
  {
   "cell_type": "markdown",
   "metadata": {},
   "source": [
    "### Predict 2022"
   ]
  },
  {
   "cell_type": "code",
   "execution_count": 14,
   "metadata": {},
   "outputs": [
    {
     "name": "stdout",
     "output_type": "stream",
     "text": [
      "Accuracy new set:  0.670186542713137\n",
      "Confusion Matrix new set:  [[198979  24065  54264]\n",
      " [ 22944  29397  16817]\n",
      " [ 75514  21813 209355]]\n",
      "   YR  Sum_Corn_Pred  Sum_Corn_Actual  Sum_Soy_Pred  Sum_Soy_Actual  \\\n",
      "0  22   1.133221e+07     1.087936e+07  9.947053e+06    1.059549e+07   \n",
      "\n",
      "       Diff_Corn       Diff_Soy  Diff_Corn_Percent  Diff_Soy_Percent  \n",
      "0  452851.213374 -648435.900205           4.162482         -6.119924  \n"
     ]
    }
   ],
   "source": [
    "results_pre_22 = ml_model_base(df = csb22, csbdf = csb22, model = 'rf', yr = 22, X = X_5_21, Y = Y_21, test_size = 0, Xnew = X_5_22, Ynew = Y_22)"
   ]
  },
  {
   "cell_type": "code",
   "execution_count": 15,
   "metadata": {},
   "outputs": [
    {
     "data": {
      "text/plain": [
       "(RandomForestClassifier(random_state=777),\n",
       " array([2, 2, 0, ..., 0, 0, 0]),\n",
       " 0.670186542713137,\n",
       " array([[198979,  24065,  54264],\n",
       "        [ 22944,  29397,  16817],\n",
       "        [ 75514,  21813, 209355]], dtype=int64),\n",
       "     CNTYFIPS        CNTY  CornAcres_Pred  CornAcres_Actual\n",
       " 0        001       Adams   157137.805352     143505.067917\n",
       " 1        003   Alexander    10214.213195       4687.555692\n",
       " 2        005        Bond    71440.920712      68344.472991\n",
       " 3        007       Boone    67385.934498      71288.880834\n",
       " 4        009       Brown    36562.723309      33213.755483\n",
       " ..       ...         ...             ...               ...\n",
       " 97       195   Whiteside   231803.594762     219369.262428\n",
       " 98       197        Will   101634.716745      97330.844360\n",
       " 99       199  Williamson    17856.307071      16637.244185\n",
       " 100      201   Winnebago    99404.531600      89513.591802\n",
       " 101      203    Woodford   129781.864511     125543.965929\n",
       " \n",
       " [102 rows x 4 columns],\n",
       "     CNTYFIPS        CNTY  SoyAcres_Pred  SoyAcres_Actual\n",
       " 0        001       Adams  127591.970283    142194.759798\n",
       " 1        003   Alexander   31379.464447     43641.865536\n",
       " 2        005        Bond   66500.173837     74617.602581\n",
       " 3        007       Boone   55339.979691     53845.686650\n",
       " 4        009       Brown   33800.930401     37645.603839\n",
       " ..       ...         ...            ...              ...\n",
       " 97       195   Whiteside   94745.641886    111266.152488\n",
       " 98       197        Will   99651.224923    115596.706295\n",
       " 99       199  Williamson   27656.721508     32712.336099\n",
       " 100      201   Winnebago   53435.984032     61882.279892\n",
       " 101      203    Woodford  111672.160031    116847.350020\n",
       " \n",
       " [102 rows x 4 columns],\n",
       "    YR  Sum_Corn_Pred  Sum_Corn_Actual  Sum_Soy_Pred  Sum_Soy_Actual  \\\n",
       " 0  22   1.133221e+07     1.087936e+07  9.947053e+06    1.059549e+07   \n",
       " \n",
       "        Diff_Corn       Diff_Soy  Diff_Corn_Percent  Diff_Soy_Percent  \n",
       " 0  452851.213374 -648435.900205           4.162482         -6.119924  )"
      ]
     },
     "execution_count": 15,
     "metadata": {},
     "output_type": "execute_result"
    }
   ],
   "source": [
    "results_pre_22"
   ]
  },
  {
   "cell_type": "code",
   "execution_count": 16,
   "metadata": {},
   "outputs": [
    {
     "name": "stdout",
     "output_type": "stream",
     "text": [
      "[LightGBM] [Warning] Auto-choosing row-wise multi-threading, the overhead of testing was 0.002652 seconds.\n",
      "You can set `force_row_wise=true` to remove the overhead.\n",
      "And if memory is not enough, you can set `force_col_wise=true`.\n",
      "[LightGBM] [Info] Total Bins 303\n",
      "[LightGBM] [Info] Number of data points in the train set: 653148, number of used features: 25\n",
      "[LightGBM] [Info] Start training from score -0.812734\n",
      "[LightGBM] [Info] Start training from score -2.303854\n",
      "[LightGBM] [Info] Start training from score -0.784204\n",
      "Accuracy new set:  0.7625285540183848\n",
      "Confusion Matrix new set:  [[231613   9490  36205]\n",
      " [ 24280  31011  13867]\n",
      " [ 65138   6124 235420]]\n",
      "   YR  Sum_Corn_Pred  Sum_Corn_Actual  Sum_Soy_Pred  Sum_Soy_Actual  \\\n",
      "0  22   1.138867e+07     1.087936e+07  1.034876e+07    1.059549e+07   \n",
      "\n",
      "       Diff_Corn       Diff_Soy  Diff_Corn_Percent  Diff_Soy_Percent  \n",
      "0  509309.411148 -246725.705651            4.68143         -2.328592  \n"
     ]
    }
   ],
   "source": [
    "results_pre_22_lgb = ml_model_base(df = csb22, csbdf = csb22, model = 'lgb', yr = 22, X = X_5_21, Y = Y_21, test_size= 0, Xnew = X_5_22, Ynew = Y_22)"
   ]
  },
  {
   "cell_type": "markdown",
   "metadata": {},
   "source": [
    "### Predict 2023"
   ]
  },
  {
   "cell_type": "code",
   "execution_count": 17,
   "metadata": {},
   "outputs": [
    {
     "name": "stdout",
     "output_type": "stream",
     "text": [
      "Accuracy test set:  0.6851029625660262\n",
      "Confusion Matrix test set:  [[38551  3812 13210]\n",
      " [ 3944  6510  3455]\n",
      " [13235  3479 44434]]\n"
     ]
    }
   ],
   "source": [
    "results_pre_23 = ml_model_base(df = csb22, csbdf = csb22, model = 'rf', yr = 23, X = X_5_22, Y = Y_22, test_size = 0.2, Xnew = X_5_23)"
   ]
  },
  {
   "cell_type": "code",
   "execution_count": 48,
   "metadata": {},
   "outputs": [
    {
     "data": {
      "text/plain": [
       "11032115.834597375"
      ]
     },
     "execution_count": 48,
     "metadata": {},
     "output_type": "execute_result"
    }
   ],
   "source": [
    "results_pre_23[6]['CornAcres_Pred'].sum()"
   ]
  },
  {
   "cell_type": "code",
   "execution_count": 49,
   "metadata": {},
   "outputs": [
    {
     "data": {
      "text/plain": [
       "10275301.1484327"
      ]
     },
     "execution_count": 49,
     "metadata": {},
     "output_type": "execute_result"
    }
   ],
   "source": [
    "results_pre_23[7]['SoyAcres_Pred'].sum()"
   ]
  },
  {
   "cell_type": "code",
   "execution_count": 18,
   "metadata": {},
   "outputs": [
    {
     "name": "stdout",
     "output_type": "stream",
     "text": [
      "[LightGBM] [Warning] Auto-choosing row-wise multi-threading, the overhead of testing was 0.003553 seconds.\n",
      "You can set `force_row_wise=true` to remove the overhead.\n",
      "And if memory is not enough, you can set `force_col_wise=true`.\n",
      "[LightGBM] [Info] Total Bins 303\n",
      "[LightGBM] [Info] Number of data points in the train set: 653148, number of used features: 25\n",
      "[LightGBM] [Info] Start training from score -0.856675\n",
      "[LightGBM] [Info] Start training from score -2.245410\n",
      "[LightGBM] [Info] Start training from score -0.755992\n",
      "Accuracy test set:  0.7755262956441858\n",
      "Confusion Matrix test set:  [[44760  1272  9541]\n",
      " [ 4113  6735  3061]\n",
      " [10283  1053 49812]]\n"
     ]
    }
   ],
   "source": [
    "results_pre_23_lgb = ml_model_base(df = csb22, csbdf = csb22, model = 'lgb', yr = 23, X = X_5_22, Y = Y_22, test_size = 0.2, Xnew = X_5_23)"
   ]
  },
  {
   "cell_type": "code",
   "execution_count": 50,
   "metadata": {},
   "outputs": [
    {
     "data": {
      "text/plain": [
       "11318339.680170916"
      ]
     },
     "execution_count": 50,
     "metadata": {},
     "output_type": "execute_result"
    }
   ],
   "source": [
    "results_pre_23_lgb[6]['CornAcres_Pred'].sum()"
   ]
  },
  {
   "cell_type": "code",
   "execution_count": 51,
   "metadata": {},
   "outputs": [
    {
     "data": {
      "text/plain": [
       "10504043.378112974"
      ]
     },
     "execution_count": 51,
     "metadata": {},
     "output_type": "execute_result"
    }
   ],
   "source": [
    "results_pre_23_lgb[7]['SoyAcres_Pred'].sum()"
   ]
  },
  {
   "cell_type": "markdown",
   "metadata": {},
   "source": [
    "# Sentinel-2 Only Prediction (June Prediction)\n",
    "Only Use Sentinel-2 time series data for prediction"
   ]
  },
  {
   "cell_type": "code",
   "execution_count": 26,
   "metadata": {},
   "outputs": [],
   "source": [
    "# Read preprocessed data back \n",
    "df_wide_2021 = pd.read_csv(r\"A:\\US_CornSoy_ClassificationYield\\Processed_Data\\S2VIs_wide_2021_IL.csv\")\n",
    "df_wide_2021['CSBID'] = df_wide_2021['CSBID'].astype(str)\n",
    "df_wide_2022 = pd.read_csv(r\"A:\\US_CornSoy_ClassificationYield\\Processed_Data\\S2VIs_wide_2022_IL.csv\")\n",
    "df_wide_2022['CSBID'] = df_wide_2022['CSBID'].astype(str)\n",
    "df_wide_2023 = pd.read_csv(r\"A:\\US_CornSoy_ClassificationYield\\Processed_Data\\S2VIs_wide_2023_IL.csv\")\n",
    "df_wide_2023['CSBID'] = df_wide_2023['CSBID'].astype(str)"
   ]
  },
  {
   "cell_type": "code",
   "execution_count": 25,
   "metadata": {},
   "outputs": [],
   "source": [
    "# Merge with csb22 \n",
    "csb22_s2_2021 = pd.merge(csb22[['CSBID','R21']], df_wide_2021, how = \"inner\", left_on=['CSBID'], right_on=['CSBID'])\n",
    "# Encode the R22 column\n",
    "csb22_s2_2021['R21'] = csb22_s2_2021['R21'].map({'Corn': 0, 'Other': 1, 'Soybean': 2})"
   ]
  },
  {
   "cell_type": "code",
   "execution_count": 27,
   "metadata": {},
   "outputs": [],
   "source": [
    "# Merge with csb22 \n",
    "csb22_s2_2022 = pd.merge(csb22[['CSBID','R22']], df_wide_2022, how = \"inner\", left_on=['CSBID'], right_on=['CSBID'])\n",
    "# Encode the R22 column\n",
    "csb22_s2_2022['R22'] = csb22_s2_2022['R22'].map({'Corn': 0, 'Other': 1, 'Soybean': 2})"
   ]
  },
  {
   "cell_type": "code",
   "execution_count": 28,
   "metadata": {},
   "outputs": [],
   "source": [
    "# Merge with csb22\n",
    "csb22_s2_2023 = pd.merge(csb22[['CSBID','R22']], df_wide_2023, how = \"inner\", left_on=['CSBID'], right_on=['CSBID'])\n",
    "# Encode the R22 column\n",
    "csb22_s2_2023['R22'] = csb22_s2_2023['R22'].map({'Corn': 0, 'Other': 1, 'Soybean': 2})"
   ]
  },
  {
   "cell_type": "code",
   "execution_count": 29,
   "metadata": {},
   "outputs": [],
   "source": [
    "X_s2_2021 = csb22_s2_2021.iloc[:, 2:]\n",
    "Y_s2_2021 = csb22_s2_2021.iloc[:, 1]\n",
    "X_s2_2022 = csb22_s2_2022.iloc[:, 2:]\n",
    "Y_s2_2022 = csb22_s2_2022.iloc[:, 1]\n",
    "X_s2_2023 = csb22_s2_2023.iloc[:, 2:]"
   ]
  },
  {
   "cell_type": "markdown",
   "metadata": {},
   "source": [
    "## Predict 2022"
   ]
  },
  {
   "cell_type": "code",
   "execution_count": 30,
   "metadata": {},
   "outputs": [
    {
     "name": "stdout",
     "output_type": "stream",
     "text": [
      "Accuracy new set:  0.6215156580110699\n",
      "Confusion Matrix new set:  [[116332   3154 147172]\n",
      " [  7158  43252  17039]\n",
      " [ 59086   4835 231969]]\n",
      "   YR  Sum_Corn_Pred  Sum_Corn_Actual  Sum_Soy_Pred  Sum_Soy_Actual  \\\n",
      "0  22   7.592771e+06     1.018812e+07  1.270695e+07    9.913685e+06   \n",
      "\n",
      "      Diff_Corn      Diff_Soy  Diff_Corn_Percent  Diff_Soy_Percent  \n",
      "0 -2.595351e+06  2.793262e+06         -25.474279         28.175819  \n"
     ]
    }
   ],
   "source": [
    "results_s2_22 = ml_model_base(df = csb22_s2_2022, csbdf = csb22, model = 'rf', yr = 22, X = X_s2_2021, Y = Y_s2_2021, test_size = 0, Xnew = X_s2_2022, Ynew = Y_s2_2022)"
   ]
  },
  {
   "cell_type": "code",
   "execution_count": 31,
   "metadata": {},
   "outputs": [
    {
     "data": {
      "text/plain": [
       "(RandomForestClassifier(random_state=777),\n",
       " array([2, 2, 2, ..., 1, 0, 0], dtype=int64),\n",
       " 0.6215156580110699,\n",
       " array([[116332,   3154, 147172],\n",
       "        [  7158,  43252,  17039],\n",
       "        [ 59086,   4835, 231969]], dtype=int64),\n",
       "     CNTYFIPS        CNTY  CornAcres_Pred  CornAcres_Actual\n",
       " 0        001       Adams    33563.383498     143505.067917\n",
       " 1        003   Alexander    12116.982961       4687.555692\n",
       " 2        005        Bond    44068.237083      68344.472991\n",
       " 3        007       Boone    17897.314078      71288.880834\n",
       " 4        009       Brown     5965.800217      33213.755483\n",
       " ..       ...         ...             ...               ...\n",
       " 96       195   Whiteside   183855.705854     219369.262428\n",
       " 97       197        Will    36138.300887      95180.911511\n",
       " 98       199  Williamson     6848.092509      16637.244185\n",
       " 99       201   Winnebago    16225.017470      89513.591802\n",
       " 100      203    Woodford   179572.070306     125543.965929\n",
       " \n",
       " [101 rows x 4 columns],\n",
       "     CNTYFIPS        CNTY  SoyAcres_Pred  SoyAcres_Actual\n",
       " 0        001       Adams  251120.937179    142194.759798\n",
       " 1        003   Alexander   38574.412195     43641.865536\n",
       " 2        005        Bond   99946.363052     74617.602581\n",
       " 3        007       Boone  108204.786817     53845.686650\n",
       " 4        009       Brown   65980.947380     37645.603839\n",
       " ..       ...         ...            ...              ...\n",
       " 96       195   Whiteside  147295.765732    111266.152488\n",
       " 97       197        Will  177725.291101    112571.603654\n",
       " 98       199  Williamson   43031.733500     32712.336099\n",
       " 99       201   Winnebago  138758.709773     61882.279892\n",
       " 100      203    Woodford   63813.840115    116847.350020\n",
       " \n",
       " [101 rows x 4 columns],\n",
       "    YR  Sum_Corn_Pred  Sum_Corn_Actual  Sum_Soy_Pred  Sum_Soy_Actual  \\\n",
       " 0  22   7.592771e+06     1.018812e+07  1.270695e+07    9.913685e+06   \n",
       " \n",
       "       Diff_Corn      Diff_Soy  Diff_Corn_Percent  Diff_Soy_Percent  \n",
       " 0 -2.595351e+06  2.793262e+06         -25.474279         28.175819  )"
      ]
     },
     "execution_count": 31,
     "metadata": {},
     "output_type": "execute_result"
    }
   ],
   "source": [
    "results_s2_22"
   ]
  },
  {
   "cell_type": "code",
   "execution_count": 32,
   "metadata": {},
   "outputs": [
    {
     "name": "stdout",
     "output_type": "stream",
     "text": [
      "[LightGBM] [Warning] Auto-choosing col-wise multi-threading, the overhead of testing was 0.064006 seconds.\n",
      "You can set `force_col_wise=true` to remove the overhead.\n",
      "[LightGBM] [Info] Total Bins 22950\n",
      "[LightGBM] [Info] Number of data points in the train set: 653148, number of used features: 90\n",
      "[LightGBM] [Info] Start training from score -0.812734\n",
      "[LightGBM] [Info] Start training from score -2.303854\n",
      "[LightGBM] [Info] Start training from score -0.784204\n",
      "Accuracy test set:  0.7627420959963255\n",
      "Confusion Matrix test set:  [[43080  1032 13639]\n",
      " [  970 11238   864]\n",
      " [13445  1043 45319]]\n",
      "Accuracy new set:  0.6306966541110514\n",
      "Confusion Matrix new set:  [[114535   4549 147574]\n",
      " [  6148  45750  15551]\n",
      " [ 52428   6410 237052]]\n",
      "   YR  Sum_Corn_Pred  Sum_Corn_Actual  Sum_Soy_Pred  Sum_Soy_Actual  \\\n",
      "0  22   7.369578e+06     1.018812e+07  1.286580e+07    9.913685e+06   \n",
      "\n",
      "      Diff_Corn      Diff_Soy  Diff_Corn_Percent  Diff_Soy_Percent  \n",
      "0 -2.818543e+06  2.952116e+06         -27.664995         29.778192  \n"
     ]
    }
   ],
   "source": [
    "results_s2_22_lgb = ml_model_base(df = csb22_s2_2022, csbdf = csb22, model = 'lgb', yr = 22, X = X_s2_2021, Y = Y_s2_2021, test_size = 0.2, Xnew = X_s2_2022, Ynew = Y_s2_2022)"
   ]
  },
  {
   "cell_type": "markdown",
   "metadata": {},
   "source": [
    "## Preidct 2023"
   ]
  },
  {
   "cell_type": "code",
   "execution_count": 33,
   "metadata": {},
   "outputs": [
    {
     "name": "stdout",
     "output_type": "stream",
     "text": [
      "Accuracy test set:  0.7672777777777777\n",
      "Confusion Matrix test set:  [[39499   939 12746]\n",
      " [ 1086 10958  1554]\n",
      " [11694  1304 46220]]\n"
     ]
    }
   ],
   "source": [
    "results_s2_23 = ml_model_base(df = csb22_s2_2023, csbdf = csb22, model = 'rf', yr = 23, X = X_s2_2022, Y = Y_s2_2022, test_size = 0.2, Xnew = X_s2_2023, Ynew = None)"
   ]
  },
  {
   "cell_type": "code",
   "execution_count": 52,
   "metadata": {},
   "outputs": [
    {
     "data": {
      "text/plain": [
       "8807235.785148835"
      ]
     },
     "execution_count": 52,
     "metadata": {},
     "output_type": "execute_result"
    }
   ],
   "source": [
    "results_s2_23[6]['CornAcres_Pred'].sum()"
   ]
  },
  {
   "cell_type": "code",
   "execution_count": 53,
   "metadata": {},
   "outputs": [
    {
     "data": {
      "text/plain": [
       "12563798.785462404"
      ]
     },
     "execution_count": 53,
     "metadata": {},
     "output_type": "execute_result"
    }
   ],
   "source": [
    "results_s2_23[7]['SoyAcres_Pred'].sum()"
   ]
  },
  {
   "cell_type": "code",
   "execution_count": 34,
   "metadata": {},
   "outputs": [
    {
     "name": "stdout",
     "output_type": "stream",
     "text": [
      "[LightGBM] [Warning] Auto-choosing col-wise multi-threading, the overhead of testing was 0.058249 seconds.\n",
      "You can set `force_col_wise=true` to remove the overhead.\n",
      "[LightGBM] [Info] Total Bins 22950\n",
      "[LightGBM] [Info] Number of data points in the train set: 629997, number of used features: 90\n",
      "[LightGBM] [Info] Start training from score -0.859748\n",
      "[LightGBM] [Info] Start training from score -2.234343\n",
      "[LightGBM] [Info] Start training from score -0.755727\n",
      "Accuracy test set:  0.7320396825396825\n",
      "Confusion Matrix test set:  [[36694  1092 15398]\n",
      " [ 1028 10790  1780]\n",
      " [12954  1511 44753]]\n"
     ]
    }
   ],
   "source": [
    "results_s2_23_lgb = ml_model_base(df = csb22_s2_2023, csbdf = csb22, model = 'lgb', yr = 23, X = X_s2_2022, Y = Y_s2_2022, test_size = 0.2, Xnew = X_s2_2023, Ynew = None)"
   ]
  },
  {
   "cell_type": "code",
   "execution_count": 54,
   "metadata": {},
   "outputs": [
    {
     "data": {
      "text/plain": [
       "8268369.9690918"
      ]
     },
     "execution_count": 54,
     "metadata": {},
     "output_type": "execute_result"
    }
   ],
   "source": [
    "results_s2_23_lgb[6]['CornAcres_Pred'].sum()"
   ]
  },
  {
   "cell_type": "code",
   "execution_count": 55,
   "metadata": {},
   "outputs": [
    {
     "data": {
      "text/plain": [
       "13072777.743138136"
      ]
     },
     "execution_count": 55,
     "metadata": {},
     "output_type": "execute_result"
    }
   ],
   "source": [
    "results_s2_23_lgb[7]['SoyAcres_Pred'].sum()"
   ]
  },
  {
   "cell_type": "markdown",
   "metadata": {},
   "source": [
    "# Early Season Prediction (June Prediction)\n",
    "Use both CSB data and Sentinel-2 data for prediction"
   ]
  },
  {
   "cell_type": "code",
   "execution_count": 35,
   "metadata": {},
   "outputs": [],
   "source": [
    "# 2021\n",
    "df1_2021 = pd.concat([csb22['CSBID'], X_5_21], axis=1)\n",
    "# Merge with X_s2_2021\n",
    "csb_s2_2021 = pd.merge(df1_2021, csb22_s2_2021, how = \"inner\", left_on=['CSBID'], right_on=['CSBID'])\n",
    "# X and Y\n",
    "X_csb_s2_2021 = csb_s2_2021.drop(['CSBID', 'R21'], axis = 1)\n",
    "Y_csb_s2_2021 = csb_s2_2021['R21']"
   ]
  },
  {
   "cell_type": "code",
   "execution_count": 36,
   "metadata": {},
   "outputs": [],
   "source": [
    "# 2022\n",
    "df1_2022 = pd.concat([csb22['CSBID'], X_5_22], axis=1)\n",
    "# Merge with X_s2_2022\n",
    "csb_s2_2022 = pd.merge(df1_2022, csb22_s2_2022, how = \"inner\", left_on=['CSBID'], right_on=['CSBID'])\n",
    "# X and Y\n",
    "X_csb_s2_2022 = csb_s2_2022.drop(['CSBID', 'R22'], axis = 1)\n",
    "Y_csb_s2_2022 = csb_s2_2022['R22']"
   ]
  },
  {
   "cell_type": "code",
   "execution_count": 37,
   "metadata": {},
   "outputs": [],
   "source": [
    "# 2023\n",
    "df1_2023 = pd.concat([csb22['CSBID'], X_5_23], axis=1)\n",
    "# Merge with X_s2_2023\n",
    "csb_s2_2023 = pd.merge(df1_2023, csb22_s2_2023, how = \"inner\", left_on=['CSBID'], right_on=['CSBID'])\n",
    "# X and Y\n",
    "X_csb_s2_2023 = csb_s2_2023.drop(['CSBID','R22'], axis = 1)"
   ]
  },
  {
   "cell_type": "markdown",
   "metadata": {},
   "source": [
    "## Predict 2022"
   ]
  },
  {
   "cell_type": "code",
   "execution_count": 38,
   "metadata": {},
   "outputs": [
    {
     "name": "stdout",
     "output_type": "stream",
     "text": [
      "Accuracy new set:  0.7910878940693369\n",
      "Confusion Matrix new set:  [[217691   2785  46182]\n",
      " [ 10267  45505  11677]\n",
      " [ 56974   3729 235187]]\n",
      "   YR  Sum_Corn_Pred  Sum_Corn_Actual  Sum_Soy_Pred  Sum_Soy_Actual  \\\n",
      "0  22   1.047846e+07     1.018812e+07  9.839210e+06    9.913685e+06   \n",
      "\n",
      "       Diff_Corn      Diff_Soy  Diff_Corn_Percent  Diff_Soy_Percent  \n",
      "0  290335.794549 -74474.483995           2.849748         -0.751229  \n"
     ]
    }
   ],
   "source": [
    "results_csb_s2_22 = ml_model_base(df = csb22_s2_2022, csbdf = csb22, model = 'rf', yr = 22, X = X_csb_s2_2021, Y = Y_csb_s2_2021, test_size = 0, Xnew = X_csb_s2_2022, Ynew = Y_csb_s2_2022)"
   ]
  },
  {
   "cell_type": "code",
   "execution_count": 39,
   "metadata": {},
   "outputs": [
    {
     "name": "stdout",
     "output_type": "stream",
     "text": [
      "[LightGBM] [Warning] Auto-choosing col-wise multi-threading, the overhead of testing was 0.070373 seconds.\n",
      "You can set `force_col_wise=true` to remove the overhead.\n",
      "[LightGBM] [Info] Total Bins 23253\n",
      "[LightGBM] [Info] Number of data points in the train set: 653148, number of used features: 115\n",
      "[LightGBM] [Info] Start training from score -0.812734\n",
      "[LightGBM] [Info] Start training from score -2.303854\n",
      "[LightGBM] [Info] Start training from score -0.784204\n",
      "Accuracy test set:  0.8346780984459925\n",
      "Confusion Matrix test set:  [[47995   912  8844]\n",
      " [ 1049 11345   678]\n",
      " [ 9231   882 49694]]\n",
      "Accuracy new set:  0.8052149454679943\n",
      "Confusion Matrix new set:  [[222311   3444  40903]\n",
      " [ 10533  47201   9715]\n",
      " [ 54000   4119 237771]]\n",
      "   YR  Sum_Corn_Pred  Sum_Corn_Actual  Sum_Soy_Pred  Sum_Soy_Actual  \\\n",
      "0  22   1.049223e+07     1.018812e+07  9.799558e+06    9.913685e+06   \n",
      "\n",
      "       Diff_Corn       Diff_Soy  Diff_Corn_Percent  Diff_Soy_Percent  \n",
      "0  304108.534839 -114127.008508           2.984932         -1.151207  \n"
     ]
    }
   ],
   "source": [
    "results_csb_s2_22_lgb = ml_model_base(df = csb22_s2_2022, csbdf = csb22, model = 'lgb', yr = 22, X = X_csb_s2_2021, Y = Y_csb_s2_2021, test_size = 0.2, Xnew = X_csb_s2_2022, Ynew = Y_csb_s2_2022)"
   ]
  },
  {
   "cell_type": "markdown",
   "metadata": {},
   "source": [
    "## Predict 2023"
   ]
  },
  {
   "cell_type": "code",
   "execution_count": 40,
   "metadata": {},
   "outputs": [
    {
     "name": "stdout",
     "output_type": "stream",
     "text": [
      "Accuracy test set:  0.8463095238095238\n",
      "Confusion Matrix test set:  [[44963   760  7461]\n",
      " [ 1036 11518  1044]\n",
      " [ 8084   980 50154]]\n"
     ]
    }
   ],
   "source": [
    "results_csb_s2_23 = ml_model_base(df = csb22_s2_2023, csbdf = csb22, model = 'rf', yr = 23, X = X_csb_s2_2022, Y = Y_csb_s2_2022, test_size = 0.2, Xnew = X_csb_s2_2023, Ynew = None)"
   ]
  },
  {
   "cell_type": "code",
   "execution_count": 56,
   "metadata": {},
   "outputs": [
    {
     "data": {
      "text/plain": [
       "10612437.492631216"
      ]
     },
     "execution_count": 56,
     "metadata": {},
     "output_type": "execute_result"
    }
   ],
   "source": [
    "results_csb_s2_23[6]['CornAcres_Pred'].sum()"
   ]
  },
  {
   "cell_type": "code",
   "execution_count": 57,
   "metadata": {},
   "outputs": [
    {
     "data": {
      "text/plain": [
       "10714716.573759425"
      ]
     },
     "execution_count": 57,
     "metadata": {},
     "output_type": "execute_result"
    }
   ],
   "source": [
    "results_csb_s2_23[7]['SoyAcres_Pred'].sum()"
   ]
  },
  {
   "cell_type": "code",
   "execution_count": 42,
   "metadata": {},
   "outputs": [
    {
     "name": "stdout",
     "output_type": "stream",
     "text": [
      "[LightGBM] [Warning] Auto-choosing col-wise multi-threading, the overhead of testing was 0.068217 seconds.\n",
      "You can set `force_col_wise=true` to remove the overhead.\n",
      "[LightGBM] [Info] Total Bins 23253\n",
      "[LightGBM] [Info] Number of data points in the train set: 629997, number of used features: 115\n",
      "[LightGBM] [Info] Start training from score -0.859748\n",
      "[LightGBM] [Info] Start training from score -2.234343\n",
      "[LightGBM] [Info] Start training from score -0.755727\n",
      "Accuracy test set:  0.8314761904761905\n",
      "Confusion Matrix test set:  [[43942   917  8325]\n",
      " [ 1166 11402  1030]\n",
      " [ 8693  1103 49422]]\n"
     ]
    }
   ],
   "source": [
    "results_csb_s2_23_lgb = ml_model_base(df = csb22_s2_2023, csbdf = csb22, model = 'lgb', yr = 23, X = X_csb_s2_2022, Y = Y_csb_s2_2022, test_size = 0.2, Xnew = X_csb_s2_2023, Ynew = None)"
   ]
  },
  {
   "cell_type": "code",
   "execution_count": 58,
   "metadata": {},
   "outputs": [
    {
     "data": {
      "text/plain": [
       "(653148, 92)"
      ]
     },
     "execution_count": 58,
     "metadata": {},
     "output_type": "execute_result"
    }
   ],
   "source": [
    "csb22_s2_2023.shape"
   ]
  },
  {
   "cell_type": "code",
   "execution_count": 44,
   "metadata": {},
   "outputs": [
    {
     "data": {
      "text/plain": [
       "10761351.538655693"
      ]
     },
     "execution_count": 44,
     "metadata": {},
     "output_type": "execute_result"
    }
   ],
   "source": [
    "results_csb_s2_23_lgb[6]['CornAcres_Pred'].sum()"
   ]
  },
  {
   "cell_type": "code",
   "execution_count": 46,
   "metadata": {},
   "outputs": [
    {
     "data": {
      "text/plain": [
       "10550614.750560826"
      ]
     },
     "execution_count": 46,
     "metadata": {},
     "output_type": "execute_result"
    }
   ],
   "source": [
    "results_csb_s2_23_lgb[7]['SoyAcres_Pred'].sum()"
   ]
  }
 ],
 "metadata": {
  "kernelspec": {
   "display_name": "ET_Project",
   "language": "python",
   "name": "python3"
  },
  "language_info": {
   "codemirror_mode": {
    "name": "ipython",
    "version": 3
   },
   "file_extension": ".py",
   "mimetype": "text/x-python",
   "name": "python",
   "nbconvert_exporter": "python",
   "pygments_lexer": "ipython3",
   "version": "3.7.12"
  },
  "orig_nbformat": 4
 },
 "nbformat": 4,
 "nbformat_minor": 2
}
