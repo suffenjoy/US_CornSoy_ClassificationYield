{
 "cells": [
  {
   "cell_type": "code",
   "execution_count": 1,
   "metadata": {},
   "outputs": [],
   "source": [
    "import geopandas as gpd\n",
    "import pandas as pd\n",
    "import numpy as np\n",
    "import matplotlib.pyplot as plt\n",
    "import os\n",
    "import sys\n",
    "from sklearn import preprocessing\n",
    "from collections import Counter\n",
    "import glob\n",
    "from scipy import stats"
   ]
  },
  {
   "cell_type": "code",
   "execution_count": 2,
   "metadata": {},
   "outputs": [],
   "source": [
    "from sklearn.model_selection import train_test_split\n",
    "from sklearn.metrics import accuracy_score\n",
    "from sklearn.metrics import confusion_matrix\n",
    "from sklearn.metrics import classification_report\n",
    "from sklearn.ensemble import RandomForestClassifier\n",
    "from sklearn.ensemble import GradientBoostingClassifier\n",
    "from sklearn.preprocessing import LabelEncoder\n",
    "from sklearn.metrics import classification_report\n",
    "import seaborn as sns\n",
    "import lightgbm as lgb\n",
    "import xgboost as xgb"
   ]
  },
  {
   "cell_type": "code",
   "execution_count": 3,
   "metadata": {},
   "outputs": [],
   "source": [
    "from utils import *\n",
    "# sys.path.append(r\"A:\\US_CornSoy_ClassificationYield\\Scripts\\US_CornSoy_ClassificationYield\")\n",
    "# from utils import *"
   ]
  },
  {
   "cell_type": "code",
   "execution_count": 4,
   "metadata": {},
   "outputs": [],
   "source": [
    "from importlib import reload\n",
    "reload(sys.modules['utils'])\n",
    "from utils import *"
   ]
  },
  {
   "cell_type": "markdown",
   "metadata": {},
   "source": [
    "# Read data"
   ]
  },
  {
   "cell_type": "code",
   "execution_count": 5,
   "metadata": {},
   "outputs": [],
   "source": [
    "# Shapefiles\n",
    "path_csb22 = r\"A:\\US_CornSoy_ClassificationYield\\Geodata\\Vectors\\csb_MN_2022.shp\"\n",
    "csb22 = gpd.read_file(path_csb22)"
   ]
  },
  {
   "cell_type": "code",
   "execution_count": 6,
   "metadata": {},
   "outputs": [],
   "source": [
    "dir_usda = r\"D:\\US_CornSoy_ClassificationYield\\TabularData\"\n",
    "usda_area = pd.read_csv(os.path.join(dir_usda, \"US_County_CornSoy_Area.csv\"))"
   ]
  },
  {
   "cell_type": "markdown",
   "metadata": {},
   "source": [
    "# Preprocess"
   ]
  },
  {
   "cell_type": "markdown",
   "metadata": {},
   "source": [
    "## USDA Area"
   ]
  },
  {
   "cell_type": "code",
   "execution_count": 7,
   "metadata": {},
   "outputs": [],
   "source": [
    "state_area = usda_area[usda_area['Geo Level'] == 'STATE']\n",
    "cnty_area = usda_area[usda_area['Geo Level'] == 'COUNTY']\n",
    "#SUBSET COLUMNS\n",
    "state_area = state_area[['Year', 'State', 'State ANSI', 'Commodity', 'Value']]\n",
    "cnty_area = cnty_area[['Year', 'State', 'State ANSI', 'County', 'County ANSI', 'Commodity', 'Value']]\n",
    "#Rename Columns\n",
    "state_area.columns = ['Year', 'State', 'StateANSI', 'Crop', 'AreaAcres_usda']\n",
    "cnty_area.columns = ['Year', 'State', 'StateANSI', 'County', 'CntyANSI', 'Crop', 'AreaAcres_usda']\n",
    "#remove rows whose CntyANSI column is NaN\n",
    "cnty_area = cnty_area.dropna(subset=['CntyANSI']) \n",
    "#convert CntyANSI to int with no decimal, and fill with leading zeros to make 3 digits\n",
    "cnty_area['CntyANSI'] = cnty_area['CntyANSI'].astype(int).astype(str).str.zfill(3)\n",
    "#convert State and County and Crop column to be uppercase for only the first letter\n",
    "cnty_area['State'] = cnty_area['State'].str.title()\n",
    "cnty_area['County'] = cnty_area['County'].str.title()\n",
    "cnty_area['Crop'] = cnty_area['Crop'].str.title()\n",
    "state_area['State'] = state_area['State'].str.title()\n",
    "state_area['Crop'] = state_area['Crop'].str.title()\n",
    "#remove comma in AreaAcres_usda column, and convert AreaAcres_usda to float\n",
    "cnty_area['AreaAcres_usda'] = cnty_area['AreaAcres_usda'].str.replace(',', '').astype(float)\n",
    "state_area['AreaAcres_usda'] = state_area['AreaAcres_usda'].str.replace(',', '').astype(float)\n",
    "#convert Soybeans to Soybean\n",
    "cnty_area['Crop'] = cnty_area['Crop'].str.replace('Soybeans', 'Soybean')\n",
    "state_area['Crop'] = state_area['Crop'].str.replace('Soybeans', 'Soybean')"
   ]
  },
  {
   "cell_type": "markdown",
   "metadata": {},
   "source": [
    "## CSB data"
   ]
  },
  {
   "cell_type": "code",
   "execution_count": 8,
   "metadata": {},
   "outputs": [],
   "source": [
    "#subset columns \n",
    "csb22 = csb22[['CSBID','CSBACRES','R15', 'R16', 'R17', 'R18', 'R19','R20', 'R21', 'R22', 'CNTY','CNTYFIPS', 'STATEASD']]\n",
    "#set CNTYFIPS to string\n",
    "csb22['CNTYFIPS'] = csb22['CNTYFIPS'].astype(str)\n",
    "csb22['STATEASD'] = csb22['STATEASD'].astype(str)\n",
    "csb22.head()\n",
    "# reclassify R15-R22 to three classes \n",
    "def tri_classes(value):\n",
    "    if value == 1:\n",
    "        return 'Corn'\n",
    "    elif value == 5:\n",
    "        return 'Soybean'\n",
    "    else:\n",
    "        return 'Other'\n",
    "csb22[['R15', 'R16', 'R17', 'R18', 'R19','R20', 'R21', 'R22']] = csb22[['R15', 'R16', 'R17', 'R18', 'R19','R20', 'R21', 'R22']].applymap(tri_classes)"
   ]
  },
  {
   "cell_type": "code",
   "execution_count": 9,
   "metadata": {},
   "outputs": [
    {
     "name": "stdout",
     "output_type": "stream",
     "text": [
      "(771877, 13)\n",
      "[('Other', 292179), ('Corn', 251164), ('Soybean', 228534)]\n",
      "[('Other', 264040), ('Corn', 262553), ('Soybean', 245284)]\n",
      "[('Other', 293657), ('Corn', 247808), ('Soybean', 230412)]\n",
      "[('Other', 319506), ('Corn', 244500), ('Soybean', 207871)]\n",
      "[('Other', 285377), ('Soybean', 244483), ('Corn', 242017)]\n",
      "[('Other', 275024), ('Soybean', 255683), ('Corn', 241170)]\n",
      "[('Other', 289276), ('Corn', 252618), ('Soybean', 229983)]\n",
      "[('Other', 307430), ('Corn', 240765), ('Soybean', 223682)]\n"
     ]
    }
   ],
   "source": [
    "print(csb22.shape)\n",
    "print(Counter(csb22['R22']).most_common(5))\n",
    "print(Counter(csb22['R21']).most_common(5))\n",
    "print(Counter(csb22['R20']).most_common(5))\n",
    "print(Counter(csb22['R19']).most_common(5))\n",
    "print(Counter(csb22['R18']).most_common(5))\n",
    "print(Counter(csb22['R17']).most_common(5))\n",
    "print(Counter(csb22['R16']).most_common(5))\n",
    "print(Counter(csb22['R15']).most_common(5))"
   ]
  },
  {
   "cell_type": "markdown",
   "metadata": {},
   "source": [
    "## Compare with USDA Area \n",
    "\n",
    "- Need to change state name in plots when copying the code to different states"
   ]
  },
  {
   "cell_type": "code",
   "execution_count": 10,
   "metadata": {},
   "outputs": [
    {
     "data": {
      "text/html": [
       "<div>\n",
       "<style scoped>\n",
       "    .dataframe tbody tr th:only-of-type {\n",
       "        vertical-align: middle;\n",
       "    }\n",
       "\n",
       "    .dataframe tbody tr th {\n",
       "        vertical-align: top;\n",
       "    }\n",
       "\n",
       "    .dataframe thead th {\n",
       "        text-align: right;\n",
       "    }\n",
       "</style>\n",
       "<table border=\"1\" class=\"dataframe\">\n",
       "  <thead>\n",
       "    <tr style=\"text-align: right;\">\n",
       "      <th></th>\n",
       "      <th>CNTYFIPS</th>\n",
       "      <th>CNTY</th>\n",
       "      <th>CSBACRES</th>\n",
       "    </tr>\n",
       "  </thead>\n",
       "  <tbody>\n",
       "    <tr>\n",
       "      <th>0</th>\n",
       "      <td>001</td>\n",
       "      <td>Aitkin</td>\n",
       "      <td>2150.322322</td>\n",
       "    </tr>\n",
       "    <tr>\n",
       "      <th>1</th>\n",
       "      <td>003</td>\n",
       "      <td>Anoka</td>\n",
       "      <td>5509.947774</td>\n",
       "    </tr>\n",
       "    <tr>\n",
       "      <th>2</th>\n",
       "      <td>005</td>\n",
       "      <td>Becker</td>\n",
       "      <td>72112.583602</td>\n",
       "    </tr>\n",
       "    <tr>\n",
       "      <th>3</th>\n",
       "      <td>007</td>\n",
       "      <td>Beltrami</td>\n",
       "      <td>5925.735775</td>\n",
       "    </tr>\n",
       "    <tr>\n",
       "      <th>4</th>\n",
       "      <td>009</td>\n",
       "      <td>Benton</td>\n",
       "      <td>62700.653021</td>\n",
       "    </tr>\n",
       "  </tbody>\n",
       "</table>\n",
       "</div>"
      ],
      "text/plain": [
       "  CNTYFIPS      CNTY      CSBACRES\n",
       "0      001    Aitkin   2150.322322\n",
       "1      003     Anoka   5509.947774\n",
       "2      005    Becker  72112.583602\n",
       "3      007  Beltrami   5925.735775\n",
       "4      009    Benton  62700.653021"
      ]
     },
     "execution_count": 10,
     "metadata": {},
     "output_type": "execute_result"
    }
   ],
   "source": [
    "agg_corn22_cnty = csb22[csb22['R22'] == 'Corn'].groupby(['CNTYFIPS', 'CNTY']).agg({'CSBACRES':'sum'}).reset_index()\n",
    "agg_soy22_cnty = csb22[csb22['R22'] == 'Soybean'].groupby(['CNTYFIPS', 'CNTY']).agg({'CSBACRES':'sum'}).reset_index()\n",
    "agg_corn22_cnty.head()"
   ]
  },
  {
   "cell_type": "code",
   "execution_count": 68,
   "metadata": {},
   "outputs": [],
   "source": [
    "# Need to change the state name \n",
    "compare_corn22_cnty = pd.merge(agg_corn22_cnty, cnty_area[(cnty_area.Crop == 'Corn')&(cnty_area.Year==2022)&(cnty_area.State=='Minnesota')], how = \"inner\", left_on=['CNTYFIPS','CNTY'], right_on=['CntyANSI','County'])\n",
    "compare_soy22_cnty = pd.merge(agg_soy22_cnty, cnty_area[(cnty_area.Crop == 'Soybean')&(cnty_area.Year==2022)&(cnty_area.State=='Minnesota')], how = \"inner\", left_on=['CNTYFIPS','CNTY'], right_on=['CntyANSI','County'])"
   ]
  },
  {
   "cell_type": "code",
   "execution_count": 69,
   "metadata": {},
   "outputs": [
    {
     "name": "stdout",
     "output_type": "stream",
     "text": [
      "r2 (corn)=  0.9967039854725288\n",
      "Total area of corn in CSB =  7441051.050847352\n",
      "Total area of corn in USDA =  7162000.0\n",
      "Diffrence of total area of corn in CSB and USDA =  279051.05084735155\n",
      "Percentage of total area of corn in CSB and USDA =  0.03896272701024177\n",
      "r2 (soybean)=  0.9978890716651282\n",
      "Total area of soybean in CSB =  6798735.538382644\n",
      "Total area of soybean in USDA =  6495000.0\n",
      "Diffrence of total area of soybean in CSB and USDA =  303735.53838264383\n",
      "Percentage of total area of soybean in CSB and USDA =  0.04676451707200059\n"
     ]
    },
    {
     "data": {
      "image/png": "[encoded data removed]",
      "text/plain": [
       "<Figure size 1440x720 with 2 Axes>"
      ]
     },
     "metadata": {
      "needs_background": "light"
     },
     "output_type": "display_data"
    }
   ],
   "source": [
    "# Plot the comparison of CSBACRES and AreaAcres_usda for corn and soybean in two subplots\n",
    "fig, (ax1, ax2) = plt.subplots(1, 2, figsize=(20, 10))\n",
    "ax1.scatter(compare_corn22_cnty['CSBACRES'], compare_corn22_cnty['AreaAcres_usda'], color='red')\n",
    "ax1.set_title('Corn 2022 (Minnesota)')\n",
    "ax1.set_xlabel('CSB Area (acres)')\n",
    "ax1.set_ylabel('USDA Area (acres)')\n",
    "#add 1:1 line\n",
    "x = np.linspace(*ax1.get_xlim())\n",
    "ax1.plot(x, x, color='black', linestyle='--')\n",
    "#calculate and print out the r2\n",
    "r2 = np.corrcoef(compare_corn22_cnty['CSBACRES'], compare_corn22_cnty['AreaAcres_usda'])[0,1]**2\n",
    "print('r2 (corn)= ', r2)\n",
    "#Calculate the total area of corn in CSB and USDA\n",
    "print('Total area of corn in CSB = ', compare_corn22_cnty['CSBACRES'].sum())\n",
    "print('Total area of corn in USDA = ', compare_corn22_cnty['AreaAcres_usda'].sum())\n",
    "#Calculate the diffrence and percentage of the total area of corn in CSB and USDA\n",
    "print('Diffrence of total area of corn in CSB and USDA = ', compare_corn22_cnty['CSBACRES'].sum() - compare_corn22_cnty['AreaAcres_usda'].sum())\n",
    "print('Percentage of total area of corn in CSB and USDA = ', (compare_corn22_cnty['CSBACRES'].sum() - compare_corn22_cnty['AreaAcres_usda'].sum())/compare_corn22_cnty['AreaAcres_usda'].sum())\n",
    "\n",
    "ax2.scatter(compare_soy22_cnty['CSBACRES'], compare_soy22_cnty['AreaAcres_usda'], color='blue')\n",
    "ax2.set_title('Soybean 2022 (Minnesota)')\n",
    "ax2.set_xlabel('CSB Area (acres)')\n",
    "ax2.set_ylabel('USDA Area (acres)')\n",
    "#add 1:1 line\n",
    "x = np.linspace(*ax2.get_xlim())\n",
    "ax2.plot(x, x, color='black', linestyle='--')\n",
    "#calculate and print out the r2\n",
    "r2 = np.corrcoef(compare_soy22_cnty['CSBACRES'], compare_soy22_cnty['AreaAcres_usda'])[0,1]**2\n",
    "print('r2 (soybean)= ', r2)\n",
    "#Calculate the total area of soybean in CSB and USDA\n",
    "print('Total area of soybean in CSB = ', compare_soy22_cnty['CSBACRES'].sum())\n",
    "print('Total area of soybean in USDA = ', compare_soy22_cnty['AreaAcres_usda'].sum())\n",
    "#Calculate the diffrence and percentage of the total area of soybean in CSB and USDA\n",
    "print('Diffrence of total area of soybean in CSB and USDA = ', compare_soy22_cnty['CSBACRES'].sum() - compare_soy22_cnty['AreaAcres_usda'].sum())\n",
    "print('Percentage of total area of soybean in CSB and USDA = ', (compare_soy22_cnty['CSBACRES'].sum() - compare_soy22_cnty['AreaAcres_usda'].sum())/compare_soy22_cnty['AreaAcres_usda'].sum())\n",
    "\n",
    "plt.show()"
   ]
  },
  {
   "cell_type": "markdown",
   "metadata": {},
   "source": [
    "# GEE Time Series"
   ]
  },
  {
   "cell_type": "markdown",
   "metadata": {},
   "source": [
    "## 2023"
   ]
  },
  {
   "cell_type": "code",
   "execution_count": 13,
   "metadata": {},
   "outputs": [],
   "source": [
    "s2_23 = pd.read_csv('A:\\\\US_CornSoy_ClassificationYield\\\\GEEData\\\\s2_ts_2023_MN.csv')"
   ]
  },
  {
   "cell_type": "code",
   "execution_count": 14,
   "metadata": {},
   "outputs": [],
   "source": [
    "_, df_interp_2023 = clean_gee(s2_23) #took about 23mins to run "
   ]
  },
  {
   "cell_type": "code",
   "execution_count": 15,
   "metadata": {},
   "outputs": [],
   "source": [
    "df_wide_2023 = long_to_wide(df_interp_2023, Output = True, path_out = r\"A:\\US_CornSoy_ClassificationYield\\Processed_Data\\S2VIs_wide_2023_MN.csv\") #5mins to run"
   ]
  },
  {
   "cell_type": "markdown",
   "metadata": {},
   "source": [
    "## 2022"
   ]
  },
  {
   "cell_type": "code",
   "execution_count": 16,
   "metadata": {},
   "outputs": [],
   "source": [
    "s2_22 = pd.read_csv('A:\\\\US_CornSoy_ClassificationYield\\\\GEEData\\\\s2_ts_2022_MN.csv') #1min"
   ]
  },
  {
   "cell_type": "code",
   "execution_count": 17,
   "metadata": {},
   "outputs": [],
   "source": [
    "_, df_interp_2022 = clean_gee(s2_22) #took about 38mins to run"
   ]
  },
  {
   "cell_type": "code",
   "execution_count": 18,
   "metadata": {},
   "outputs": [],
   "source": [
    "df_wide_2022 = long_to_wide(df_interp_2022, Output = True, path_out = r\"A:\\US_CornSoy_ClassificationYield\\Processed_Data\\S2VIs_wide_2022_MN.csv\") #5mins to run "
   ]
  },
  {
   "cell_type": "markdown",
   "metadata": {},
   "source": [
    "## 2021"
   ]
  },
  {
   "cell_type": "code",
   "execution_count": 19,
   "metadata": {},
   "outputs": [],
   "source": [
    "s2_21 = pd.read_csv('D:\\\\US_CornSoy_ClassificationYield\\\\GEEData\\\\s2_ts_2021_MN.csv') #1min"
   ]
  },
  {
   "cell_type": "code",
   "execution_count": 20,
   "metadata": {},
   "outputs": [],
   "source": [
    "_, df_interp_2021 = clean_gee(s2_21) #took about 23mins to run"
   ]
  },
  {
   "cell_type": "code",
   "execution_count": 21,
   "metadata": {},
   "outputs": [],
   "source": [
    "df_wide_2021 = long_to_wide(df_interp_2021, Output = True, path_out = r\"D:\\US_CornSoy_ClassificationYield\\Processed_Data\\S2VIs_wide_2021_MN.csv\") #5mins to run "
   ]
  },
  {
   "cell_type": "markdown",
   "metadata": {},
   "source": [
    "# Preseason Prediction (March)\n",
    "Only use the crop rotation data, field area and ASD (location information) from CSB for prediction "
   ]
  },
  {
   "cell_type": "code",
   "execution_count": 22,
   "metadata": {},
   "outputs": [],
   "source": [
    "X_5_21, Y_21 = preprocess_csb(csb22, n_var = 5, yr = 21)\n",
    "X_5_22, Y_22 = preprocess_csb(csb22, n_var = 5, yr = 22)\n",
    "X_5_23 = preprocess_csb(csb22, n_var = 5, yr = 23)"
   ]
  },
  {
   "cell_type": "markdown",
   "metadata": {},
   "source": [
    "## Predict 2022"
   ]
  },
  {
   "cell_type": "code",
   "execution_count": 23,
   "metadata": {},
   "outputs": [
    {
     "name": "stdout",
     "output_type": "stream",
     "text": [
      "Accuracy new set:  0.6411669216727536\n",
      "Confusion Matrix new set:  [[160320  40211  50633]\n",
      " [ 43021 197644  51514]\n",
      " [ 54310  37286 136938]]\n",
      "   YR  Sum_Corn_Pred  Sum_Corn_Actual  Sum_Soy_Pred  Sum_Soy_Actual  \\\n",
      "0  22   8.551230e+06     8.308697e+06  7.909391e+06    7.794031e+06   \n",
      "\n",
      "       Diff_Corn       Diff_Soy  Diff_Corn_Percent  Diff_Soy_Percent  \n",
      "0  242533.432274  115360.498413           2.919031          1.480113  \n"
     ]
    }
   ],
   "source": [
    "results_pre_22 = ml_model_base(df = csb22, csbdf = csb22, model = 'rf', yr = 22, X = X_5_21, Y = Y_21, test_size = 0, Xnew = X_5_22, Ynew = Y_22)"
   ]
  },
  {
   "cell_type": "code",
   "execution_count": 24,
   "metadata": {},
   "outputs": [
    {
     "data": {
      "text/plain": [
       "(RandomForestClassifier(random_state=777),\n",
       " array([0, 1, 1, ..., 0, 0, 0]),\n",
       " 0.6411669216727536,\n",
       " array([[160320,  40211,  50633],\n",
       "        [ 43021, 197644,  51514],\n",
       "        [ 54310,  37286, 136938]], dtype=int64),\n",
       "    CNTYFIPS             CNTY  CornAcres_Pred  CornAcres_Actual\n",
       " 0       001           Aitkin     3183.799213       2150.322322\n",
       " 1       003            Anoka     6331.806018       5509.947774\n",
       " 2       005           Becker    54236.608048      72112.583602\n",
       " 3       007         Beltrami     6011.494425       5925.735775\n",
       " 4       009           Benton    62972.956494      62700.653021\n",
       " ..      ...              ...             ...               ...\n",
       " 80      165         Watonwan   132781.323956     133550.059096\n",
       " 81      167           Wilkin   163302.285199     121876.429415\n",
       " 82      169           Winona    80706.093488      79982.990434\n",
       " 83      171           Wright    92150.586690      86000.072169\n",
       " 84      173  Yellow Medicine   188969.454493     192936.737420\n",
       " \n",
       " [85 rows x 4 columns],\n",
       "    CNTYFIPS             CNTY  SoyAcres_Pred  SoyAcres_Actual\n",
       " 0       001           Aitkin    8098.872555      4844.475441\n",
       " 1       003            Anoka    5626.713303      6939.437106\n",
       " 2       005           Becker   95502.759817     82204.140469\n",
       " 3       007         Beltrami   25850.034597     23490.930295\n",
       " 4       009           Benton   38958.979864     40257.071866\n",
       " ..      ...              ...            ...              ...\n",
       " 80      165         Watonwan  100715.880732    100716.579575\n",
       " 81      167           Wilkin  162992.725523    158643.432707\n",
       " 82      169           Winona   34403.754625     37408.931264\n",
       " 83      171           Wright   74042.074297     81703.428224\n",
       " 84      173  Yellow Medicine  164591.150128    174781.273031\n",
       " \n",
       " [85 rows x 4 columns],\n",
       "    YR  Sum_Corn_Pred  Sum_Corn_Actual  Sum_Soy_Pred  Sum_Soy_Actual  \\\n",
       " 0  22   8.551230e+06     8.308697e+06  7.909391e+06    7.794031e+06   \n",
       " \n",
       "        Diff_Corn       Diff_Soy  Diff_Corn_Percent  Diff_Soy_Percent  \n",
       " 0  242533.432274  115360.498413           2.919031          1.480113  )"
      ]
     },
     "execution_count": 24,
     "metadata": {},
     "output_type": "execute_result"
    }
   ],
   "source": [
    "results_pre_22"
   ]
  },
  {
   "cell_type": "code",
   "execution_count": 25,
   "metadata": {},
   "outputs": [
    {
     "name": "stdout",
     "output_type": "stream",
     "text": [
      "[LightGBM] [Warning] Auto-choosing row-wise multi-threading, the overhead of testing was 0.003856 seconds.\n",
      "You can set `force_row_wise=true` to remove the overhead.\n",
      "And if memory is not enough, you can set `force_col_wise=true`.\n",
      "[LightGBM] [Info] Total Bins 303\n",
      "[LightGBM] [Info] Number of data points in the train set: 771877, number of used features: 25\n",
      "[LightGBM] [Info] Start training from score -1.078372\n",
      "[LightGBM] [Info] Start training from score -1.072725\n",
      "[LightGBM] [Info] Start training from score -1.146408\n",
      "Accuracy new set:  0.7381059417497866\n",
      "Confusion Matrix new set:  [[183181  28488  39495]\n",
      " [ 29851 223945  38383]\n",
      " [ 37933  28000 162601]]\n",
      "   YR  Sum_Corn_Pred  Sum_Corn_Actual  Sum_Soy_Pred  Sum_Soy_Actual  \\\n",
      "0  22   8.125966e+06     8.308697e+06  8.427087e+06    7.794031e+06   \n",
      "\n",
      "       Diff_Corn       Diff_Soy  Diff_Corn_Percent  Diff_Soy_Percent  \n",
      "0 -182730.924444  633056.398968          -2.199273          8.122323  \n"
     ]
    }
   ],
   "source": [
    "results_pre_22_lgb = ml_model_base(df = csb22, csbdf = csb22, model = 'lgb', yr = 22, X = X_5_21, Y = Y_21, test_size= 0, Xnew = X_5_22, Ynew = Y_22)"
   ]
  },
  {
   "cell_type": "markdown",
   "metadata": {},
   "source": [
    "## Predict 2023"
   ]
  },
  {
   "cell_type": "code",
   "execution_count": 56,
   "metadata": {},
   "outputs": [
    {
     "name": "stdout",
     "output_type": "stream",
     "text": [
      "Accuracy test set:  0.6471472249572472\n",
      "Confusion Matrix test set:  [[31609  8528 10231]\n",
      " [ 8297 41215  8656]\n",
      " [10013  8747 27080]]\n"
     ]
    }
   ],
   "source": [
    "results_pre_23 = ml_model_base(df = csb22, csbdf = csb22, model = 'rf', yr = 23, X = X_5_22, Y = Y_22, test_size = 0.2, Xnew = X_5_23)"
   ]
  },
  {
   "cell_type": "code",
   "execution_count": 59,
   "metadata": {},
   "outputs": [
    {
     "data": {
      "text/plain": [
       "8471617.664462358"
      ]
     },
     "execution_count": 59,
     "metadata": {},
     "output_type": "execute_result"
    }
   ],
   "source": [
    "results_pre_23[6]['CornAcres_Pred'].sum()"
   ]
  },
  {
   "cell_type": "code",
   "execution_count": 61,
   "metadata": {},
   "outputs": [
    {
     "data": {
      "text/plain": [
       "7509153.694115126"
      ]
     },
     "execution_count": 61,
     "metadata": {},
     "output_type": "execute_result"
    }
   ],
   "source": [
    "results_pre_23[7]['SoyAcres_Pred'].sum()"
   ]
  },
  {
   "cell_type": "code",
   "execution_count": 28,
   "metadata": {},
   "outputs": [
    {
     "name": "stdout",
     "output_type": "stream",
     "text": [
      "[LightGBM] [Warning] Auto-choosing row-wise multi-threading, the overhead of testing was 0.003302 seconds.\n",
      "You can set `force_row_wise=true` to remove the overhead.\n",
      "And if memory is not enough, you can set `force_col_wise=true`.\n",
      "[LightGBM] [Info] Total Bins 303\n",
      "[LightGBM] [Info] Number of data points in the train set: 771877, number of used features: 25\n",
      "[LightGBM] [Info] Start training from score -1.122719\n",
      "[LightGBM] [Info] Start training from score -0.971459\n",
      "[LightGBM] [Info] Start training from score -1.217140\n"
     ]
    },
    {
     "name": "stdout",
     "output_type": "stream",
     "text": [
      "Accuracy test set:  0.7466704669119553\n",
      "Confusion Matrix test set:  [[36185  6654  7529]\n",
      " [ 5318 48212  4638]\n",
      " [ 6949  8020 30871]]\n"
     ]
    }
   ],
   "source": [
    "results_pre_23_lgb = ml_model_base(df = csb22, csbdf = csb22, model = 'lgb', yr = 23, X = X_5_22, Y = Y_22, test_size = 0.2, Xnew = X_5_23)"
   ]
  },
  {
   "cell_type": "code",
   "execution_count": 62,
   "metadata": {},
   "outputs": [
    {
     "data": {
      "text/plain": [
       "8092104.607601903"
      ]
     },
     "execution_count": 62,
     "metadata": {},
     "output_type": "execute_result"
    }
   ],
   "source": [
    "results_pre_23_lgb[6]['CornAcres_Pred'].sum()"
   ]
  },
  {
   "cell_type": "code",
   "execution_count": 63,
   "metadata": {},
   "outputs": [
    {
     "data": {
      "text/plain": [
       "7910898.573220334"
      ]
     },
     "execution_count": 63,
     "metadata": {},
     "output_type": "execute_result"
    }
   ],
   "source": [
    "results_pre_23_lgb[7]['SoyAcres_Pred'].sum()"
   ]
  },
  {
   "cell_type": "markdown",
   "metadata": {},
   "source": [
    "# Sentinel-2 Only Prediction (June Prediction)\n",
    "Only Use Sentinel-2 time series data for prediction"
   ]
  },
  {
   "cell_type": "code",
   "execution_count": 29,
   "metadata": {},
   "outputs": [],
   "source": [
    "# Merge with csb22 \n",
    "csb22_s2_2021 = pd.merge(csb22[['CSBID','R21']], df_wide_2021, how = \"inner\", left_on=['CSBID'], right_on=['CSBID'])\n",
    "# Encode the R22 column\n",
    "csb22_s2_2021['R21'] = csb22_s2_2021['R21'].map({'Corn': 0, 'Other': 1, 'Soybean': 2})"
   ]
  },
  {
   "cell_type": "code",
   "execution_count": 30,
   "metadata": {},
   "outputs": [],
   "source": [
    "# Merge with csb22 \n",
    "csb22_s2_2022 = pd.merge(csb22[['CSBID','R22']], df_wide_2022, how = \"inner\", left_on=['CSBID'], right_on=['CSBID'])\n",
    "# Encode the R22 column\n",
    "csb22_s2_2022['R22'] = csb22_s2_2022['R22'].map({'Corn': 0, 'Other': 1, 'Soybean': 2})"
   ]
  },
  {
   "cell_type": "code",
   "execution_count": 31,
   "metadata": {},
   "outputs": [],
   "source": [
    "# Merge with csb22\n",
    "csb22_s2_2023 = pd.merge(csb22[['CSBID','R22']], df_wide_2023, how = \"inner\", left_on=['CSBID'], right_on=['CSBID'])\n",
    "# Encode the R22 column\n",
    "csb22_s2_2023['R22'] = csb22_s2_2023['R22'].map({'Corn': 0, 'Other': 1, 'Soybean': 2})"
   ]
  },
  {
   "cell_type": "code",
   "execution_count": 32,
   "metadata": {},
   "outputs": [],
   "source": [
    "X_s2_2021 = csb22_s2_2021.iloc[:, 2:]\n",
    "Y_s2_2021 = csb22_s2_2021.iloc[:, 1]\n",
    "X_s2_2022 = csb22_s2_2022.iloc[:, 2:]\n",
    "Y_s2_2022 = csb22_s2_2022.iloc[:, 1]\n",
    "X_s2_2023 = csb22_s2_2023.iloc[:, 2:]"
   ]
  },
  {
   "cell_type": "markdown",
   "metadata": {},
   "source": [
    "## Predict 2022"
   ]
  },
  {
   "cell_type": "code",
   "execution_count": 33,
   "metadata": {},
   "outputs": [
    {
     "name": "stdout",
     "output_type": "stream",
     "text": [
      "Accuracy new set:  0.5388449195921112\n",
      "Confusion Matrix new set:  [[ 81294  23833 146037]\n",
      " [ 54474 183998  53707]\n",
      " [ 60617  17287 150630]]\n",
      "   YR  Sum_Corn_Pred  Sum_Corn_Actual  Sum_Soy_Pred  Sum_Soy_Actual  \\\n",
      "0  22   4.552042e+06     8.308697e+06  1.386038e+07    7.794031e+06   \n",
      "\n",
      "      Diff_Corn      Diff_Soy  Diff_Corn_Percent  Diff_Soy_Percent  \n",
      "0 -3.756655e+06  6.066346e+06         -45.213529         77.833227  \n"
     ]
    }
   ],
   "source": [
    "results_s2_22 = ml_model_base(df = csb22_s2_2022, csbdf = csb22, model = 'rf', yr = 22, X = X_s2_2021, Y = Y_s2_2021, test_size = 0, Xnew = X_s2_2022, Ynew = Y_s2_2022)"
   ]
  },
  {
   "cell_type": "code",
   "execution_count": 34,
   "metadata": {},
   "outputs": [
    {
     "data": {
      "text/plain": [
       "(RandomForestClassifier(random_state=777),\n",
       " array([0, 0, 0, ..., 2, 2, 0], dtype=int64),\n",
       " 0.5388449195921112,\n",
       " array([[ 81294,  23833, 146037],\n",
       "        [ 54474, 183998,  53707],\n",
       "        [ 60617,  17287, 150630]], dtype=int64),\n",
       "    CNTYFIPS             CNTY  CornAcres_Pred  CornAcres_Actual\n",
       " 0       001           Aitkin     3007.078003       2150.322322\n",
       " 1       003            Anoka     2889.677026       5509.947774\n",
       " 2       005           Becker    58561.833191      72112.583602\n",
       " 3       007         Beltrami    22376.605913       5925.735775\n",
       " 4       009           Benton    44615.170615      62700.653021\n",
       " ..      ...              ...             ...               ...\n",
       " 80      165         Watonwan    31367.370130     133550.059096\n",
       " 81      167           Wilkin   128602.453060     121876.429415\n",
       " 82      169           Winona    10945.241523      79982.990434\n",
       " 83      171           Wright    57607.277287      86000.072169\n",
       " 84      173  Yellow Medicine    47009.517272     192936.737420\n",
       " \n",
       " [85 rows x 4 columns],\n",
       "    CNTYFIPS             CNTY  SoyAcres_Pred  SoyAcres_Actual\n",
       " 0       001           Aitkin    6811.626934      4844.475441\n",
       " 1       003            Anoka    8224.657696      6939.437106\n",
       " 2       005           Becker  140880.156394     82204.140469\n",
       " 3       007         Beltrami   26057.135740     23490.930295\n",
       " 4       009           Benton   59199.710416     40257.071866\n",
       " ..      ...              ...            ...              ...\n",
       " 80      165         Watonwan  203393.498880    100716.579575\n",
       " 81      167           Wilkin  270290.977268    158643.432707\n",
       " 82      169           Winona   78338.362870     37408.931264\n",
       " 83      171           Wright  106712.988323     81703.428224\n",
       " 84      173  Yellow Medicine  327533.709595    174781.273031\n",
       " \n",
       " [85 rows x 4 columns],\n",
       "    YR  Sum_Corn_Pred  Sum_Corn_Actual  Sum_Soy_Pred  Sum_Soy_Actual  \\\n",
       " 0  22   4.552042e+06     8.308697e+06  1.386038e+07    7.794031e+06   \n",
       " \n",
       "       Diff_Corn      Diff_Soy  Diff_Corn_Percent  Diff_Soy_Percent  \n",
       " 0 -3.756655e+06  6.066346e+06         -45.213529         77.833227  )"
      ]
     },
     "execution_count": 34,
     "metadata": {},
     "output_type": "execute_result"
    }
   ],
   "source": [
    "results_s2_22"
   ]
  },
  {
   "cell_type": "code",
   "execution_count": 35,
   "metadata": {},
   "outputs": [
    {
     "name": "stdout",
     "output_type": "stream",
     "text": [
      "[LightGBM] [Warning] Auto-choosing col-wise multi-threading, the overhead of testing was 0.076286 seconds.\n",
      "You can set `force_col_wise=true` to remove the overhead.\n",
      "[LightGBM] [Info] Total Bins 22950\n",
      "[LightGBM] [Info] Number of data points in the train set: 771877, number of used features: 90\n",
      "[LightGBM] [Info] Start training from score -1.078372\n",
      "[LightGBM] [Info] Start training from score -1.072725\n",
      "[LightGBM] [Info] Start training from score -1.146408\n",
      "Accuracy test set:  0.7483805772918071\n",
      "Confusion Matrix test set:  [[39239  2967 10432]\n",
      " [ 3527 43678  5528]\n",
      " [13011  3379 32615]]\n",
      "Accuracy new set:  0.545199558997094\n",
      "Confusion Matrix new set:  [[ 79477  28145 143542]\n",
      " [ 58765 196738  36676]\n",
      " [ 62148  21774 144612]]\n",
      "   YR  Sum_Corn_Pred  Sum_Corn_Actual  Sum_Soy_Pred  Sum_Soy_Actual  \\\n",
      "0  22   5.277775e+06     8.308697e+06  1.288378e+07    7.793991e+06   \n",
      "\n",
      "      Diff_Corn      Diff_Soy  Diff_Corn_Percent  Diff_Soy_Percent  \n",
      "0 -3.030921e+06  5.089792e+06           -36.4789         65.304059  \n"
     ]
    }
   ],
   "source": [
    "results_s2_22_lgb = ml_model_base(df = csb22_s2_2022, csbdf = csb22, model = 'lgb', yr = 22, X = X_s2_2021, Y = Y_s2_2021, test_size = 0.2, Xnew = X_s2_2022, Ynew = Y_s2_2022)"
   ]
  },
  {
   "cell_type": "markdown",
   "metadata": {},
   "source": [
    "## Predict 2023"
   ]
  },
  {
   "cell_type": "code",
   "execution_count": 57,
   "metadata": {},
   "outputs": [
    {
     "name": "stdout",
     "output_type": "stream",
     "text": [
      "Accuracy test set:  0.7434186661139037\n",
      "Confusion Matrix test set:  [[38224  4055  8089]\n",
      " [ 4487 49361  4320]\n",
      " [12713  5946 27181]]\n"
     ]
    }
   ],
   "source": [
    "results_s2_23 = ml_model_base(df = csb22_s2_2023, csbdf = csb22, model = 'rf', yr = 23, X = X_s2_2022, Y = Y_s2_2022, test_size = 0.2, Xnew = X_s2_2023, Ynew = None)"
   ]
  },
  {
   "cell_type": "code",
   "execution_count": 72,
   "metadata": {},
   "outputs": [
    {
     "data": {
      "text/plain": [
       "8687319.478504868"
      ]
     },
     "execution_count": 72,
     "metadata": {},
     "output_type": "execute_result"
    }
   ],
   "source": [
    "results_s2_23[6]['CornAcres_Pred'].sum()"
   ]
  },
  {
   "cell_type": "code",
   "execution_count": 73,
   "metadata": {},
   "outputs": [
    {
     "data": {
      "text/plain": [
       "6827613.924690878"
      ]
     },
     "execution_count": 73,
     "metadata": {},
     "output_type": "execute_result"
    }
   ],
   "source": [
    "results_s2_23[7]['SoyAcres_Pred'].sum()"
   ]
  },
  {
   "cell_type": "code",
   "execution_count": 39,
   "metadata": {},
   "outputs": [
    {
     "name": "stdout",
     "output_type": "stream",
     "text": [
      "[LightGBM] [Warning] Auto-choosing col-wise multi-threading, the overhead of testing was 0.072960 seconds.\n",
      "You can set `force_col_wise=true` to remove the overhead.\n",
      "[LightGBM] [Info] Total Bins 22950\n",
      "[LightGBM] [Info] Number of data points in the train set: 771877, number of used features: 90\n",
      "[LightGBM] [Info] Start training from score -1.122719\n",
      "[LightGBM] [Info] Start training from score -0.971459\n",
      "[LightGBM] [Info] Start training from score -1.217140\n",
      "Accuracy test set:  0.7023371508524641\n",
      "Confusion Matrix test set:  [[36349  4979  9040]\n",
      " [ 5178 48270  4720]\n",
      " [14460  7575 23805]]\n"
     ]
    }
   ],
   "source": [
    "results_s2_23_lgb = ml_model_base(df = csb22_s2_2023, csbdf = csb22, model = 'lgb', yr = 23, X = X_s2_2022, Y = Y_s2_2022, test_size = 0.2, Xnew = X_s2_2023, Ynew = None)"
   ]
  },
  {
   "cell_type": "code",
   "execution_count": 77,
   "metadata": {},
   "outputs": [
    {
     "data": {
      "text/plain": [
       "9307098.716370108"
      ]
     },
     "execution_count": 77,
     "metadata": {},
     "output_type": "execute_result"
    }
   ],
   "source": [
    "results_s2_23_lgb[6]['CornAcres_Pred'].sum()"
   ]
  },
  {
   "cell_type": "code",
   "execution_count": 78,
   "metadata": {},
   "outputs": [
    {
     "data": {
      "text/plain": [
       "6558532.027528318"
      ]
     },
     "execution_count": 78,
     "metadata": {},
     "output_type": "execute_result"
    }
   ],
   "source": [
    "results_s2_23_lgb[7]['SoyAcres_Pred'].sum()"
   ]
  },
  {
   "cell_type": "markdown",
   "metadata": {},
   "source": [
    "# Early Season Prediction (June Prediction)\n",
    "Use both CSB data and Sentinel-2 data for prediction"
   ]
  },
  {
   "cell_type": "code",
   "execution_count": 41,
   "metadata": {},
   "outputs": [],
   "source": [
    "# 2021\n",
    "df1_2021 = pd.concat([csb22['CSBID'], X_5_21], axis=1)\n",
    "# Merge with X_s2_2021\n",
    "csb_s2_2021 = pd.merge(df1_2021, csb22_s2_2021, how = \"inner\", left_on=['CSBID'], right_on=['CSBID'])\n",
    "# X and Y\n",
    "X_csb_s2_2021 = csb_s2_2021.drop(['CSBID', 'R21'], axis = 1)\n",
    "Y_csb_s2_2021 = csb_s2_2021['R21']"
   ]
  },
  {
   "cell_type": "code",
   "execution_count": 42,
   "metadata": {},
   "outputs": [],
   "source": [
    "# 2022\n",
    "df1_2022 = pd.concat([csb22['CSBID'], X_5_22], axis=1)\n",
    "# Merge with X_s2_2022\n",
    "csb_s2_2022 = pd.merge(df1_2022, csb22_s2_2022, how = \"inner\", left_on=['CSBID'], right_on=['CSBID'])\n",
    "# X and Y\n",
    "X_csb_s2_2022 = csb_s2_2022.drop(['CSBID', 'R22'], axis = 1)\n",
    "Y_csb_s2_2022 = csb_s2_2022['R22']"
   ]
  },
  {
   "cell_type": "code",
   "execution_count": 43,
   "metadata": {},
   "outputs": [],
   "source": [
    "# 2023\n",
    "df1_2023 = pd.concat([csb22['CSBID'], X_5_23], axis=1)\n",
    "# Merge with X_s2_2023\n",
    "csb_s2_2023 = pd.merge(df1_2023, csb22_s2_2023, how = \"inner\", left_on=['CSBID'], right_on=['CSBID'])\n",
    "# X and Y\n",
    "X_csb_s2_2023 = csb_s2_2023.drop(['CSBID','R22'], axis = 1)"
   ]
  },
  {
   "cell_type": "markdown",
   "metadata": {},
   "source": [
    "## Predict 2022"
   ]
  },
  {
   "cell_type": "code",
   "execution_count": null,
   "metadata": {},
   "outputs": [],
   "source": [
    "results_csb_s2_22 = ml_model_base(df = csb22_s2_2022, csbdf = csb22, model = 'rf', yr = 22, X = X_csb_s2_2021, Y = Y_csb_s2_2021, test_size = 0.2, Xnew = X_csb_s2_2022, Ynew = Y_csb_s2_2022)"
   ]
  },
  {
   "cell_type": "code",
   "execution_count": 83,
   "metadata": {},
   "outputs": [
    {
     "data": {
      "text/plain": [
       "(771877, 92)"
      ]
     },
     "execution_count": 83,
     "metadata": {},
     "output_type": "execute_result"
    }
   ],
   "source": [
    "csb22_s2_2022.shape"
   ]
  },
  {
   "cell_type": "code",
   "execution_count": 45,
   "metadata": {},
   "outputs": [
    {
     "data": {
      "text/plain": [
       "(RandomForestClassifier(random_state=777),\n",
       " array([1, 1, 1, ..., 0, 2, 0], dtype=int64),\n",
       " 0.7080635904425187,\n",
       " array([[178133,  15611,  57420],\n",
       "        [ 29969, 197913,  64297],\n",
       "        [ 44185,  13857, 170492]], dtype=int64),\n",
       "    CNTYFIPS             CNTY  CornAcres_Pred  CornAcres_Actual\n",
       " 0       001           Aitkin     2961.413905       2150.322322\n",
       " 1       003            Anoka     5225.017995       5509.947774\n",
       " 2       005           Becker    58132.096191      72112.583602\n",
       " 3       007         Beltrami    12974.298632       5925.735775\n",
       " 4       009           Benton    67052.283605      62700.653021\n",
       " ..      ...              ...             ...               ...\n",
       " 80      165         Watonwan   118590.993100     133550.059096\n",
       " 81      167           Wilkin   166679.395817     121876.429415\n",
       " 82      169           Winona    62594.076704      79982.990434\n",
       " 83      171           Wright    91350.084233      86000.072169\n",
       " 84      173  Yellow Medicine   187344.182496     192936.737420\n",
       " \n",
       " [85 rows x 4 columns],\n",
       "    CNTYFIPS             CNTY  SoyAcres_Pred  SoyAcres_Actual\n",
       " 0       001           Aitkin    6950.541959      4844.475441\n",
       " 1       003            Anoka    6732.999463      6939.437106\n",
       " 2       005           Becker  134251.976368     82204.140469\n",
       " 3       007         Beltrami   31488.530357     23490.930295\n",
       " 4       009           Benton   41567.271185     40257.071866\n",
       " ..      ...              ...            ...              ...\n",
       " 80      165         Watonwan  118284.918125    100716.579575\n",
       " 81      167           Wilkin  229104.867324    158643.432707\n",
       " 82      169           Winona   50108.577559     37408.931264\n",
       " 83      171           Wright   76838.864809     81703.428224\n",
       " 84      173  Yellow Medicine  188539.014068    174781.273031\n",
       " \n",
       " [85 rows x 4 columns],\n",
       "    YR  Sum_Corn_Pred  Sum_Corn_Actual  Sum_Soy_Pred  Sum_Soy_Actual  \\\n",
       " 0  22   8.148678e+06     8.308697e+06  1.027537e+07    7.794031e+06   \n",
       " \n",
       "        Diff_Corn      Diff_Soy  Diff_Corn_Percent  Diff_Soy_Percent  \n",
       " 0 -160018.800454  2.481342e+06          -1.925919         31.836446  )"
      ]
     },
     "execution_count": 45,
     "metadata": {},
     "output_type": "execute_result"
    }
   ],
   "source": [
    "results_csb_s2_22"
   ]
  },
  {
   "cell_type": "code",
   "execution_count": 46,
   "metadata": {},
   "outputs": [
    {
     "name": "stdout",
     "output_type": "stream",
     "text": [
      "[LightGBM] [Warning] Auto-choosing col-wise multi-threading, the overhead of testing was 0.080381 seconds.\n",
      "You can set `force_col_wise=true` to remove the overhead.\n",
      "[LightGBM] [Info] Total Bins 23253\n",
      "[LightGBM] [Info] Number of data points in the train set: 771877, number of used features: 115\n",
      "[LightGBM] [Info] Start training from score -1.078372\n",
      "[LightGBM] [Info] Start training from score -1.072725\n",
      "[LightGBM] [Info] Start training from score -1.146408\n",
      "Accuracy test set:  0.8011931906513966\n",
      "Confusion Matrix test set:  [[41774  2510  8354]\n",
      " [ 3583 44333  4817]\n",
      " [ 8344  3083 37578]]\n",
      "Accuracy new set:  0.7395802699134707\n",
      "Confusion Matrix new set:  [[183706  16032  51426]\n",
      " [ 27397 208898  55884]\n",
      " [ 32917  17356 178261]]\n",
      "   YR  Sum_Corn_Pred  Sum_Corn_Actual  Sum_Soy_Pred  Sum_Soy_Actual  \\\n",
      "0  22   8.077358e+06     8.308697e+06  9.847833e+06    7.794031e+06   \n",
      "\n",
      "      Diff_Corn      Diff_Soy  Diff_Corn_Percent  Diff_Soy_Percent  \n",
      "0 -231338.20377  2.053803e+06           -2.78429         26.350967  \n"
     ]
    }
   ],
   "source": [
    "results_csb_s2_22_lgb = ml_model_base(df = csb22_s2_2022, csbdf = csb22, model = 'lgb', yr = 22, X = X_csb_s2_2021, Y = Y_csb_s2_2021, test_size = 0.2, Xnew = X_csb_s2_2022, Ynew = Y_csb_s2_2022)"
   ]
  },
  {
   "cell_type": "markdown",
   "metadata": {},
   "source": [
    "## Predict 2023"
   ]
  },
  {
   "cell_type": "code",
   "execution_count": 48,
   "metadata": {},
   "outputs": [
    {
     "name": "stdout",
     "output_type": "stream",
     "text": [
      "Accuracy test set:  0.8158910711509562\n",
      "Confusion Matrix test set:  [[41432  2989  5947]\n",
      " [ 4060 50607  3501]\n",
      " [ 6939  4986 33915]]\n"
     ]
    }
   ],
   "source": [
    "results_csb_s2_23 = ml_model_base(df = csb22_s2_2023, csbdf = csb22, model = 'rf', yr = 23, X = X_csb_s2_2022, Y = Y_csb_s2_2022, test_size = 0.2, Xnew = X_csb_s2_2023, Ynew = None)"
   ]
  },
  {
   "cell_type": "code",
   "execution_count": 79,
   "metadata": {},
   "outputs": [
    {
     "data": {
      "text/plain": [
       "8226342.07211278"
      ]
     },
     "execution_count": 79,
     "metadata": {},
     "output_type": "execute_result"
    }
   ],
   "source": [
    "results_csb_s2_23[6]['CornAcres_Pred'].sum()"
   ]
  },
  {
   "cell_type": "code",
   "execution_count": 80,
   "metadata": {},
   "outputs": [
    {
     "data": {
      "text/plain": [
       "7158015.423819657"
      ]
     },
     "execution_count": 80,
     "metadata": {},
     "output_type": "execute_result"
    }
   ],
   "source": [
    "results_csb_s2_23[7]['SoyAcres_Pred'].sum()"
   ]
  },
  {
   "cell_type": "code",
   "execution_count": 50,
   "metadata": {},
   "outputs": [
    {
     "name": "stdout",
     "output_type": "stream",
     "text": [
      "[LightGBM] [Warning] Auto-choosing col-wise multi-threading, the overhead of testing was 0.074705 seconds.\n",
      "You can set `force_col_wise=true` to remove the overhead.\n",
      "[LightGBM] [Info] Total Bins 23253\n",
      "[LightGBM] [Info] Number of data points in the train set: 771877, number of used features: 115\n",
      "[LightGBM] [Info] Start training from score -1.122719\n",
      "[LightGBM] [Info] Start training from score -0.971459\n",
      "[LightGBM] [Info] Start training from score -1.217140\n",
      "Accuracy test set:  0.7838329792195678\n",
      "Confusion Matrix test set:  [[39715  3669  6984]\n",
      " [ 4859 48988  4321]\n",
      " [ 7375  6163 32302]]\n"
     ]
    }
   ],
   "source": [
    "results_csb_s2_23_lgb = ml_model_base(df = csb22_s2_2023, csbdf = csb22, model = 'lgb', yr = 23, X = X_csb_s2_2022, Y = Y_csb_s2_2022, test_size = 0.2, Xnew = X_csb_s2_2023, Ynew = None)"
   ]
  },
  {
   "cell_type": "code",
   "execution_count": 81,
   "metadata": {},
   "outputs": [
    {
     "data": {
      "text/plain": [
       "8383033.515057176"
      ]
     },
     "execution_count": 81,
     "metadata": {},
     "output_type": "execute_result"
    }
   ],
   "source": [
    "results_csb_s2_23_lgb[6]['CornAcres_Pred'].sum()"
   ]
  },
  {
   "cell_type": "code",
   "execution_count": 82,
   "metadata": {},
   "outputs": [
    {
     "data": {
      "text/plain": [
       "7823631.629823085"
      ]
     },
     "execution_count": 82,
     "metadata": {},
     "output_type": "execute_result"
    }
   ],
   "source": [
    "results_csb_s2_23_lgb[7]['SoyAcres_Pred'].sum()"
   ]
  }
 ],
 "metadata": {
  "kernelspec": {
   "display_name": "ET_Project",
   "language": "python",
   "name": "python3"
  },
  "language_info": {
   "codemirror_mode": {
    "name": "ipython",
    "version": 3
   },
   "file_extension": ".py",
   "mimetype": "text/x-python",
   "name": "python",
   "nbconvert_exporter": "python",
   "pygments_lexer": "ipython3",
   "version": "3.7.12"
  },
  "orig_nbformat": 4
 },
 "nbformat": 4,
 "nbformat_minor": 2
}
