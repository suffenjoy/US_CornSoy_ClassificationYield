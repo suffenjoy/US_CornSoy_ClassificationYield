{
 "cells": [
  {
   "cell_type": "code",
   "execution_count": 2,
   "metadata": {},
   "outputs": [],
   "source": [
    "import geopandas as gpd\n",
    "import pandas as pd\n",
    "import numpy as np\n",
    "import matplotlib.pyplot as plt\n",
    "import os\n",
    "import glob\n",
    "from datetime import datetime\n",
    "import calendar\n",
    "import fiona"
   ]
  },
  {
   "cell_type": "markdown",
   "metadata": {},
   "source": [
    "# Read GEE data"
   ]
  },
  {
   "cell_type": "code",
   "execution_count": 50,
   "metadata": {},
   "outputs": [
    {
     "data": {
      "text/plain": [
       "['C:\\\\Users\\\\tangz\\\\Desktop\\\\US_CornSoy_ClassificationYield\\\\GEEData\\\\s2_ts_2021_IL.csv',\n",
       " 'C:\\\\Users\\\\tangz\\\\Desktop\\\\US_CornSoy_ClassificationYield\\\\GEEData\\\\s2_ts_2022_IL.csv',\n",
       " 'C:\\\\Users\\\\tangz\\\\Desktop\\\\US_CornSoy_ClassificationYield\\\\GEEData\\\\s2_ts_2023_IL.csv']"
      ]
     },
     "execution_count": 50,
     "metadata": {},
     "output_type": "execute_result"
    }
   ],
   "source": [
    "dir_gee = r\"C:\\Users\\tangz\\Desktop\\US_CornSoy_ClassificationYield\\GEEData\"\n",
    "PATH_S2 = glob.glob(os.path.join(dir_gee, \"S2*.csv\"))\n",
    "PATH_S2"
   ]
  },
  {
   "cell_type": "code",
   "execution_count": 51,
   "metadata": {},
   "outputs": [],
   "source": [
    "df_2023 = pd.read_csv('C:\\\\Users\\\\tangz\\\\Desktop\\\\US_CornSoy_ClassificationYield\\\\GEEData\\\\s2_ts_2023_IL.csv')"
   ]
  },
  {
   "cell_type": "code",
   "execution_count": null,
   "metadata": {},
   "outputs": [],
   "source": []
  },
  {
   "cell_type": "code",
   "execution_count": 37,
   "metadata": {},
   "outputs": [
    {
     "data": {
      "text/html": [
       "<div>\n",
       "<style scoped>\n",
       "    .dataframe tbody tr th:only-of-type {\n",
       "        vertical-align: middle;\n",
       "    }\n",
       "\n",
       "    .dataframe tbody tr th {\n",
       "        vertical-align: top;\n",
       "    }\n",
       "\n",
       "    .dataframe thead th {\n",
       "        text-align: right;\n",
       "    }\n",
       "</style>\n",
       "<table border=\"1\" class=\"dataframe\">\n",
       "  <thead>\n",
       "    <tr style=\"text-align: right;\">\n",
       "      <th></th>\n",
       "      <th>B11</th>\n",
       "      <th>B12</th>\n",
       "      <th>B2</th>\n",
       "      <th>B3</th>\n",
       "      <th>B4</th>\n",
       "      <th>B5</th>\n",
       "      <th>B6</th>\n",
       "      <th>B7</th>\n",
       "      <th>B8</th>\n",
       "      <th>CNTY</th>\n",
       "      <th>CSBACRES</th>\n",
       "      <th>CSBID</th>\n",
       "      <th>Date</th>\n",
       "    </tr>\n",
       "  </thead>\n",
       "  <tbody>\n",
       "    <tr>\n",
       "      <th>0</th>\n",
       "      <td>0.084938</td>\n",
       "      <td>0.087876</td>\n",
       "      <td>0.938261</td>\n",
       "      <td>0.910396</td>\n",
       "      <td>0.910328</td>\n",
       "      <td>0.914724</td>\n",
       "      <td>0.890018</td>\n",
       "      <td>0.859706</td>\n",
       "      <td>0.909358</td>\n",
       "      <td>McLean</td>\n",
       "      <td>16.104088</td>\n",
       "      <td>171522007807993</td>\n",
       "      <td>2022-01-03</td>\n",
       "    </tr>\n",
       "    <tr>\n",
       "      <th>1</th>\n",
       "      <td>0.088674</td>\n",
       "      <td>0.090536</td>\n",
       "      <td>0.860714</td>\n",
       "      <td>0.846939</td>\n",
       "      <td>0.853107</td>\n",
       "      <td>0.861001</td>\n",
       "      <td>0.841714</td>\n",
       "      <td>0.818077</td>\n",
       "      <td>0.867266</td>\n",
       "      <td>McLean</td>\n",
       "      <td>31.945160</td>\n",
       "      <td>171522007807810</td>\n",
       "      <td>2022-01-03</td>\n",
       "    </tr>\n",
       "    <tr>\n",
       "      <th>2</th>\n",
       "      <td>0.102222</td>\n",
       "      <td>0.104262</td>\n",
       "      <td>0.793342</td>\n",
       "      <td>0.792903</td>\n",
       "      <td>0.811309</td>\n",
       "      <td>0.819792</td>\n",
       "      <td>0.803143</td>\n",
       "      <td>0.784491</td>\n",
       "      <td>0.832835</td>\n",
       "      <td>McLean</td>\n",
       "      <td>5.224200</td>\n",
       "      <td>171522007807829</td>\n",
       "      <td>2022-01-03</td>\n",
       "    </tr>\n",
       "    <tr>\n",
       "      <th>3</th>\n",
       "      <td>0.089174</td>\n",
       "      <td>0.090322</td>\n",
       "      <td>0.829021</td>\n",
       "      <td>0.816888</td>\n",
       "      <td>0.826646</td>\n",
       "      <td>0.836504</td>\n",
       "      <td>0.818319</td>\n",
       "      <td>0.796927</td>\n",
       "      <td>0.844610</td>\n",
       "      <td>McLean</td>\n",
       "      <td>46.208765</td>\n",
       "      <td>171522007807867</td>\n",
       "      <td>2022-01-03</td>\n",
       "    </tr>\n",
       "    <tr>\n",
       "      <th>4</th>\n",
       "      <td>0.083845</td>\n",
       "      <td>0.082804</td>\n",
       "      <td>0.672182</td>\n",
       "      <td>0.657361</td>\n",
       "      <td>0.661786</td>\n",
       "      <td>0.681860</td>\n",
       "      <td>0.662598</td>\n",
       "      <td>0.648355</td>\n",
       "      <td>0.684199</td>\n",
       "      <td>McLean</td>\n",
       "      <td>4.031501</td>\n",
       "      <td>171522007808186</td>\n",
       "      <td>2022-01-03</td>\n",
       "    </tr>\n",
       "  </tbody>\n",
       "</table>\n",
       "</div>"
      ],
      "text/plain": [
       "        B11       B12        B2        B3        B4        B5        B6  \\\n",
       "0  0.084938  0.087876  0.938261  0.910396  0.910328  0.914724  0.890018   \n",
       "1  0.088674  0.090536  0.860714  0.846939  0.853107  0.861001  0.841714   \n",
       "2  0.102222  0.104262  0.793342  0.792903  0.811309  0.819792  0.803143   \n",
       "3  0.089174  0.090322  0.829021  0.816888  0.826646  0.836504  0.818319   \n",
       "4  0.083845  0.082804  0.672182  0.657361  0.661786  0.681860  0.662598   \n",
       "\n",
       "         B7        B8    CNTY   CSBACRES            CSBID       Date  \n",
       "0  0.859706  0.909358  McLean  16.104088  171522007807993 2022-01-03  \n",
       "1  0.818077  0.867266  McLean  31.945160  171522007807810 2022-01-03  \n",
       "2  0.784491  0.832835  McLean   5.224200  171522007807829 2022-01-03  \n",
       "3  0.796927  0.844610  McLean  46.208765  171522007807867 2022-01-03  \n",
       "4  0.648355  0.684199  McLean   4.031501  171522007808186 2022-01-03  "
      ]
     },
     "execution_count": 37,
     "metadata": {},
     "output_type": "execute_result"
    }
   ],
   "source": [
    "path_csv = r\"C:\\Users\\tangz\\Downloads\\s2_ts_2022.csv\"\n",
    "df = pd.read_csv(path_csv)\n",
    "# clean \n",
    "# system:index column convert to date using the first 10 characters of the index\n",
    "df['Date'] = df['system:index'].str[:8]\n",
    "# convert to datetime\n",
    "df['Date'] = pd.to_datetime(df['Date'], format='%Y%m%d')\n",
    "# Drop system:index column\n",
    "df = df.drop(columns=['system:index'])\n",
    "# Drop .geo column\n",
    "df = df.drop(columns=['.geo'])\n",
    "#change colunm type of CSBACRES and CSBID\n",
    "df['CSBACRES'] = df['CSBACRES'].astype('float64')\n",
    "df['CSBID'] = df['CSBID'].astype('str')\n",
    "df.head()"
   ]
  },
  {
   "cell_type": "markdown",
   "metadata": {},
   "source": [
    "# Read Geodata"
   ]
  },
  {
   "cell_type": "code",
   "execution_count": 6,
   "metadata": {},
   "outputs": [
    {
     "name": "stdout",
     "output_type": "stream",
     "text": [
      "nationalGIS\n"
     ]
    }
   ],
   "source": [
    "# dir_csb = r\"C:\\Users\\tangz\\Desktop\\US_CornSoy_ClassificationYield\\GeoData\\CSB1522.gdb\"\n",
    "# layers = fiona.listlayers(dir_csb)\n",
    "# for layer in layers:\n",
    "#     print(layer)"
   ]
  },
  {
   "cell_type": "code",
   "execution_count": 7,
   "metadata": {},
   "outputs": [],
   "source": [
    "IL = gpd.read_file(r\"C:\\Users\\tangz\\Desktop\\US_CornSoy_ClassificationYield\\GeoData\\Vectors\\csb_IL_2022.shp\")"
   ]
  },
  {
   "cell_type": "code",
   "execution_count": 38,
   "metadata": {},
   "outputs": [],
   "source": [
    "Mclean = gpd.read_file(r\"C:\\Users\\tangz\\Desktop\\US_CornSoy_ClassificationYield\\GeoData\\Vectors\\csb_IL_2022_McLean.shp\")\n",
    "Mclean['CSBID'] = Mclean['CSBID'].astype('str')"
   ]
  },
  {
   "cell_type": "code",
   "execution_count": 46,
   "metadata": {},
   "outputs": [
    {
     "name": "stdout",
     "output_type": "stream",
     "text": [
      "(653148, 22)\n",
      "(9720, 22)\n"
     ]
    }
   ],
   "source": [
    "print(IL.shape);print(Mclean.shape)"
   ]
  },
  {
   "cell_type": "code",
   "execution_count": 47,
   "metadata": {},
   "outputs": [
    {
     "data": {
      "text/plain": [
       "67.1962962962963"
      ]
     },
     "execution_count": 47,
     "metadata": {},
     "output_type": "execute_result"
    }
   ],
   "source": [
    "653148/9720"
   ]
  },
  {
   "cell_type": "markdown",
   "metadata": {},
   "source": [
    "# Merge together"
   ]
  },
  {
   "cell_type": "code",
   "execution_count": 45,
   "metadata": {},
   "outputs": [
    {
     "name": "stdout",
     "output_type": "stream",
     "text": [
      "How many NAs in the dataframe: 0\n"
     ]
    },
    {
     "data": {
      "text/html": [
       "<div>\n",
       "<style scoped>\n",
       "    .dataframe tbody tr th:only-of-type {\n",
       "        vertical-align: middle;\n",
       "    }\n",
       "\n",
       "    .dataframe tbody tr th {\n",
       "        vertical-align: top;\n",
       "    }\n",
       "\n",
       "    .dataframe thead th {\n",
       "        text-align: right;\n",
       "    }\n",
       "</style>\n",
       "<table border=\"1\" class=\"dataframe\">\n",
       "  <thead>\n",
       "    <tr style=\"text-align: right;\">\n",
       "      <th></th>\n",
       "      <th>B11</th>\n",
       "      <th>B12</th>\n",
       "      <th>B2</th>\n",
       "      <th>B3</th>\n",
       "      <th>B4</th>\n",
       "      <th>B5</th>\n",
       "      <th>B6</th>\n",
       "      <th>B7</th>\n",
       "      <th>B8</th>\n",
       "      <th>CNTY</th>\n",
       "      <th>...</th>\n",
       "      <th>Date</th>\n",
       "      <th>R15</th>\n",
       "      <th>R16</th>\n",
       "      <th>R17</th>\n",
       "      <th>R18</th>\n",
       "      <th>R19</th>\n",
       "      <th>R20</th>\n",
       "      <th>R21</th>\n",
       "      <th>R22</th>\n",
       "      <th>STATEASD</th>\n",
       "    </tr>\n",
       "  </thead>\n",
       "  <tbody>\n",
       "    <tr>\n",
       "      <th>0</th>\n",
       "      <td>0.084938</td>\n",
       "      <td>0.087876</td>\n",
       "      <td>0.938261</td>\n",
       "      <td>0.910396</td>\n",
       "      <td>0.910328</td>\n",
       "      <td>0.914724</td>\n",
       "      <td>0.890018</td>\n",
       "      <td>0.859706</td>\n",
       "      <td>0.909358</td>\n",
       "      <td>McLean</td>\n",
       "      <td>...</td>\n",
       "      <td>2022-01-03</td>\n",
       "      <td>1</td>\n",
       "      <td>5</td>\n",
       "      <td>24</td>\n",
       "      <td>1</td>\n",
       "      <td>5</td>\n",
       "      <td>5</td>\n",
       "      <td>1</td>\n",
       "      <td>229</td>\n",
       "      <td>1740</td>\n",
       "    </tr>\n",
       "    <tr>\n",
       "      <th>1</th>\n",
       "      <td>0.088674</td>\n",
       "      <td>0.090536</td>\n",
       "      <td>0.860714</td>\n",
       "      <td>0.846939</td>\n",
       "      <td>0.853107</td>\n",
       "      <td>0.861001</td>\n",
       "      <td>0.841714</td>\n",
       "      <td>0.818077</td>\n",
       "      <td>0.867266</td>\n",
       "      <td>McLean</td>\n",
       "      <td>...</td>\n",
       "      <td>2022-01-03</td>\n",
       "      <td>1</td>\n",
       "      <td>5</td>\n",
       "      <td>1</td>\n",
       "      <td>5</td>\n",
       "      <td>1</td>\n",
       "      <td>5</td>\n",
       "      <td>1</td>\n",
       "      <td>5</td>\n",
       "      <td>1740</td>\n",
       "    </tr>\n",
       "    <tr>\n",
       "      <th>2</th>\n",
       "      <td>0.102222</td>\n",
       "      <td>0.104262</td>\n",
       "      <td>0.793342</td>\n",
       "      <td>0.792903</td>\n",
       "      <td>0.811309</td>\n",
       "      <td>0.819792</td>\n",
       "      <td>0.803143</td>\n",
       "      <td>0.784491</td>\n",
       "      <td>0.832835</td>\n",
       "      <td>McLean</td>\n",
       "      <td>...</td>\n",
       "      <td>2022-01-03</td>\n",
       "      <td>1</td>\n",
       "      <td>5</td>\n",
       "      <td>5</td>\n",
       "      <td>5</td>\n",
       "      <td>5</td>\n",
       "      <td>5</td>\n",
       "      <td>1</td>\n",
       "      <td>5</td>\n",
       "      <td>1740</td>\n",
       "    </tr>\n",
       "    <tr>\n",
       "      <th>3</th>\n",
       "      <td>0.089174</td>\n",
       "      <td>0.090322</td>\n",
       "      <td>0.829021</td>\n",
       "      <td>0.816888</td>\n",
       "      <td>0.826646</td>\n",
       "      <td>0.836504</td>\n",
       "      <td>0.818319</td>\n",
       "      <td>0.796927</td>\n",
       "      <td>0.844610</td>\n",
       "      <td>McLean</td>\n",
       "      <td>...</td>\n",
       "      <td>2022-01-03</td>\n",
       "      <td>1</td>\n",
       "      <td>5</td>\n",
       "      <td>1</td>\n",
       "      <td>5</td>\n",
       "      <td>1</td>\n",
       "      <td>5</td>\n",
       "      <td>1</td>\n",
       "      <td>5</td>\n",
       "      <td>1740</td>\n",
       "    </tr>\n",
       "    <tr>\n",
       "      <th>4</th>\n",
       "      <td>0.083845</td>\n",
       "      <td>0.082804</td>\n",
       "      <td>0.672182</td>\n",
       "      <td>0.657361</td>\n",
       "      <td>0.661786</td>\n",
       "      <td>0.681860</td>\n",
       "      <td>0.662598</td>\n",
       "      <td>0.648355</td>\n",
       "      <td>0.684199</td>\n",
       "      <td>McLean</td>\n",
       "      <td>...</td>\n",
       "      <td>2022-01-03</td>\n",
       "      <td>1</td>\n",
       "      <td>5</td>\n",
       "      <td>1</td>\n",
       "      <td>5</td>\n",
       "      <td>5</td>\n",
       "      <td>5</td>\n",
       "      <td>1</td>\n",
       "      <td>5</td>\n",
       "      <td>1740</td>\n",
       "    </tr>\n",
       "  </tbody>\n",
       "</table>\n",
       "<p>5 rows × 22 columns</p>\n",
       "</div>"
      ],
      "text/plain": [
       "        B11       B12        B2        B3        B4        B5        B6  \\\n",
       "0  0.084938  0.087876  0.938261  0.910396  0.910328  0.914724  0.890018   \n",
       "1  0.088674  0.090536  0.860714  0.846939  0.853107  0.861001  0.841714   \n",
       "2  0.102222  0.104262  0.793342  0.792903  0.811309  0.819792  0.803143   \n",
       "3  0.089174  0.090322  0.829021  0.816888  0.826646  0.836504  0.818319   \n",
       "4  0.083845  0.082804  0.672182  0.657361  0.661786  0.681860  0.662598   \n",
       "\n",
       "         B7        B8    CNTY  ...       Date R15 R16  R17  R18  R19  R20  \\\n",
       "0  0.859706  0.909358  McLean  ... 2022-01-03   1   5   24    1    5    5   \n",
       "1  0.818077  0.867266  McLean  ... 2022-01-03   1   5    1    5    1    5   \n",
       "2  0.784491  0.832835  McLean  ... 2022-01-03   1   5    5    5    5    5   \n",
       "3  0.796927  0.844610  McLean  ... 2022-01-03   1   5    1    5    1    5   \n",
       "4  0.648355  0.684199  McLean  ... 2022-01-03   1   5    1    5    5    5   \n",
       "\n",
       "   R21  R22  STATEASD  \n",
       "0    1  229      1740  \n",
       "1    1    5      1740  \n",
       "2    1    5      1740  \n",
       "3    1    5      1740  \n",
       "4    1    5      1740  \n",
       "\n",
       "[5 rows x 22 columns]"
      ]
     },
     "execution_count": 45,
     "metadata": {},
     "output_type": "execute_result"
    }
   ],
   "source": [
    "# Merge with the GEE data\n",
    "select_columns = ['CSBID', 'CSBACRES', 'R15', 'R16', 'R17', 'R18', 'R19','R20','R21','R22','STATEASD', 'CNTY']\n",
    "df_Mclean = pd.merge(df, Mclean[select_columns], how='left', on=['CNTY', 'CSBACRES', 'CSBID'])\n",
    "print(\"How many NAs in the dataframe: \" + str(df_Mclean.isnull().sum().sum()))\n",
    "df_Mclean.head()"
   ]
  },
  {
   "cell_type": "code",
   "execution_count": 10,
   "metadata": {},
   "outputs": [
    {
     "data": {
      "text/plain": [
       "Index(['CSBID', 'CSBYEARS', 'CSBACRES', 'R15', 'R16', 'R17', 'R18', 'R19',\n",
       "       'R20', 'R21', 'R22', 'STATEFIPS', 'STATEASD', 'ASD', 'CNTY', 'CNTYFIPS',\n",
       "       'INSIDE_X', 'INSIDE_Y', 'Shape_Leng', 'Shape_Le_1', 'Shape_Area',\n",
       "       'geometry'],\n",
       "      dtype='object')"
      ]
     },
     "execution_count": 10,
     "metadata": {},
     "output_type": "execute_result"
    }
   ],
   "source": [
    "Mclean.columns"
   ]
  },
  {
   "cell_type": "code",
   "execution_count": 8,
   "metadata": {},
   "outputs": [
    {
     "name": "stdout",
     "output_type": "stream",
     "text": [
      "(653148, 22)\n",
      "(653148,)\n"
     ]
    }
   ],
   "source": [
    "print(IL.shape)\n",
    "print(IL['CSBID'].unique().shape)"
   ]
  },
  {
   "cell_type": "code",
   "execution_count": 5,
   "metadata": {},
   "outputs": [
    {
     "data": {
      "text/plain": [
       "Index(['CSBID', 'CSBYEARS', 'CSBACRES', 'R15', 'R16', 'R17', 'R18', 'R19',\n",
       "       'R20', 'R21', 'R22', 'STATEFIPS', 'STATEASD', 'ASD', 'CNTY', 'CNTYFIPS',\n",
       "       'INSIDE_X', 'INSIDE_Y', 'Shape_Leng', 'Shape_Le_1', 'Shape_Area',\n",
       "       'geometry'],\n",
       "      dtype='object')"
      ]
     },
     "execution_count": 5,
     "metadata": {},
     "output_type": "execute_result"
    }
   ],
   "source": [
    "Mclean.columns"
   ]
  }
 ],
 "metadata": {
  "kernelspec": {
   "display_name": "geospatial",
   "language": "python",
   "name": "python3"
  },
  "language_info": {
   "codemirror_mode": {
    "name": "ipython",
    "version": 3
   },
   "file_extension": ".py",
   "mimetype": "text/x-python",
   "name": "python",
   "nbconvert_exporter": "python",
   "pygments_lexer": "ipython3",
   "version": "3.8.17"
  },
  "orig_nbformat": 4
 },
 "nbformat": 4,
 "nbformat_minor": 2
}
